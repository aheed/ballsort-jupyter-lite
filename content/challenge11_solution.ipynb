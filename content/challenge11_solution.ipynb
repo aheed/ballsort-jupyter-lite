{
  "metadata": {
    "kernelspec": {
      "display_name": "Python (Pyodide)",
      "language": "python",
      "name": "python"
    },
    "language_info": {
      "codemirror_mode": {
        "name": "python",
        "version": 3
      },
      "file_extension": ".py",
      "mimetype": "text/x-python",
      "name": "python",
      "nbconvert_exporter": "python",
      "pygments_lexer": "ipython3",
      "version": "3.8"
    }
  },
  "nbformat_minor": 4,
  "nbformat": 4,
  "cells": [
    {
      "cell_type": "markdown",
      "source": "# Dual Measure and Bucket Sort\n\nSort the blue marbles by value and put them in the leftmost column. Highest value on the bottom, Lowest value on top.\nSort the yellow marbles by value and put them in the rightmost column. Highest value on the bottom, Lowest value on top.\nInitially the values are unknown random integers between **1** and **3** inclusive. Before you can read ball values via the **get_state()** function you must first measure each ball's value by dropping it on the magic spot (x=4, y=6).\nClaw 0 can operate within the left half of the grid including the magic reveal spot in the middle column.\nClaw 1 can operate within the right half of the grid including the magic reveal spot in the middle column.",
      "metadata": {}
    },
    {
      "cell_type": "code",
      "source": "import asyncio\n%pip install ballsort\nfrom ballsort.ballsort_display_utils import open_bs_window\nopen_bs_window()",
      "metadata": {
        "trusted": true
      },
      "execution_count": null,
      "outputs": []
    },
    {
      "cell_type": "code",
      "source": "from control_factory import get_control_sim\nfrom ch11_scenario import Ch11Scenario",
      "metadata": {
        "trusted": true
      },
      "execution_count": null,
      "outputs": []
    },
    {
      "cell_type": "code",
      "source": "from ball_control import BallControl\nfrom state_update_model import StatePosition\n\nasync def move_ball(bc: BallControl, src: StatePosition, dest: StatePosition, claw_index: int = 0):\n    rel_x = src.x - bc.get_position(claw_index=claw_index).x\n    rel_y = src.y - bc.get_position(claw_index=claw_index).y\n    await asyncio.gather(\n        bc.move_horizontally(rel_x, claw_index=claw_index),\n        bc.move_vertically(rel_y, claw_index=claw_index),\n        bc.open_claw(claw_index=claw_index))\n    await bc.close_claw(claw_index=claw_index)\n    \n    rel_x = dest.x - bc.get_position(claw_index=claw_index).x\n    rel_y = dest.y - bc.get_position(claw_index=claw_index).y\n    await asyncio.gather(\n        bc.move_horizontally(rel_x, claw_index=claw_index),\n        bc.move_vertically(rel_y, claw_index=claw_index))\n    await bc.open_claw(claw_index=claw_index)\n\nasync def move_ball_by_column(bc: BallControl, src_x: int, dest_x: int, claw_index: int = 0):\n    src_column_top_occupied_y = min([ball.pos.y for ball in bc.get_state().balls if ball.pos.x == src_x],default=bc.get_state().max_y)\n    dest_column_top_vacant_y = min([ball.pos.y for ball in bc.get_state().balls if ball.pos.x == dest_x],default=bc.get_state().max_y + 1) - 1\n    await move_ball(bc=bc, src=StatePosition(x=src_x, y=src_column_top_occupied_y), dest=StatePosition(x=dest_x, y=dest_column_top_vacant_y), claw_index=claw_index)",
      "metadata": {
        "trusted": true
      },
      "execution_count": null,
      "outputs": []
    },
    {
      "cell_type": "code",
      "source": "from ball_control_sim import BallControlSim\n\nasync def bucket_sort(\n    bc: BallControlSim,\n    dest_x: int,\n    bucket_offset: int,\n    claw_index: int,\n    lock: asyncio.Lock,\n):\n    reveal_spot_x = bc.get_state().max_x // 2\n    reveal_spot_y = bc.get_state().max_y\n\n    # reveal each ball's value by moving it to the revealer spot. Then move it to bucket column.\n    for _ in range(len(bc.get_state().balls) // 2):\n        async with lock:\n            await move_ball_by_column(\n                bc=bc, src_x=dest_x, dest_x=reveal_spot_x, claw_index=claw_index\n            )  # reveal\n            revealed_value = next(\n                (\n                    ball.value\n                    for ball in bc.get_state().balls\n                    if ball.pos == StatePosition(x=reveal_spot_x, y=reveal_spot_y)\n                ),\n                None,\n            )\n            assert revealed_value\n            await move_ball_by_column(\n                bc=bc,\n                src_x=reveal_spot_x,\n                dest_x=bucket_offset + revealed_value,\n                claw_index=claw_index,\n            )  # move to column corresponding to value\n\n    # Finally move all buckets to destination column in the correct order\n    for x in range(bucket_offset + 3, bucket_offset + 0, -1):\n        nof_balls_in_column = len(\n            [ball for ball in bc.get_state().balls if ball.pos.x == x]\n        )\n        for _ in range(nof_balls_in_column):\n            await move_ball_by_column(\n                bc=bc, src_x=x, dest_x=dest_x, claw_index=claw_index\n            )",
      "metadata": {
        "trusted": true
      },
      "execution_count": null,
      "outputs": []
    },
    {
      "cell_type": "code",
      "source": "async def challenge11_solution():\n    bc = get_control_sim(delay_multiplier=0.1)\n    await bc.set_scenario(Ch11Scenario(seed=None))\n    \n    lock = asyncio.Lock() #necessary to enforce mutually exclusive access to the revealer column\n\n    await asyncio.gather(\n        bucket_sort(bc=bc, dest_x=0, bucket_offset=0, claw_index=0, lock=lock),\n        bucket_sort(\n            bc=bc,\n            dest_x=bc.get_state().max_x,\n            bucket_offset=bc.get_state().max_x // 2,\n            claw_index=1,\n            lock=lock,\n        ),\n    )\n\n    assert bc.get_state().goal_accomplished",
      "metadata": {
        "trusted": true
      },
      "execution_count": null,
      "outputs": []
    },
    {
      "cell_type": "code",
      "source": "await challenge11_solution()",
      "metadata": {
        "tags": [],
        "trusted": true
      },
      "execution_count": null,
      "outputs": []
    }
  ]
}