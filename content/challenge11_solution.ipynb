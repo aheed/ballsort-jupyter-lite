{
  "metadata": {
    "kernelspec": {
      "display_name": "Python (Pyodide)",
      "language": "python",
      "name": "python"
    },
    "language_info": {
      "codemirror_mode": {
        "name": "python",
        "version": 3
      },
      "file_extension": ".py",
      "mimetype": "text/x-python",
      "name": "python",
      "nbconvert_exporter": "python",
      "pygments_lexer": "ipython3",
      "version": "3.8"
    }
  },
  "nbformat_minor": 4,
  "nbformat": 4,
  "cells": [
    {
      "cell_type": "code",
      "source": "import asyncio\n%pip install ballsort\nfrom ballsort.ballsort_display_utils import open_bs_window\nopen_bs_window()",
      "metadata": {
        "trusted": true
      },
      "execution_count": null,
      "outputs": []
    },
    {
      "cell_type": "code",
      "source": "from control_factory import get_control_sim\nfrom ch11_scenario import Ch11Scenario",
      "metadata": {
        "trusted": true
      },
      "execution_count": null,
      "outputs": []
    },
    {
      "cell_type": "code",
      "source": "from ball_control import BallControl\nfrom state_update_model import StatePosition\n\nasync def noop():\n    pass\n\nasync def go_to_pos(bc: BallControl, dest: StatePosition, open_claw: bool, claw_index: int = 0):\n    rel_x = dest.x - bc.get_position(claw_index=claw_index).x\n    rel_y = dest.y - bc.get_position(claw_index=claw_index).y\n    await asyncio.gather(\n        bc.move_horizontally(rel_x, claw_index=claw_index),\n        bc.move_vertically(rel_y, claw_index=claw_index),\n        bc.open_claw(claw_index=claw_index) if open_claw else noop(),\n    )\n\nasync def move_ball(\n    bc: BallControl, src: StatePosition, dest: StatePosition, claw_index: int = 0\n):\n    await go_to_pos(bc=bc, dest=src, open_claw=True, claw_index=claw_index)\n    await bc.close_claw(claw_index=claw_index)\n    await go_to_pos(bc=bc, dest=dest, open_claw=False, claw_index=claw_index)\n    await bc.open_claw(claw_index=claw_index)\n\ndef get_column_top_occupied_y(bc: BallControl, x: int) -> int:\n    return min(\n        [ball.pos.y for ball in bc.get_state().balls if ball.pos.x == x],\n        default=bc.get_state().max_y,\n    )\n\ndef get_column_top_occupied_pos(bc: BallControl, x: int) -> StatePosition:\n    return StatePosition(x=x, y=get_column_top_occupied_y(bc=bc, x=x))\n\ndef get_column_top_vacant_y(bc: BallControl, x: int) -> int:\n    return (\n        min(\n            [ball.pos.y for ball in bc.get_state().balls if ball.pos.x == x],\n            default=bc.get_state().max_y + 1,\n        )\n        - 1\n    )\n\ndef get_column_top_vacant_pos(bc: BallControl, x: int) -> StatePosition:\n    return StatePosition(x=x, y=get_column_top_vacant_y(bc=bc, x=x))\n\nasync def move_ball_by_column(\n    bc: BallControl, src_x: int, dest_x: int, claw_index: int = 0\n):\n    await move_ball(\n        bc=bc,\n        src=get_column_top_occupied_pos(bc=bc, x=src_x),\n        dest=get_column_top_vacant_pos(bc=bc, x=dest_x),\n        claw_index=claw_index,\n    )\n",
      "metadata": {
        "trusted": true
      },
      "execution_count": null,
      "outputs": []
    },
    {
      "cell_type": "code",
      "source": "from ball_control_sim import BallControlSim\n\nasync def bucket_sort(\n    bc: BallControlSim,\n    dest_x: int,\n    bucket_offset: int,\n    claw_index: int,\n    lock: asyncio.Lock,\n):\n    reveal_spot_x = bc.get_state().max_x // 2\n    reveal_spot_y = bc.get_state().max_y\n    \n    # reveal each ball's value by moving it to the revealer spot. Then move it to bucket column.\n    for _ in range(len(bc.get_state().balls) // 2):\n        await go_to_pos(bc=bc, dest=get_column_top_occupied_pos(bc=bc, x=dest_x), open_claw=True, claw_index=claw_index)\n        await bc.close_claw(claw_index=claw_index)\n        async with lock:\n            await go_to_pos(bc=bc, dest=StatePosition(x=reveal_spot_x, y=reveal_spot_y), open_claw=False, claw_index=claw_index)\n            await bc.open_claw(claw_index=claw_index) # drop should reveal value\n            revealed_value = next(\n                (\n                    ball.value\n                    for ball in bc.get_state().balls\n                    if ball.pos == StatePosition(x=reveal_spot_x, y=reveal_spot_y)\n                ),\n                None,\n            )\n            assert revealed_value\n            await bc.close_claw(claw_index=claw_index)\n            go_to_bucket_coroutine = go_to_pos(bc=bc, dest=get_column_top_vacant_pos(bc=bc, x=bucket_offset + revealed_value), open_claw=False, claw_index=claw_index)\n        await go_to_bucket_coroutine\n        await bc.open_claw(claw_index=claw_index)\n\n    # Finally move all buckets to destination column in the correct order\n    for x in range(bucket_offset + 3, bucket_offset + 0, -1):\n        nof_balls_in_column = len(\n            [ball for ball in bc.get_state().balls if ball.pos.x == x]\n        )\n        for _ in range(nof_balls_in_column):\n            await move_ball_by_column(\n                bc=bc, src_x=x, dest_x=dest_x, claw_index=claw_index\n            )",
      "metadata": {
        "trusted": true
      },
      "execution_count": null,
      "outputs": []
    },
    {
      "cell_type": "code",
      "source": "async def challenge11_solution():\n    bc = get_control_sim(delay_multiplier=0.3)\n    await bc.set_scenario(Ch11Scenario(seed=None))\n    \n    lock = asyncio.Lock() #necessary to enforce mutually exclusive access to the revealer column\n\n    await asyncio.gather(\n        bucket_sort(bc=bc, dest_x=0, bucket_offset=0, claw_index=0, lock=lock),\n        bucket_sort(\n            bc=bc,\n            dest_x=bc.get_state().max_x,\n            bucket_offset=bc.get_state().max_x // 2,\n            claw_index=1,\n            lock=lock,\n        ),\n    )\n\n    assert bc.get_state().goal_accomplished",
      "metadata": {
        "trusted": true
      },
      "execution_count": null,
      "outputs": []
    },
    {
      "cell_type": "code",
      "source": "await challenge11_solution()",
      "metadata": {
        "tags": [],
        "trusted": true
      },
      "execution_count": null,
      "outputs": []
    }
  ]
}