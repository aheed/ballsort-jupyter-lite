{
  "cells": [
    {
      "cell_type": "markdown",
      "metadata": {},
      "source": [
        "# Challenge 3\n",
        "## Flag Flip\n",
        "\n",
        "Your interns have made a flag out of marbles to greet prominent guests from Indonesia <span style=\"font-size:32px;\">🇮🇩</span>. But the flag is upside down! You need to fix it!"
      ]
    },
    {
      "cell_type": "code",
      "execution_count": null,
      "metadata": {
        "trusted": true
      },
      "outputs": [],
      "source": [
        "import asyncio\n",
        "%pip install ballsort\n",
        "from ballsort.ballsort_display_utils import open_bs_window\n",
        "open_bs_window()"
      ]
    },
    {
      "cell_type": "code",
      "execution_count": null,
      "metadata": {
        "trusted": true
      },
      "outputs": [],
      "source": [
        "from control_factory import get_control_sim\n",
        "bc = get_control_sim(delay_multiplier=0.2)"
      ]
    },
    {
      "cell_type": "code",
      "execution_count": null,
      "metadata": {
        "trusted": true
      },
      "outputs": [],
      "source": [
        "from ch3_scenario import Ch3Scenario\n",
        "await bc.set_scenario(Ch3Scenario())"
      ]
    },
    {
      "cell_type": "code",
      "execution_count": null,
      "metadata": {
        "trusted": true
      },
      "outputs": [],
      "source": [
        "from ball_control import BallControl\n",
        "from state_update_model import StatePosition"
      ]
    },
    {
      "cell_type": "code",
      "execution_count": null,
      "metadata": {
        "trusted": true
      },
      "outputs": [],
      "source": [
        "async def move_ball(bc: BallControl, src: StatePosition, dest: StatePosition):    \n",
        "    rel_x = src.x - bc.get_position().x\n",
        "    rel_y = src.y - bc.get_position().y\n",
        "    await asyncio.gather(\n",
        "        bc.move_horizontally(rel_x),\n",
        "        bc.move_vertically(rel_y),\n",
        "        bc.open_claw())\n",
        "    await bc.close_claw()\n",
        "    \n",
        "    rel_x = dest.x - bc.get_position().x\n",
        "    rel_y = dest.y - bc.get_position().y\n",
        "    await asyncio.gather(\n",
        "        bc.move_horizontally(rel_x),\n",
        "        bc.move_vertically(rel_y))\n",
        "    await bc.open_claw()"
      ]
    },
    {
      "cell_type": "code",
      "execution_count": null,
      "metadata": {
        "trusted": true
      },
      "outputs": [],
      "source": [
        "async def challenge3_solution():    \n",
        "    async def sort_column(x: int):\n",
        "        for i in range(4):\n",
        "            src = StatePosition(x=x, y=i+1)\n",
        "            dst = StatePosition(x=i if i < x else i+1, y=0 if i < 3 else 4)\n",
        "            await move_ball(bc=bc, src=src, dest=dst)\n",
        "        for i in range(4):\n",
        "            src = StatePosition(x=i if i < x else i+1, y=0 if i < 3 else 4)\n",
        "            dst = StatePosition(x=x, y=4-i)\n",
        "            await move_ball(bc=bc, src=src, dest=dst)\n",
        "\n",
        "    for i in range(4):\n",
        "        await sort_column(x=i)\n",
        "    "
      ]
    },
    {
      "cell_type": "code",
      "execution_count": null,
      "metadata": {
        "trusted": true
      },
      "outputs": [],
      "source": [
        "await challenge3_solution()"
      ]
    },
    {
      "cell_type": "code",
      "execution_count": null,
      "metadata": {},
      "outputs": [],
      "source": []
    }
  ],
  "metadata": {
    "kernelspec": {
      "display_name": "Python (Pyodide)",
      "language": "python",
      "name": "python"
    },
    "language_info": {
      "codemirror_mode": {
        "name": "python",
        "version": 3
      },
      "file_extension": ".py",
      "mimetype": "text/x-python",
      "name": "python",
      "nbconvert_exporter": "python",
      "pygments_lexer": "ipython3",
      "version": "3.8"
    }
  },
  "nbformat": 4,
  "nbformat_minor": 4
}
