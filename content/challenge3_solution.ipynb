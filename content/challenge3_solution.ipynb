{
  "metadata": {
    "language_info": {
      "codemirror_mode": {
        "name": "python",
        "version": 3
      },
      "file_extension": ".py",
      "mimetype": "text/x-python",
      "name": "python",
      "nbconvert_exporter": "python",
      "pygments_lexer": "ipython3",
      "version": "3.8"
    },
    "kernelspec": {
      "name": "python",
      "display_name": "Python (Pyodide)",
      "language": "python"
    }
  },
  "nbformat_minor": 4,
  "nbformat": 4,
  "cells": [
    {
      "cell_type": "markdown",
      "source": "# Challenge 3\n## Flag Flip\n\nYour interns have made a flag out of marbles to greet prominent guests from Indonesia <span style=\"font-size:32px;\">🇮🇩</span>. But the flag is upside down! You need to fix it!",
      "metadata": {}
    },
    {
      "cell_type": "code",
      "source": "import sys, asyncio\nsys.path.append('ballsortutils')\nfrom ballsort_display_utils import open_bs_window\nopen_bs_window()",
      "metadata": {
        "trusted": true
      },
      "execution_count": null,
      "outputs": []
    },
    {
      "cell_type": "code",
      "source": "from control_factory import get_control_sim\nbc = get_control_sim(delay_multiplier=0.2)",
      "metadata": {
        "trusted": true
      },
      "execution_count": null,
      "outputs": []
    },
    {
      "cell_type": "code",
      "source": "from ch3_scenario import Ch3Scenario\nawait bc.set_scenario(Ch3Scenario())",
      "metadata": {
        "trusted": true
      },
      "execution_count": null,
      "outputs": []
    },
    {
      "cell_type": "code",
      "source": "from ball_control import BallControl\nfrom state_update_model import StatePosition",
      "metadata": {
        "trusted": true
      },
      "execution_count": null,
      "outputs": []
    },
    {
      "cell_type": "code",
      "source": "async def move_ball(bc: BallControl, src: StatePosition, dest: StatePosition):    \n    rel_x = src.x - bc.get_position().x\n    rel_y = src.y - bc.get_position().y\n    await asyncio.gather(\n        bc.move_horizontally(rel_x),\n        bc.move_vertically(rel_y),\n        bc.open_claw())\n    await bc.close_claw()\n    \n    rel_x = dest.x - bc.get_position().x\n    rel_y = dest.y - bc.get_position().y\n    await asyncio.gather(\n        bc.move_horizontally(rel_x),\n        bc.move_vertically(rel_y))\n    await bc.open_claw()",
      "metadata": {
        "trusted": true
      },
      "execution_count": null,
      "outputs": []
    },
    {
      "cell_type": "code",
      "source": "async def challenge3_solution():    \n    async def sort_column(x: int):\n        for i in range(4):\n            src = StatePosition(x=x, y=i+1)\n            dst = StatePosition(x=i if i < x else i+1, y=0 if i < 3 else 4)\n            await move_ball(bc=bc, src=src, dest=dst)\n        for i in range(4):\n            src = StatePosition(x=i if i < x else i+1, y=0 if i < 3 else 4)\n            dst = StatePosition(x=x, y=4-i)\n            await move_ball(bc=bc, src=src, dest=dst)\n\n    for i in range(4):\n        await sort_column(x=i)\n    ",
      "metadata": {
        "trusted": true
      },
      "execution_count": null,
      "outputs": []
    },
    {
      "cell_type": "code",
      "source": "await challenge3_solution()",
      "metadata": {
        "trusted": true
      },
      "execution_count": null,
      "outputs": []
    },
    {
      "cell_type": "code",
      "source": "",
      "metadata": {},
      "execution_count": null,
      "outputs": []
    }
  ]
}