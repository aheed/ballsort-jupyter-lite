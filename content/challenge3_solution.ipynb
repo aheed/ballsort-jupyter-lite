{
  "metadata": {
    "language_info": {
      "codemirror_mode": {
        "name": "python",
        "version": 3
      },
      "file_extension": ".py",
      "mimetype": "text/x-python",
      "name": "python",
      "nbconvert_exporter": "python",
      "pygments_lexer": "ipython3",
      "version": "3.8"
    },
    "kernelspec": {
      "name": "python",
      "display_name": "Python (Pyodide)",
      "language": "python"
    }
  },
  "nbformat_minor": 4,
  "nbformat": 4,
  "cells": [
    {
      "cell_type": "markdown",
      "source": "# Challenge 3\n## Flag Flip\n\nYour interns have made a flag out of marbles to greet prominent guests from Indonesia <span style=\"font-size:32px;\">🇮🇩</span>. But the flag is upside down! You need to fix it!",
      "metadata": {}
    },
    {
      "cell_type": "code",
      "source": "import sys, asyncio\nsys.path.append('ballsortutils')\nfrom ballsort_display_utils import open_bs_window\nopen_bs_window()",
      "metadata": {
        "trusted": true
      },
      "execution_count": 2,
      "outputs": [
        {
          "output_type": "display_data",
          "data": {
            "text/plain": "<IPython.core.display.Javascript object>",
            "application/javascript": "\n        const bsWindow = window.open('https://aheed.github.io/ballsort/', 'bswindow', 'height=600, width=600');\n        window.bswin = bsWindow.window;\n        "
          },
          "metadata": {}
        }
      ]
    },
    {
      "cell_type": "code",
      "source": "from control_factory import get_control_sim\nbc = get_control_sim(0.1)",
      "metadata": {
        "trusted": true
      },
      "execution_count": 3,
      "outputs": []
    },
    {
      "cell_type": "code",
      "source": "from ch3_scenario import Ch3Scenario\nawait bc.set_scenario(Ch3Scenario())",
      "metadata": {
        "trusted": true
      },
      "execution_count": 4,
      "outputs": [
        {
          "name": "stdout",
          "text": "Goal:\nTurn Polish flag into Indonesian flag.\n",
          "output_type": "stream"
        },
        {
          "output_type": "display_data",
          "data": {
            "text/plain": "<IPython.core.display.Javascript object>",
            "application/javascript": "\n                var existingWin = window.bswin;\n                existingWin && existingWin.postMessage('{\"userId\": \"glen\", \"state\": {\"max_x\": 4, \"max_y\": 4, \"balls\": [{\"pos\": {\"x\": 0, \"y\": 3}, \"color\": \"red\"}, {\"pos\": {\"x\": 0, \"y\": 4}, \"color\": \"red\"}, {\"pos\": {\"x\": 0, \"y\": 1}, \"color\": \"white\"}, {\"pos\": {\"x\": 0, \"y\": 2}, \"color\": \"white\"}, {\"pos\": {\"x\": 1, \"y\": 3}, \"color\": \"red\"}, {\"pos\": {\"x\": 1, \"y\": 4}, \"color\": \"red\"}, {\"pos\": {\"x\": 1, \"y\": 1}, \"color\": \"white\"}, {\"pos\": {\"x\": 1, \"y\": 2}, \"color\": \"white\"}, {\"pos\": {\"x\": 2, \"y\": 3}, \"color\": \"red\"}, {\"pos\": {\"x\": 2, \"y\": 4}, \"color\": \"red\"}, {\"pos\": {\"x\": 2, \"y\": 1}, \"color\": \"white\"}, {\"pos\": {\"x\": 2, \"y\": 2}, \"color\": \"white\"}, {\"pos\": {\"x\": 3, \"y\": 3}, \"color\": \"red\"}, {\"pos\": {\"x\": 3, \"y\": 4}, \"color\": \"red\"}, {\"pos\": {\"x\": 3, \"y\": 1}, \"color\": \"white\"}, {\"pos\": {\"x\": 3, \"y\": 2}, \"color\": \"white\"}], \"claw\": {\"pos\": {\"x\": 0, \"y\": 0}, \"open\": true, \"ball_color\": \"\"}, \"isInGoalState\": false, \"moving_horizontally\": false, \"moving_vertically\": false, \"operating_claw\": false}}', \"*\");    \n                "
          },
          "metadata": {}
        }
      ]
    },
    {
      "cell_type": "code",
      "source": "from ball_control import BallControl\nfrom state_update_model import StatePosition",
      "metadata": {
        "trusted": true
      },
      "execution_count": 7,
      "outputs": []
    },
    {
      "cell_type": "code",
      "source": "async def move_ball(bc: BallControl, src: StatePosition, dest: StatePosition):    \n    rel_x = src.x - bc.get_position().x\n    rel_y = src.y - bc.get_position().y\n    await asyncio.gather(\n        bc.move_horizontally(rel_x),\n        bc.move_vertically(rel_y),\n        bc.open_claw())\n    await bc.close_claw()\n    \n    rel_x = dest.x - bc.get_position().x\n    rel_y = dest.y - bc.get_position().y\n    await asyncio.gather(\n        bc.move_horizontally(rel_x),\n        bc.move_vertically(rel_y))\n    await bc.open_claw()",
      "metadata": {
        "trusted": true
      },
      "execution_count": 8,
      "outputs": []
    },
    {
      "cell_type": "code",
      "source": "async def challenge3_solution():    \n    async def sort_column(x: int):\n        for i in range(4):\n            src = StatePosition(x=x, y=i+1)\n            dst = StatePosition(x=i if i < x else i+1, y=0 if i < 3 else 4)\n            await move_ball(bc=bc, src=src, dest=dst)\n        for i in range(4):\n            src = StatePosition(x=i if i < x else i+1, y=0 if i < 3 else 4)\n            dst = StatePosition(x=x, y=4-i)\n            await move_ball(bc=bc, src=src, dest=dst)\n\n    for i in range(4):\n        await sort_column(x=i)\n    ",
      "metadata": {
        "trusted": true
      },
      "execution_count": 10,
      "outputs": []
    },
    {
      "cell_type": "code",
      "source": "await challenge3_solution()",
      "metadata": {
        "trusted": true
      },
      "execution_count": 11,
      "outputs": [
        {
          "name": "stdout",
          "text": "new position: 0, 1\n",
          "output_type": "stream"
        },
        {
          "output_type": "display_data",
          "data": {
            "text/plain": "<IPython.core.display.Javascript object>",
            "application/javascript": "\n                var existingWin = window.bswin;\n                existingWin && existingWin.postMessage('{\"userId\": \"glen\", \"state\": {\"max_x\": 4, \"max_y\": 4, \"balls\": null, \"claw\": {\"pos\": {\"x\": 0, \"y\": 1}, \"open\": true, \"ball_color\": \"\"}, \"isInGoalState\": false, \"moving_horizontally\": false, \"moving_vertically\": true, \"operating_claw\": false}}', \"*\");    \n                "
          },
          "metadata": {}
        },
        {
          "name": "stdout",
          "text": "opening claw\n",
          "output_type": "stream"
        },
        {
          "output_type": "display_data",
          "data": {
            "text/plain": "<IPython.core.display.Javascript object>",
            "application/javascript": "\n                var existingWin = window.bswin;\n                existingWin && existingWin.postMessage('{\"userId\": \"glen\", \"state\": {\"max_x\": 4, \"max_y\": 4, \"balls\": null, \"claw\": {\"pos\": {\"x\": 0, \"y\": 1}, \"open\": true, \"ball_color\": \"\"}, \"isInGoalState\": false, \"moving_horizontally\": false, \"moving_vertically\": true, \"operating_claw\": true}}', \"*\");    \n                "
          },
          "metadata": {}
        },
        {
          "output_type": "display_data",
          "data": {
            "text/plain": "<IPython.core.display.Javascript object>",
            "application/javascript": "\n                var existingWin = window.bswin;\n                existingWin && existingWin.postMessage('{\"userId\": \"glen\", \"state\": {\"max_x\": 4, \"max_y\": 4, \"balls\": null, \"claw\": {\"pos\": {\"x\": 0, \"y\": 1}, \"open\": true, \"ball_color\": \"\"}, \"isInGoalState\": false, \"moving_horizontally\": false, \"moving_vertically\": false, \"operating_claw\": false}}', \"*\");    \n                "
          },
          "metadata": {}
        },
        {
          "name": "stdout",
          "text": "closing claw\ngrabbing white marble\n",
          "output_type": "stream"
        },
        {
          "output_type": "display_data",
          "data": {
            "text/plain": "<IPython.core.display.Javascript object>",
            "application/javascript": "\n                var existingWin = window.bswin;\n                existingWin && existingWin.postMessage('{\"userId\": \"glen\", \"state\": {\"max_x\": 4, \"max_y\": 4, \"balls\": null, \"claw\": {\"pos\": {\"x\": 0, \"y\": 1}, \"open\": false, \"ball_color\": \"white\"}, \"isInGoalState\": false, \"moving_horizontally\": false, \"moving_vertically\": false, \"operating_claw\": true}}', \"*\");    \n                "
          },
          "metadata": {}
        },
        {
          "name": "stdout",
          "text": "new position: 1, 1\n",
          "output_type": "stream"
        },
        {
          "output_type": "display_data",
          "data": {
            "text/plain": "<IPython.core.display.Javascript object>",
            "application/javascript": "\n                var existingWin = window.bswin;\n                existingWin && existingWin.postMessage('{\"userId\": \"glen\", \"state\": {\"max_x\": 4, \"max_y\": 4, \"balls\": null, \"claw\": {\"pos\": {\"x\": 1, \"y\": 1}, \"open\": false, \"ball_color\": \"white\"}, \"isInGoalState\": false, \"moving_horizontally\": true, \"moving_vertically\": false, \"operating_claw\": false}}', \"*\");    \n                "
          },
          "metadata": {}
        },
        {
          "name": "stdout",
          "text": "new position: 1, 0\n",
          "output_type": "stream"
        },
        {
          "output_type": "display_data",
          "data": {
            "text/plain": "<IPython.core.display.Javascript object>",
            "application/javascript": "\n                var existingWin = window.bswin;\n                existingWin && existingWin.postMessage('{\"userId\": \"glen\", \"state\": {\"max_x\": 4, \"max_y\": 4, \"balls\": null, \"claw\": {\"pos\": {\"x\": 1, \"y\": 0}, \"open\": false, \"ball_color\": \"white\"}, \"isInGoalState\": false, \"moving_horizontally\": true, \"moving_vertically\": true, \"operating_claw\": false}}', \"*\");    \n                "
          },
          "metadata": {}
        },
        {
          "output_type": "display_data",
          "data": {
            "text/plain": "<IPython.core.display.Javascript object>",
            "application/javascript": "\n                var existingWin = window.bswin;\n                existingWin && existingWin.postMessage('{\"userId\": \"glen\", \"state\": {\"max_x\": 4, \"max_y\": 4, \"balls\": null, \"claw\": {\"pos\": {\"x\": 1, \"y\": 0}, \"open\": false, \"ball_color\": \"white\"}, \"isInGoalState\": false, \"moving_horizontally\": false, \"moving_vertically\": true, \"operating_claw\": false}}', \"*\");    \n                "
          },
          "metadata": {}
        },
        {
          "output_type": "display_data",
          "data": {
            "text/plain": "<IPython.core.display.Javascript object>",
            "application/javascript": "\n                var existingWin = window.bswin;\n                existingWin && existingWin.postMessage('{\"userId\": \"glen\", \"state\": {\"max_x\": 4, \"max_y\": 4, \"balls\": null, \"claw\": {\"pos\": {\"x\": 1, \"y\": 0}, \"open\": false, \"ball_color\": \"white\"}, \"isInGoalState\": false, \"moving_horizontally\": false, \"moving_vertically\": false, \"operating_claw\": false}}', \"*\");    \n                "
          },
          "metadata": {}
        },
        {
          "name": "stdout",
          "text": "opening claw\ndropping white marble\n",
          "output_type": "stream"
        },
        {
          "output_type": "display_data",
          "data": {
            "text/plain": "<IPython.core.display.Javascript object>",
            "application/javascript": "\n                var existingWin = window.bswin;\n                existingWin && existingWin.postMessage('{\"userId\": \"glen\", \"state\": {\"max_x\": 4, \"max_y\": 4, \"balls\": null, \"claw\": {\"pos\": {\"x\": 1, \"y\": 0}, \"open\": true, \"ball_color\": \"\"}, \"isInGoalState\": false, \"moving_horizontally\": false, \"moving_vertically\": false, \"operating_claw\": true}}', \"*\");    \n                "
          },
          "metadata": {}
        },
        {
          "name": "stdout",
          "text": "new position: 0, 0\n",
          "output_type": "stream"
        },
        {
          "output_type": "display_data",
          "data": {
            "text/plain": "<IPython.core.display.Javascript object>",
            "application/javascript": "\n                var existingWin = window.bswin;\n                existingWin && existingWin.postMessage('{\"userId\": \"glen\", \"state\": {\"max_x\": 4, \"max_y\": 4, \"balls\": null, \"claw\": {\"pos\": {\"x\": 0, \"y\": 0}, \"open\": true, \"ball_color\": \"\"}, \"isInGoalState\": false, \"moving_horizontally\": true, \"moving_vertically\": false, \"operating_claw\": false}}', \"*\");    \n                "
          },
          "metadata": {}
        },
        {
          "name": "stdout",
          "text": "new position: 0, 2\n",
          "output_type": "stream"
        },
        {
          "output_type": "display_data",
          "data": {
            "text/plain": "<IPython.core.display.Javascript object>",
            "application/javascript": "\n                var existingWin = window.bswin;\n                existingWin && existingWin.postMessage('{\"userId\": \"glen\", \"state\": {\"max_x\": 4, \"max_y\": 4, \"balls\": null, \"claw\": {\"pos\": {\"x\": 0, \"y\": 2}, \"open\": true, \"ball_color\": \"\"}, \"isInGoalState\": false, \"moving_horizontally\": true, \"moving_vertically\": true, \"operating_claw\": false}}', \"*\");    \n                "
          },
          "metadata": {}
        },
        {
          "name": "stdout",
          "text": "opening claw\n",
          "output_type": "stream"
        },
        {
          "output_type": "display_data",
          "data": {
            "text/plain": "<IPython.core.display.Javascript object>",
            "application/javascript": "\n                var existingWin = window.bswin;\n                existingWin && existingWin.postMessage('{\"userId\": \"glen\", \"state\": {\"max_x\": 4, \"max_y\": 4, \"balls\": null, \"claw\": {\"pos\": {\"x\": 0, \"y\": 2}, \"open\": true, \"ball_color\": \"\"}, \"isInGoalState\": false, \"moving_horizontally\": true, \"moving_vertically\": true, \"operating_claw\": true}}', \"*\");    \n                "
          },
          "metadata": {}
        },
        {
          "output_type": "display_data",
          "data": {
            "text/plain": "<IPython.core.display.Javascript object>",
            "application/javascript": "\n                var existingWin = window.bswin;\n                existingWin && existingWin.postMessage('{\"userId\": \"glen\", \"state\": {\"max_x\": 4, \"max_y\": 4, \"balls\": null, \"claw\": {\"pos\": {\"x\": 0, \"y\": 2}, \"open\": true, \"ball_color\": \"\"}, \"isInGoalState\": false, \"moving_horizontally\": false, \"moving_vertically\": true, \"operating_claw\": false}}', \"*\");    \n                "
          },
          "metadata": {}
        },
        {
          "output_type": "display_data",
          "data": {
            "text/plain": "<IPython.core.display.Javascript object>",
            "application/javascript": "\n                var existingWin = window.bswin;\n                existingWin && existingWin.postMessage('{\"userId\": \"glen\", \"state\": {\"max_x\": 4, \"max_y\": 4, \"balls\": null, \"claw\": {\"pos\": {\"x\": 0, \"y\": 2}, \"open\": true, \"ball_color\": \"\"}, \"isInGoalState\": false, \"moving_horizontally\": false, \"moving_vertically\": false, \"operating_claw\": false}}', \"*\");    \n                "
          },
          "metadata": {}
        },
        {
          "name": "stdout",
          "text": "closing claw\ngrabbing white marble\n",
          "output_type": "stream"
        },
        {
          "output_type": "display_data",
          "data": {
            "text/plain": "<IPython.core.display.Javascript object>",
            "application/javascript": "\n                var existingWin = window.bswin;\n                existingWin && existingWin.postMessage('{\"userId\": \"glen\", \"state\": {\"max_x\": 4, \"max_y\": 4, \"balls\": null, \"claw\": {\"pos\": {\"x\": 0, \"y\": 2}, \"open\": false, \"ball_color\": \"white\"}, \"isInGoalState\": false, \"moving_horizontally\": false, \"moving_vertically\": false, \"operating_claw\": true}}', \"*\");    \n                "
          },
          "metadata": {}
        },
        {
          "name": "stdout",
          "text": "new position: 2, 2\n",
          "output_type": "stream"
        },
        {
          "output_type": "display_data",
          "data": {
            "text/plain": "<IPython.core.display.Javascript object>",
            "application/javascript": "\n                var existingWin = window.bswin;\n                existingWin && existingWin.postMessage('{\"userId\": \"glen\", \"state\": {\"max_x\": 4, \"max_y\": 4, \"balls\": null, \"claw\": {\"pos\": {\"x\": 2, \"y\": 2}, \"open\": false, \"ball_color\": \"white\"}, \"isInGoalState\": false, \"moving_horizontally\": true, \"moving_vertically\": false, \"operating_claw\": false}}', \"*\");    \n                "
          },
          "metadata": {}
        },
        {
          "name": "stdout",
          "text": "new position: 2, 0\n",
          "output_type": "stream"
        },
        {
          "output_type": "display_data",
          "data": {
            "text/plain": "<IPython.core.display.Javascript object>",
            "application/javascript": "\n                var existingWin = window.bswin;\n                existingWin && existingWin.postMessage('{\"userId\": \"glen\", \"state\": {\"max_x\": 4, \"max_y\": 4, \"balls\": null, \"claw\": {\"pos\": {\"x\": 2, \"y\": 0}, \"open\": false, \"ball_color\": \"white\"}, \"isInGoalState\": false, \"moving_horizontally\": true, \"moving_vertically\": true, \"operating_claw\": false}}', \"*\");    \n                "
          },
          "metadata": {}
        },
        {
          "output_type": "display_data",
          "data": {
            "text/plain": "<IPython.core.display.Javascript object>",
            "application/javascript": "\n                var existingWin = window.bswin;\n                existingWin && existingWin.postMessage('{\"userId\": \"glen\", \"state\": {\"max_x\": 4, \"max_y\": 4, \"balls\": null, \"claw\": {\"pos\": {\"x\": 2, \"y\": 0}, \"open\": false, \"ball_color\": \"white\"}, \"isInGoalState\": false, \"moving_horizontally\": false, \"moving_vertically\": true, \"operating_claw\": false}}', \"*\");    \n                "
          },
          "metadata": {}
        },
        {
          "output_type": "display_data",
          "data": {
            "text/plain": "<IPython.core.display.Javascript object>",
            "application/javascript": "\n                var existingWin = window.bswin;\n                existingWin && existingWin.postMessage('{\"userId\": \"glen\", \"state\": {\"max_x\": 4, \"max_y\": 4, \"balls\": null, \"claw\": {\"pos\": {\"x\": 2, \"y\": 0}, \"open\": false, \"ball_color\": \"white\"}, \"isInGoalState\": false, \"moving_horizontally\": false, \"moving_vertically\": false, \"operating_claw\": false}}', \"*\");    \n                "
          },
          "metadata": {}
        },
        {
          "name": "stdout",
          "text": "opening claw\ndropping white marble\n",
          "output_type": "stream"
        },
        {
          "output_type": "display_data",
          "data": {
            "text/plain": "<IPython.core.display.Javascript object>",
            "application/javascript": "\n                var existingWin = window.bswin;\n                existingWin && existingWin.postMessage('{\"userId\": \"glen\", \"state\": {\"max_x\": 4, \"max_y\": 4, \"balls\": null, \"claw\": {\"pos\": {\"x\": 2, \"y\": 0}, \"open\": true, \"ball_color\": \"\"}, \"isInGoalState\": false, \"moving_horizontally\": false, \"moving_vertically\": false, \"operating_claw\": true}}', \"*\");    \n                "
          },
          "metadata": {}
        },
        {
          "name": "stdout",
          "text": "new position: 0, 0\n",
          "output_type": "stream"
        },
        {
          "output_type": "display_data",
          "data": {
            "text/plain": "<IPython.core.display.Javascript object>",
            "application/javascript": "\n                var existingWin = window.bswin;\n                existingWin && existingWin.postMessage('{\"userId\": \"glen\", \"state\": {\"max_x\": 4, \"max_y\": 4, \"balls\": null, \"claw\": {\"pos\": {\"x\": 0, \"y\": 0}, \"open\": true, \"ball_color\": \"\"}, \"isInGoalState\": false, \"moving_horizontally\": true, \"moving_vertically\": false, \"operating_claw\": false}}', \"*\");    \n                "
          },
          "metadata": {}
        },
        {
          "name": "stdout",
          "text": "new position: 0, 3\n",
          "output_type": "stream"
        },
        {
          "output_type": "display_data",
          "data": {
            "text/plain": "<IPython.core.display.Javascript object>",
            "application/javascript": "\n                var existingWin = window.bswin;\n                existingWin && existingWin.postMessage('{\"userId\": \"glen\", \"state\": {\"max_x\": 4, \"max_y\": 4, \"balls\": null, \"claw\": {\"pos\": {\"x\": 0, \"y\": 3}, \"open\": true, \"ball_color\": \"\"}, \"isInGoalState\": false, \"moving_horizontally\": true, \"moving_vertically\": true, \"operating_claw\": false}}', \"*\");    \n                "
          },
          "metadata": {}
        },
        {
          "name": "stdout",
          "text": "opening claw\n",
          "output_type": "stream"
        },
        {
          "output_type": "display_data",
          "data": {
            "text/plain": "<IPython.core.display.Javascript object>",
            "application/javascript": "\n                var existingWin = window.bswin;\n                existingWin && existingWin.postMessage('{\"userId\": \"glen\", \"state\": {\"max_x\": 4, \"max_y\": 4, \"balls\": null, \"claw\": {\"pos\": {\"x\": 0, \"y\": 3}, \"open\": true, \"ball_color\": \"\"}, \"isInGoalState\": false, \"moving_horizontally\": true, \"moving_vertically\": true, \"operating_claw\": true}}', \"*\");    \n                "
          },
          "metadata": {}
        },
        {
          "output_type": "display_data",
          "data": {
            "text/plain": "<IPython.core.display.Javascript object>",
            "application/javascript": "\n                var existingWin = window.bswin;\n                existingWin && existingWin.postMessage('{\"userId\": \"glen\", \"state\": {\"max_x\": 4, \"max_y\": 4, \"balls\": null, \"claw\": {\"pos\": {\"x\": 0, \"y\": 3}, \"open\": true, \"ball_color\": \"\"}, \"isInGoalState\": false, \"moving_horizontally\": false, \"moving_vertically\": true, \"operating_claw\": false}}', \"*\");    \n                "
          },
          "metadata": {}
        },
        {
          "output_type": "display_data",
          "data": {
            "text/plain": "<IPython.core.display.Javascript object>",
            "application/javascript": "\n                var existingWin = window.bswin;\n                existingWin && existingWin.postMessage('{\"userId\": \"glen\", \"state\": {\"max_x\": 4, \"max_y\": 4, \"balls\": null, \"claw\": {\"pos\": {\"x\": 0, \"y\": 3}, \"open\": true, \"ball_color\": \"\"}, \"isInGoalState\": false, \"moving_horizontally\": false, \"moving_vertically\": false, \"operating_claw\": false}}', \"*\");    \n                "
          },
          "metadata": {}
        },
        {
          "name": "stdout",
          "text": "closing claw\ngrabbing red marble\n",
          "output_type": "stream"
        },
        {
          "output_type": "display_data",
          "data": {
            "text/plain": "<IPython.core.display.Javascript object>",
            "application/javascript": "\n                var existingWin = window.bswin;\n                existingWin && existingWin.postMessage('{\"userId\": \"glen\", \"state\": {\"max_x\": 4, \"max_y\": 4, \"balls\": null, \"claw\": {\"pos\": {\"x\": 0, \"y\": 3}, \"open\": false, \"ball_color\": \"red\"}, \"isInGoalState\": false, \"moving_horizontally\": false, \"moving_vertically\": false, \"operating_claw\": true}}', \"*\");    \n                "
          },
          "metadata": {}
        },
        {
          "name": "stdout",
          "text": "new position: 3, 3\n",
          "output_type": "stream"
        },
        {
          "output_type": "display_data",
          "data": {
            "text/plain": "<IPython.core.display.Javascript object>",
            "application/javascript": "\n                var existingWin = window.bswin;\n                existingWin && existingWin.postMessage('{\"userId\": \"glen\", \"state\": {\"max_x\": 4, \"max_y\": 4, \"balls\": null, \"claw\": {\"pos\": {\"x\": 3, \"y\": 3}, \"open\": false, \"ball_color\": \"red\"}, \"isInGoalState\": false, \"moving_horizontally\": true, \"moving_vertically\": false, \"operating_claw\": false}}', \"*\");    \n                "
          },
          "metadata": {}
        },
        {
          "name": "stdout",
          "text": "new position: 3, 0\n",
          "output_type": "stream"
        },
        {
          "output_type": "display_data",
          "data": {
            "text/plain": "<IPython.core.display.Javascript object>",
            "application/javascript": "\n                var existingWin = window.bswin;\n                existingWin && existingWin.postMessage('{\"userId\": \"glen\", \"state\": {\"max_x\": 4, \"max_y\": 4, \"balls\": null, \"claw\": {\"pos\": {\"x\": 3, \"y\": 0}, \"open\": false, \"ball_color\": \"red\"}, \"isInGoalState\": false, \"moving_horizontally\": true, \"moving_vertically\": true, \"operating_claw\": false}}', \"*\");    \n                "
          },
          "metadata": {}
        },
        {
          "output_type": "display_data",
          "data": {
            "text/plain": "<IPython.core.display.Javascript object>",
            "application/javascript": "\n                var existingWin = window.bswin;\n                existingWin && existingWin.postMessage('{\"userId\": \"glen\", \"state\": {\"max_x\": 4, \"max_y\": 4, \"balls\": null, \"claw\": {\"pos\": {\"x\": 3, \"y\": 0}, \"open\": false, \"ball_color\": \"red\"}, \"isInGoalState\": false, \"moving_horizontally\": false, \"moving_vertically\": true, \"operating_claw\": false}}', \"*\");    \n                "
          },
          "metadata": {}
        },
        {
          "output_type": "display_data",
          "data": {
            "text/plain": "<IPython.core.display.Javascript object>",
            "application/javascript": "\n                var existingWin = window.bswin;\n                existingWin && existingWin.postMessage('{\"userId\": \"glen\", \"state\": {\"max_x\": 4, \"max_y\": 4, \"balls\": null, \"claw\": {\"pos\": {\"x\": 3, \"y\": 0}, \"open\": false, \"ball_color\": \"red\"}, \"isInGoalState\": false, \"moving_horizontally\": false, \"moving_vertically\": false, \"operating_claw\": false}}', \"*\");    \n                "
          },
          "metadata": {}
        },
        {
          "name": "stdout",
          "text": "opening claw\ndropping red marble\n",
          "output_type": "stream"
        },
        {
          "output_type": "display_data",
          "data": {
            "text/plain": "<IPython.core.display.Javascript object>",
            "application/javascript": "\n                var existingWin = window.bswin;\n                existingWin && existingWin.postMessage('{\"userId\": \"glen\", \"state\": {\"max_x\": 4, \"max_y\": 4, \"balls\": null, \"claw\": {\"pos\": {\"x\": 3, \"y\": 0}, \"open\": true, \"ball_color\": \"\"}, \"isInGoalState\": false, \"moving_horizontally\": false, \"moving_vertically\": false, \"operating_claw\": true}}', \"*\");    \n                "
          },
          "metadata": {}
        },
        {
          "name": "stdout",
          "text": "new position: 0, 0\n",
          "output_type": "stream"
        },
        {
          "output_type": "display_data",
          "data": {
            "text/plain": "<IPython.core.display.Javascript object>",
            "application/javascript": "\n                var existingWin = window.bswin;\n                existingWin && existingWin.postMessage('{\"userId\": \"glen\", \"state\": {\"max_x\": 4, \"max_y\": 4, \"balls\": null, \"claw\": {\"pos\": {\"x\": 0, \"y\": 0}, \"open\": true, \"ball_color\": \"\"}, \"isInGoalState\": false, \"moving_horizontally\": true, \"moving_vertically\": false, \"operating_claw\": false}}', \"*\");    \n                "
          },
          "metadata": {}
        },
        {
          "name": "stdout",
          "text": "new position: 0, 4\n",
          "output_type": "stream"
        },
        {
          "output_type": "display_data",
          "data": {
            "text/plain": "<IPython.core.display.Javascript object>",
            "application/javascript": "\n                var existingWin = window.bswin;\n                existingWin && existingWin.postMessage('{\"userId\": \"glen\", \"state\": {\"max_x\": 4, \"max_y\": 4, \"balls\": null, \"claw\": {\"pos\": {\"x\": 0, \"y\": 4}, \"open\": true, \"ball_color\": \"\"}, \"isInGoalState\": false, \"moving_horizontally\": true, \"moving_vertically\": true, \"operating_claw\": false}}', \"*\");    \n                "
          },
          "metadata": {}
        },
        {
          "name": "stdout",
          "text": "opening claw\n",
          "output_type": "stream"
        },
        {
          "output_type": "display_data",
          "data": {
            "text/plain": "<IPython.core.display.Javascript object>",
            "application/javascript": "\n                var existingWin = window.bswin;\n                existingWin && existingWin.postMessage('{\"userId\": \"glen\", \"state\": {\"max_x\": 4, \"max_y\": 4, \"balls\": null, \"claw\": {\"pos\": {\"x\": 0, \"y\": 4}, \"open\": true, \"ball_color\": \"\"}, \"isInGoalState\": false, \"moving_horizontally\": true, \"moving_vertically\": true, \"operating_claw\": true}}', \"*\");    \n                "
          },
          "metadata": {}
        },
        {
          "output_type": "display_data",
          "data": {
            "text/plain": "<IPython.core.display.Javascript object>",
            "application/javascript": "\n                var existingWin = window.bswin;\n                existingWin && existingWin.postMessage('{\"userId\": \"glen\", \"state\": {\"max_x\": 4, \"max_y\": 4, \"balls\": null, \"claw\": {\"pos\": {\"x\": 0, \"y\": 4}, \"open\": true, \"ball_color\": \"\"}, \"isInGoalState\": false, \"moving_horizontally\": false, \"moving_vertically\": true, \"operating_claw\": false}}', \"*\");    \n                "
          },
          "metadata": {}
        },
        {
          "output_type": "display_data",
          "data": {
            "text/plain": "<IPython.core.display.Javascript object>",
            "application/javascript": "\n                var existingWin = window.bswin;\n                existingWin && existingWin.postMessage('{\"userId\": \"glen\", \"state\": {\"max_x\": 4, \"max_y\": 4, \"balls\": null, \"claw\": {\"pos\": {\"x\": 0, \"y\": 4}, \"open\": true, \"ball_color\": \"\"}, \"isInGoalState\": false, \"moving_horizontally\": false, \"moving_vertically\": false, \"operating_claw\": false}}', \"*\");    \n                "
          },
          "metadata": {}
        },
        {
          "name": "stdout",
          "text": "closing claw\ngrabbing red marble\n",
          "output_type": "stream"
        },
        {
          "output_type": "display_data",
          "data": {
            "text/plain": "<IPython.core.display.Javascript object>",
            "application/javascript": "\n                var existingWin = window.bswin;\n                existingWin && existingWin.postMessage('{\"userId\": \"glen\", \"state\": {\"max_x\": 4, \"max_y\": 4, \"balls\": null, \"claw\": {\"pos\": {\"x\": 0, \"y\": 4}, \"open\": false, \"ball_color\": \"red\"}, \"isInGoalState\": false, \"moving_horizontally\": false, \"moving_vertically\": false, \"operating_claw\": true}}', \"*\");    \n                "
          },
          "metadata": {}
        },
        {
          "name": "stdout",
          "text": "new position: 4, 4\n",
          "output_type": "stream"
        },
        {
          "output_type": "display_data",
          "data": {
            "text/plain": "<IPython.core.display.Javascript object>",
            "application/javascript": "\n                var existingWin = window.bswin;\n                existingWin && existingWin.postMessage('{\"userId\": \"glen\", \"state\": {\"max_x\": 4, \"max_y\": 4, \"balls\": null, \"claw\": {\"pos\": {\"x\": 4, \"y\": 4}, \"open\": false, \"ball_color\": \"red\"}, \"isInGoalState\": false, \"moving_horizontally\": true, \"moving_vertically\": false, \"operating_claw\": false}}', \"*\");    \n                "
          },
          "metadata": {}
        },
        {
          "output_type": "display_data",
          "data": {
            "text/plain": "<IPython.core.display.Javascript object>",
            "application/javascript": "\n                var existingWin = window.bswin;\n                existingWin && existingWin.postMessage('{\"userId\": \"glen\", \"state\": {\"max_x\": 4, \"max_y\": 4, \"balls\": null, \"claw\": {\"pos\": {\"x\": 4, \"y\": 4}, \"open\": false, \"ball_color\": \"red\"}, \"isInGoalState\": false, \"moving_horizontally\": false, \"moving_vertically\": false, \"operating_claw\": false}}', \"*\");    \n                "
          },
          "metadata": {}
        },
        {
          "name": "stdout",
          "text": "opening claw\ndropping red marble\n",
          "output_type": "stream"
        },
        {
          "output_type": "display_data",
          "data": {
            "text/plain": "<IPython.core.display.Javascript object>",
            "application/javascript": "\n                var existingWin = window.bswin;\n                existingWin && existingWin.postMessage('{\"userId\": \"glen\", \"state\": {\"max_x\": 4, \"max_y\": 4, \"balls\": null, \"claw\": {\"pos\": {\"x\": 4, \"y\": 4}, \"open\": true, \"ball_color\": \"\"}, \"isInGoalState\": false, \"moving_horizontally\": false, \"moving_vertically\": false, \"operating_claw\": true}}', \"*\");    \n                "
          },
          "metadata": {}
        },
        {
          "name": "stdout",
          "text": "new position: 1, 4\n",
          "output_type": "stream"
        },
        {
          "output_type": "display_data",
          "data": {
            "text/plain": "<IPython.core.display.Javascript object>",
            "application/javascript": "\n                var existingWin = window.bswin;\n                existingWin && existingWin.postMessage('{\"userId\": \"glen\", \"state\": {\"max_x\": 4, \"max_y\": 4, \"balls\": null, \"claw\": {\"pos\": {\"x\": 1, \"y\": 4}, \"open\": true, \"ball_color\": \"\"}, \"isInGoalState\": false, \"moving_horizontally\": true, \"moving_vertically\": false, \"operating_claw\": false}}', \"*\");    \n                "
          },
          "metadata": {}
        },
        {
          "name": "stdout",
          "text": "new position: 1, 0\n",
          "output_type": "stream"
        },
        {
          "output_type": "display_data",
          "data": {
            "text/plain": "<IPython.core.display.Javascript object>",
            "application/javascript": "\n                var existingWin = window.bswin;\n                existingWin && existingWin.postMessage('{\"userId\": \"glen\", \"state\": {\"max_x\": 4, \"max_y\": 4, \"balls\": null, \"claw\": {\"pos\": {\"x\": 1, \"y\": 0}, \"open\": true, \"ball_color\": \"\"}, \"isInGoalState\": false, \"moving_horizontally\": true, \"moving_vertically\": true, \"operating_claw\": false}}', \"*\");    \n                "
          },
          "metadata": {}
        },
        {
          "name": "stdout",
          "text": "opening claw\n",
          "output_type": "stream"
        },
        {
          "output_type": "display_data",
          "data": {
            "text/plain": "<IPython.core.display.Javascript object>",
            "application/javascript": "\n                var existingWin = window.bswin;\n                existingWin && existingWin.postMessage('{\"userId\": \"glen\", \"state\": {\"max_x\": 4, \"max_y\": 4, \"balls\": null, \"claw\": {\"pos\": {\"x\": 1, \"y\": 0}, \"open\": true, \"ball_color\": \"\"}, \"isInGoalState\": false, \"moving_horizontally\": true, \"moving_vertically\": true, \"operating_claw\": true}}', \"*\");    \n                "
          },
          "metadata": {}
        },
        {
          "output_type": "display_data",
          "data": {
            "text/plain": "<IPython.core.display.Javascript object>",
            "application/javascript": "\n                var existingWin = window.bswin;\n                existingWin && existingWin.postMessage('{\"userId\": \"glen\", \"state\": {\"max_x\": 4, \"max_y\": 4, \"balls\": null, \"claw\": {\"pos\": {\"x\": 1, \"y\": 0}, \"open\": true, \"ball_color\": \"\"}, \"isInGoalState\": false, \"moving_horizontally\": false, \"moving_vertically\": true, \"operating_claw\": false}}', \"*\");    \n                "
          },
          "metadata": {}
        },
        {
          "output_type": "display_data",
          "data": {
            "text/plain": "<IPython.core.display.Javascript object>",
            "application/javascript": "\n                var existingWin = window.bswin;\n                existingWin && existingWin.postMessage('{\"userId\": \"glen\", \"state\": {\"max_x\": 4, \"max_y\": 4, \"balls\": null, \"claw\": {\"pos\": {\"x\": 1, \"y\": 0}, \"open\": true, \"ball_color\": \"\"}, \"isInGoalState\": false, \"moving_horizontally\": false, \"moving_vertically\": false, \"operating_claw\": false}}', \"*\");    \n                "
          },
          "metadata": {}
        },
        {
          "name": "stdout",
          "text": "closing claw\ngrabbing white marble\n",
          "output_type": "stream"
        },
        {
          "output_type": "display_data",
          "data": {
            "text/plain": "<IPython.core.display.Javascript object>",
            "application/javascript": "\n                var existingWin = window.bswin;\n                existingWin && existingWin.postMessage('{\"userId\": \"glen\", \"state\": {\"max_x\": 4, \"max_y\": 4, \"balls\": null, \"claw\": {\"pos\": {\"x\": 1, \"y\": 0}, \"open\": false, \"ball_color\": \"white\"}, \"isInGoalState\": false, \"moving_horizontally\": false, \"moving_vertically\": false, \"operating_claw\": true}}', \"*\");    \n                "
          },
          "metadata": {}
        },
        {
          "name": "stdout",
          "text": "new position: 0, 0\n",
          "output_type": "stream"
        },
        {
          "output_type": "display_data",
          "data": {
            "text/plain": "<IPython.core.display.Javascript object>",
            "application/javascript": "\n                var existingWin = window.bswin;\n                existingWin && existingWin.postMessage('{\"userId\": \"glen\", \"state\": {\"max_x\": 4, \"max_y\": 4, \"balls\": null, \"claw\": {\"pos\": {\"x\": 0, \"y\": 0}, \"open\": false, \"ball_color\": \"white\"}, \"isInGoalState\": false, \"moving_horizontally\": true, \"moving_vertically\": false, \"operating_claw\": false}}', \"*\");    \n                "
          },
          "metadata": {}
        },
        {
          "name": "stdout",
          "text": "new position: 0, 4\n",
          "output_type": "stream"
        },
        {
          "output_type": "display_data",
          "data": {
            "text/plain": "<IPython.core.display.Javascript object>",
            "application/javascript": "\n                var existingWin = window.bswin;\n                existingWin && existingWin.postMessage('{\"userId\": \"glen\", \"state\": {\"max_x\": 4, \"max_y\": 4, \"balls\": null, \"claw\": {\"pos\": {\"x\": 0, \"y\": 4}, \"open\": false, \"ball_color\": \"white\"}, \"isInGoalState\": false, \"moving_horizontally\": true, \"moving_vertically\": true, \"operating_claw\": false}}', \"*\");    \n                "
          },
          "metadata": {}
        },
        {
          "output_type": "display_data",
          "data": {
            "text/plain": "<IPython.core.display.Javascript object>",
            "application/javascript": "\n                var existingWin = window.bswin;\n                existingWin && existingWin.postMessage('{\"userId\": \"glen\", \"state\": {\"max_x\": 4, \"max_y\": 4, \"balls\": null, \"claw\": {\"pos\": {\"x\": 0, \"y\": 4}, \"open\": false, \"ball_color\": \"white\"}, \"isInGoalState\": false, \"moving_horizontally\": false, \"moving_vertically\": true, \"operating_claw\": false}}', \"*\");    \n                "
          },
          "metadata": {}
        },
        {
          "output_type": "display_data",
          "data": {
            "text/plain": "<IPython.core.display.Javascript object>",
            "application/javascript": "\n                var existingWin = window.bswin;\n                existingWin && existingWin.postMessage('{\"userId\": \"glen\", \"state\": {\"max_x\": 4, \"max_y\": 4, \"balls\": null, \"claw\": {\"pos\": {\"x\": 0, \"y\": 4}, \"open\": false, \"ball_color\": \"white\"}, \"isInGoalState\": false, \"moving_horizontally\": false, \"moving_vertically\": false, \"operating_claw\": false}}', \"*\");    \n                "
          },
          "metadata": {}
        },
        {
          "name": "stdout",
          "text": "opening claw\ndropping white marble\n",
          "output_type": "stream"
        },
        {
          "output_type": "display_data",
          "data": {
            "text/plain": "<IPython.core.display.Javascript object>",
            "application/javascript": "\n                var existingWin = window.bswin;\n                existingWin && existingWin.postMessage('{\"userId\": \"glen\", \"state\": {\"max_x\": 4, \"max_y\": 4, \"balls\": null, \"claw\": {\"pos\": {\"x\": 0, \"y\": 4}, \"open\": true, \"ball_color\": \"\"}, \"isInGoalState\": false, \"moving_horizontally\": false, \"moving_vertically\": false, \"operating_claw\": true}}', \"*\");    \n                "
          },
          "metadata": {}
        },
        {
          "name": "stdout",
          "text": "new position: 2, 4\n",
          "output_type": "stream"
        },
        {
          "output_type": "display_data",
          "data": {
            "text/plain": "<IPython.core.display.Javascript object>",
            "application/javascript": "\n                var existingWin = window.bswin;\n                existingWin && existingWin.postMessage('{\"userId\": \"glen\", \"state\": {\"max_x\": 4, \"max_y\": 4, \"balls\": null, \"claw\": {\"pos\": {\"x\": 2, \"y\": 4}, \"open\": true, \"ball_color\": \"\"}, \"isInGoalState\": false, \"moving_horizontally\": true, \"moving_vertically\": false, \"operating_claw\": false}}', \"*\");    \n                "
          },
          "metadata": {}
        },
        {
          "name": "stdout",
          "text": "new position: 2, 0\n",
          "output_type": "stream"
        },
        {
          "output_type": "display_data",
          "data": {
            "text/plain": "<IPython.core.display.Javascript object>",
            "application/javascript": "\n                var existingWin = window.bswin;\n                existingWin && existingWin.postMessage('{\"userId\": \"glen\", \"state\": {\"max_x\": 4, \"max_y\": 4, \"balls\": null, \"claw\": {\"pos\": {\"x\": 2, \"y\": 0}, \"open\": true, \"ball_color\": \"\"}, \"isInGoalState\": false, \"moving_horizontally\": true, \"moving_vertically\": true, \"operating_claw\": false}}', \"*\");    \n                "
          },
          "metadata": {}
        },
        {
          "name": "stdout",
          "text": "opening claw\n",
          "output_type": "stream"
        },
        {
          "output_type": "display_data",
          "data": {
            "text/plain": "<IPython.core.display.Javascript object>",
            "application/javascript": "\n                var existingWin = window.bswin;\n                existingWin && existingWin.postMessage('{\"userId\": \"glen\", \"state\": {\"max_x\": 4, \"max_y\": 4, \"balls\": null, \"claw\": {\"pos\": {\"x\": 2, \"y\": 0}, \"open\": true, \"ball_color\": \"\"}, \"isInGoalState\": false, \"moving_horizontally\": true, \"moving_vertically\": true, \"operating_claw\": true}}', \"*\");    \n                "
          },
          "metadata": {}
        },
        {
          "output_type": "display_data",
          "data": {
            "text/plain": "<IPython.core.display.Javascript object>",
            "application/javascript": "\n                var existingWin = window.bswin;\n                existingWin && existingWin.postMessage('{\"userId\": \"glen\", \"state\": {\"max_x\": 4, \"max_y\": 4, \"balls\": null, \"claw\": {\"pos\": {\"x\": 2, \"y\": 0}, \"open\": true, \"ball_color\": \"\"}, \"isInGoalState\": false, \"moving_horizontally\": false, \"moving_vertically\": true, \"operating_claw\": false}}', \"*\");    \n                "
          },
          "metadata": {}
        },
        {
          "output_type": "display_data",
          "data": {
            "text/plain": "<IPython.core.display.Javascript object>",
            "application/javascript": "\n                var existingWin = window.bswin;\n                existingWin && existingWin.postMessage('{\"userId\": \"glen\", \"state\": {\"max_x\": 4, \"max_y\": 4, \"balls\": null, \"claw\": {\"pos\": {\"x\": 2, \"y\": 0}, \"open\": true, \"ball_color\": \"\"}, \"isInGoalState\": false, \"moving_horizontally\": false, \"moving_vertically\": false, \"operating_claw\": false}}', \"*\");    \n                "
          },
          "metadata": {}
        },
        {
          "name": "stdout",
          "text": "closing claw\ngrabbing white marble\n",
          "output_type": "stream"
        },
        {
          "output_type": "display_data",
          "data": {
            "text/plain": "<IPython.core.display.Javascript object>",
            "application/javascript": "\n                var existingWin = window.bswin;\n                existingWin && existingWin.postMessage('{\"userId\": \"glen\", \"state\": {\"max_x\": 4, \"max_y\": 4, \"balls\": null, \"claw\": {\"pos\": {\"x\": 2, \"y\": 0}, \"open\": false, \"ball_color\": \"white\"}, \"isInGoalState\": false, \"moving_horizontally\": false, \"moving_vertically\": false, \"operating_claw\": true}}', \"*\");    \n                "
          },
          "metadata": {}
        },
        {
          "name": "stdout",
          "text": "new position: 0, 0\n",
          "output_type": "stream"
        },
        {
          "output_type": "display_data",
          "data": {
            "text/plain": "<IPython.core.display.Javascript object>",
            "application/javascript": "\n                var existingWin = window.bswin;\n                existingWin && existingWin.postMessage('{\"userId\": \"glen\", \"state\": {\"max_x\": 4, \"max_y\": 4, \"balls\": null, \"claw\": {\"pos\": {\"x\": 0, \"y\": 0}, \"open\": false, \"ball_color\": \"white\"}, \"isInGoalState\": false, \"moving_horizontally\": true, \"moving_vertically\": false, \"operating_claw\": false}}', \"*\");    \n                "
          },
          "metadata": {}
        },
        {
          "name": "stdout",
          "text": "new position: 0, 3\n",
          "output_type": "stream"
        },
        {
          "output_type": "display_data",
          "data": {
            "text/plain": "<IPython.core.display.Javascript object>",
            "application/javascript": "\n                var existingWin = window.bswin;\n                existingWin && existingWin.postMessage('{\"userId\": \"glen\", \"state\": {\"max_x\": 4, \"max_y\": 4, \"balls\": null, \"claw\": {\"pos\": {\"x\": 0, \"y\": 3}, \"open\": false, \"ball_color\": \"white\"}, \"isInGoalState\": false, \"moving_horizontally\": true, \"moving_vertically\": true, \"operating_claw\": false}}', \"*\");    \n                "
          },
          "metadata": {}
        },
        {
          "output_type": "display_data",
          "data": {
            "text/plain": "<IPython.core.display.Javascript object>",
            "application/javascript": "\n                var existingWin = window.bswin;\n                existingWin && existingWin.postMessage('{\"userId\": \"glen\", \"state\": {\"max_x\": 4, \"max_y\": 4, \"balls\": null, \"claw\": {\"pos\": {\"x\": 0, \"y\": 3}, \"open\": false, \"ball_color\": \"white\"}, \"isInGoalState\": false, \"moving_horizontally\": false, \"moving_vertically\": true, \"operating_claw\": false}}', \"*\");    \n                "
          },
          "metadata": {}
        },
        {
          "output_type": "display_data",
          "data": {
            "text/plain": "<IPython.core.display.Javascript object>",
            "application/javascript": "\n                var existingWin = window.bswin;\n                existingWin && existingWin.postMessage('{\"userId\": \"glen\", \"state\": {\"max_x\": 4, \"max_y\": 4, \"balls\": null, \"claw\": {\"pos\": {\"x\": 0, \"y\": 3}, \"open\": false, \"ball_color\": \"white\"}, \"isInGoalState\": false, \"moving_horizontally\": false, \"moving_vertically\": false, \"operating_claw\": false}}', \"*\");    \n                "
          },
          "metadata": {}
        },
        {
          "name": "stdout",
          "text": "opening claw\ndropping white marble\n",
          "output_type": "stream"
        },
        {
          "output_type": "display_data",
          "data": {
            "text/plain": "<IPython.core.display.Javascript object>",
            "application/javascript": "\n                var existingWin = window.bswin;\n                existingWin && existingWin.postMessage('{\"userId\": \"glen\", \"state\": {\"max_x\": 4, \"max_y\": 4, \"balls\": null, \"claw\": {\"pos\": {\"x\": 0, \"y\": 3}, \"open\": true, \"ball_color\": \"\"}, \"isInGoalState\": false, \"moving_horizontally\": false, \"moving_vertically\": false, \"operating_claw\": true}}', \"*\");    \n                "
          },
          "metadata": {}
        },
        {
          "name": "stdout",
          "text": "new position: 3, 3\n",
          "output_type": "stream"
        },
        {
          "output_type": "display_data",
          "data": {
            "text/plain": "<IPython.core.display.Javascript object>",
            "application/javascript": "\n                var existingWin = window.bswin;\n                existingWin && existingWin.postMessage('{\"userId\": \"glen\", \"state\": {\"max_x\": 4, \"max_y\": 4, \"balls\": null, \"claw\": {\"pos\": {\"x\": 3, \"y\": 3}, \"open\": true, \"ball_color\": \"\"}, \"isInGoalState\": false, \"moving_horizontally\": true, \"moving_vertically\": false, \"operating_claw\": false}}', \"*\");    \n                "
          },
          "metadata": {}
        },
        {
          "name": "stdout",
          "text": "new position: 3, 0\n",
          "output_type": "stream"
        },
        {
          "output_type": "display_data",
          "data": {
            "text/plain": "<IPython.core.display.Javascript object>",
            "application/javascript": "\n                var existingWin = window.bswin;\n                existingWin && existingWin.postMessage('{\"userId\": \"glen\", \"state\": {\"max_x\": 4, \"max_y\": 4, \"balls\": null, \"claw\": {\"pos\": {\"x\": 3, \"y\": 0}, \"open\": true, \"ball_color\": \"\"}, \"isInGoalState\": false, \"moving_horizontally\": true, \"moving_vertically\": true, \"operating_claw\": false}}', \"*\");    \n                "
          },
          "metadata": {}
        },
        {
          "name": "stdout",
          "text": "opening claw\n",
          "output_type": "stream"
        },
        {
          "output_type": "display_data",
          "data": {
            "text/plain": "<IPython.core.display.Javascript object>",
            "application/javascript": "\n                var existingWin = window.bswin;\n                existingWin && existingWin.postMessage('{\"userId\": \"glen\", \"state\": {\"max_x\": 4, \"max_y\": 4, \"balls\": null, \"claw\": {\"pos\": {\"x\": 3, \"y\": 0}, \"open\": true, \"ball_color\": \"\"}, \"isInGoalState\": false, \"moving_horizontally\": true, \"moving_vertically\": true, \"operating_claw\": true}}', \"*\");    \n                "
          },
          "metadata": {}
        },
        {
          "output_type": "display_data",
          "data": {
            "text/plain": "<IPython.core.display.Javascript object>",
            "application/javascript": "\n                var existingWin = window.bswin;\n                existingWin && existingWin.postMessage('{\"userId\": \"glen\", \"state\": {\"max_x\": 4, \"max_y\": 4, \"balls\": null, \"claw\": {\"pos\": {\"x\": 3, \"y\": 0}, \"open\": true, \"ball_color\": \"\"}, \"isInGoalState\": false, \"moving_horizontally\": false, \"moving_vertically\": true, \"operating_claw\": false}}', \"*\");    \n                "
          },
          "metadata": {}
        },
        {
          "output_type": "display_data",
          "data": {
            "text/plain": "<IPython.core.display.Javascript object>",
            "application/javascript": "\n                var existingWin = window.bswin;\n                existingWin && existingWin.postMessage('{\"userId\": \"glen\", \"state\": {\"max_x\": 4, \"max_y\": 4, \"balls\": null, \"claw\": {\"pos\": {\"x\": 3, \"y\": 0}, \"open\": true, \"ball_color\": \"\"}, \"isInGoalState\": false, \"moving_horizontally\": false, \"moving_vertically\": false, \"operating_claw\": false}}', \"*\");    \n                "
          },
          "metadata": {}
        },
        {
          "name": "stdout",
          "text": "closing claw\ngrabbing red marble\n",
          "output_type": "stream"
        },
        {
          "output_type": "display_data",
          "data": {
            "text/plain": "<IPython.core.display.Javascript object>",
            "application/javascript": "\n                var existingWin = window.bswin;\n                existingWin && existingWin.postMessage('{\"userId\": \"glen\", \"state\": {\"max_x\": 4, \"max_y\": 4, \"balls\": null, \"claw\": {\"pos\": {\"x\": 3, \"y\": 0}, \"open\": false, \"ball_color\": \"red\"}, \"isInGoalState\": false, \"moving_horizontally\": false, \"moving_vertically\": false, \"operating_claw\": true}}', \"*\");    \n                "
          },
          "metadata": {}
        },
        {
          "name": "stdout",
          "text": "new position: 0, 0\n",
          "output_type": "stream"
        },
        {
          "output_type": "display_data",
          "data": {
            "text/plain": "<IPython.core.display.Javascript object>",
            "application/javascript": "\n                var existingWin = window.bswin;\n                existingWin && existingWin.postMessage('{\"userId\": \"glen\", \"state\": {\"max_x\": 4, \"max_y\": 4, \"balls\": null, \"claw\": {\"pos\": {\"x\": 0, \"y\": 0}, \"open\": false, \"ball_color\": \"red\"}, \"isInGoalState\": false, \"moving_horizontally\": true, \"moving_vertically\": false, \"operating_claw\": false}}', \"*\");    \n                "
          },
          "metadata": {}
        },
        {
          "name": "stdout",
          "text": "new position: 0, 2\n",
          "output_type": "stream"
        },
        {
          "output_type": "display_data",
          "data": {
            "text/plain": "<IPython.core.display.Javascript object>",
            "application/javascript": "\n                var existingWin = window.bswin;\n                existingWin && existingWin.postMessage('{\"userId\": \"glen\", \"state\": {\"max_x\": 4, \"max_y\": 4, \"balls\": null, \"claw\": {\"pos\": {\"x\": 0, \"y\": 2}, \"open\": false, \"ball_color\": \"red\"}, \"isInGoalState\": false, \"moving_horizontally\": true, \"moving_vertically\": true, \"operating_claw\": false}}', \"*\");    \n                "
          },
          "metadata": {}
        },
        {
          "output_type": "display_data",
          "data": {
            "text/plain": "<IPython.core.display.Javascript object>",
            "application/javascript": "\n                var existingWin = window.bswin;\n                existingWin && existingWin.postMessage('{\"userId\": \"glen\", \"state\": {\"max_x\": 4, \"max_y\": 4, \"balls\": null, \"claw\": {\"pos\": {\"x\": 0, \"y\": 2}, \"open\": false, \"ball_color\": \"red\"}, \"isInGoalState\": false, \"moving_horizontally\": false, \"moving_vertically\": true, \"operating_claw\": false}}', \"*\");    \n                "
          },
          "metadata": {}
        },
        {
          "output_type": "display_data",
          "data": {
            "text/plain": "<IPython.core.display.Javascript object>",
            "application/javascript": "\n                var existingWin = window.bswin;\n                existingWin && existingWin.postMessage('{\"userId\": \"glen\", \"state\": {\"max_x\": 4, \"max_y\": 4, \"balls\": null, \"claw\": {\"pos\": {\"x\": 0, \"y\": 2}, \"open\": false, \"ball_color\": \"red\"}, \"isInGoalState\": false, \"moving_horizontally\": false, \"moving_vertically\": false, \"operating_claw\": false}}', \"*\");    \n                "
          },
          "metadata": {}
        },
        {
          "name": "stdout",
          "text": "opening claw\ndropping red marble\n",
          "output_type": "stream"
        },
        {
          "output_type": "display_data",
          "data": {
            "text/plain": "<IPython.core.display.Javascript object>",
            "application/javascript": "\n                var existingWin = window.bswin;\n                existingWin && existingWin.postMessage('{\"userId\": \"glen\", \"state\": {\"max_x\": 4, \"max_y\": 4, \"balls\": null, \"claw\": {\"pos\": {\"x\": 0, \"y\": 2}, \"open\": true, \"ball_color\": \"\"}, \"isInGoalState\": false, \"moving_horizontally\": false, \"moving_vertically\": false, \"operating_claw\": true}}', \"*\");    \n                "
          },
          "metadata": {}
        },
        {
          "name": "stdout",
          "text": "new position: 4, 2\n",
          "output_type": "stream"
        },
        {
          "output_type": "display_data",
          "data": {
            "text/plain": "<IPython.core.display.Javascript object>",
            "application/javascript": "\n                var existingWin = window.bswin;\n                existingWin && existingWin.postMessage('{\"userId\": \"glen\", \"state\": {\"max_x\": 4, \"max_y\": 4, \"balls\": null, \"claw\": {\"pos\": {\"x\": 4, \"y\": 2}, \"open\": true, \"ball_color\": \"\"}, \"isInGoalState\": false, \"moving_horizontally\": true, \"moving_vertically\": false, \"operating_claw\": false}}', \"*\");    \n                "
          },
          "metadata": {}
        },
        {
          "name": "stdout",
          "text": "new position: 4, 4\n",
          "output_type": "stream"
        },
        {
          "output_type": "display_data",
          "data": {
            "text/plain": "<IPython.core.display.Javascript object>",
            "application/javascript": "\n                var existingWin = window.bswin;\n                existingWin && existingWin.postMessage('{\"userId\": \"glen\", \"state\": {\"max_x\": 4, \"max_y\": 4, \"balls\": null, \"claw\": {\"pos\": {\"x\": 4, \"y\": 4}, \"open\": true, \"ball_color\": \"\"}, \"isInGoalState\": false, \"moving_horizontally\": true, \"moving_vertically\": true, \"operating_claw\": false}}', \"*\");    \n                "
          },
          "metadata": {}
        },
        {
          "name": "stdout",
          "text": "opening claw\n",
          "output_type": "stream"
        },
        {
          "output_type": "display_data",
          "data": {
            "text/plain": "<IPython.core.display.Javascript object>",
            "application/javascript": "\n                var existingWin = window.bswin;\n                existingWin && existingWin.postMessage('{\"userId\": \"glen\", \"state\": {\"max_x\": 4, \"max_y\": 4, \"balls\": null, \"claw\": {\"pos\": {\"x\": 4, \"y\": 4}, \"open\": true, \"ball_color\": \"\"}, \"isInGoalState\": false, \"moving_horizontally\": true, \"moving_vertically\": true, \"operating_claw\": true}}', \"*\");    \n                "
          },
          "metadata": {}
        },
        {
          "output_type": "display_data",
          "data": {
            "text/plain": "<IPython.core.display.Javascript object>",
            "application/javascript": "\n                var existingWin = window.bswin;\n                existingWin && existingWin.postMessage('{\"userId\": \"glen\", \"state\": {\"max_x\": 4, \"max_y\": 4, \"balls\": null, \"claw\": {\"pos\": {\"x\": 4, \"y\": 4}, \"open\": true, \"ball_color\": \"\"}, \"isInGoalState\": false, \"moving_horizontally\": false, \"moving_vertically\": true, \"operating_claw\": false}}', \"*\");    \n                "
          },
          "metadata": {}
        },
        {
          "output_type": "display_data",
          "data": {
            "text/plain": "<IPython.core.display.Javascript object>",
            "application/javascript": "\n                var existingWin = window.bswin;\n                existingWin && existingWin.postMessage('{\"userId\": \"glen\", \"state\": {\"max_x\": 4, \"max_y\": 4, \"balls\": null, \"claw\": {\"pos\": {\"x\": 4, \"y\": 4}, \"open\": true, \"ball_color\": \"\"}, \"isInGoalState\": false, \"moving_horizontally\": false, \"moving_vertically\": false, \"operating_claw\": false}}', \"*\");    \n                "
          },
          "metadata": {}
        },
        {
          "name": "stdout",
          "text": "closing claw\ngrabbing red marble\n",
          "output_type": "stream"
        },
        {
          "output_type": "display_data",
          "data": {
            "text/plain": "<IPython.core.display.Javascript object>",
            "application/javascript": "\n                var existingWin = window.bswin;\n                existingWin && existingWin.postMessage('{\"userId\": \"glen\", \"state\": {\"max_x\": 4, \"max_y\": 4, \"balls\": null, \"claw\": {\"pos\": {\"x\": 4, \"y\": 4}, \"open\": false, \"ball_color\": \"red\"}, \"isInGoalState\": false, \"moving_horizontally\": false, \"moving_vertically\": false, \"operating_claw\": true}}', \"*\");    \n                "
          },
          "metadata": {}
        },
        {
          "name": "stdout",
          "text": "new position: 0, 4\n",
          "output_type": "stream"
        },
        {
          "output_type": "display_data",
          "data": {
            "text/plain": "<IPython.core.display.Javascript object>",
            "application/javascript": "\n                var existingWin = window.bswin;\n                existingWin && existingWin.postMessage('{\"userId\": \"glen\", \"state\": {\"max_x\": 4, \"max_y\": 4, \"balls\": null, \"claw\": {\"pos\": {\"x\": 0, \"y\": 4}, \"open\": false, \"ball_color\": \"red\"}, \"isInGoalState\": false, \"moving_horizontally\": true, \"moving_vertically\": false, \"operating_claw\": false}}', \"*\");    \n                "
          },
          "metadata": {}
        },
        {
          "name": "stdout",
          "text": "new position: 0, 1\n",
          "output_type": "stream"
        },
        {
          "output_type": "display_data",
          "data": {
            "text/plain": "<IPython.core.display.Javascript object>",
            "application/javascript": "\n                var existingWin = window.bswin;\n                existingWin && existingWin.postMessage('{\"userId\": \"glen\", \"state\": {\"max_x\": 4, \"max_y\": 4, \"balls\": null, \"claw\": {\"pos\": {\"x\": 0, \"y\": 1}, \"open\": false, \"ball_color\": \"red\"}, \"isInGoalState\": false, \"moving_horizontally\": true, \"moving_vertically\": true, \"operating_claw\": false}}', \"*\");    \n                "
          },
          "metadata": {}
        },
        {
          "output_type": "display_data",
          "data": {
            "text/plain": "<IPython.core.display.Javascript object>",
            "application/javascript": "\n                var existingWin = window.bswin;\n                existingWin && existingWin.postMessage('{\"userId\": \"glen\", \"state\": {\"max_x\": 4, \"max_y\": 4, \"balls\": null, \"claw\": {\"pos\": {\"x\": 0, \"y\": 1}, \"open\": false, \"ball_color\": \"red\"}, \"isInGoalState\": false, \"moving_horizontally\": false, \"moving_vertically\": true, \"operating_claw\": false}}', \"*\");    \n                "
          },
          "metadata": {}
        },
        {
          "output_type": "display_data",
          "data": {
            "text/plain": "<IPython.core.display.Javascript object>",
            "application/javascript": "\n                var existingWin = window.bswin;\n                existingWin && existingWin.postMessage('{\"userId\": \"glen\", \"state\": {\"max_x\": 4, \"max_y\": 4, \"balls\": null, \"claw\": {\"pos\": {\"x\": 0, \"y\": 1}, \"open\": false, \"ball_color\": \"red\"}, \"isInGoalState\": false, \"moving_horizontally\": false, \"moving_vertically\": false, \"operating_claw\": false}}', \"*\");    \n                "
          },
          "metadata": {}
        },
        {
          "name": "stdout",
          "text": "opening claw\ndropping red marble\n",
          "output_type": "stream"
        },
        {
          "output_type": "display_data",
          "data": {
            "text/plain": "<IPython.core.display.Javascript object>",
            "application/javascript": "\n                var existingWin = window.bswin;\n                existingWin && existingWin.postMessage('{\"userId\": \"glen\", \"state\": {\"max_x\": 4, \"max_y\": 4, \"balls\": null, \"claw\": {\"pos\": {\"x\": 0, \"y\": 1}, \"open\": true, \"ball_color\": \"\"}, \"isInGoalState\": false, \"moving_horizontally\": false, \"moving_vertically\": false, \"operating_claw\": true}}', \"*\");    \n                "
          },
          "metadata": {}
        },
        {
          "name": "stdout",
          "text": "new position: 1, 1\n",
          "output_type": "stream"
        },
        {
          "output_type": "display_data",
          "data": {
            "text/plain": "<IPython.core.display.Javascript object>",
            "application/javascript": "\n                var existingWin = window.bswin;\n                existingWin && existingWin.postMessage('{\"userId\": \"glen\", \"state\": {\"max_x\": 4, \"max_y\": 4, \"balls\": null, \"claw\": {\"pos\": {\"x\": 1, \"y\": 1}, \"open\": true, \"ball_color\": \"\"}, \"isInGoalState\": false, \"moving_horizontally\": true, \"moving_vertically\": false, \"operating_claw\": false}}', \"*\");    \n                "
          },
          "metadata": {}
        },
        {
          "name": "stdout",
          "text": "opening claw\n",
          "output_type": "stream"
        },
        {
          "output_type": "display_data",
          "data": {
            "text/plain": "<IPython.core.display.Javascript object>",
            "application/javascript": "\n                var existingWin = window.bswin;\n                existingWin && existingWin.postMessage('{\"userId\": \"glen\", \"state\": {\"max_x\": 4, \"max_y\": 4, \"balls\": null, \"claw\": {\"pos\": {\"x\": 1, \"y\": 1}, \"open\": true, \"ball_color\": \"\"}, \"isInGoalState\": false, \"moving_horizontally\": true, \"moving_vertically\": false, \"operating_claw\": true}}', \"*\");    \n                "
          },
          "metadata": {}
        },
        {
          "output_type": "display_data",
          "data": {
            "text/plain": "<IPython.core.display.Javascript object>",
            "application/javascript": "\n                var existingWin = window.bswin;\n                existingWin && existingWin.postMessage('{\"userId\": \"glen\", \"state\": {\"max_x\": 4, \"max_y\": 4, \"balls\": null, \"claw\": {\"pos\": {\"x\": 1, \"y\": 1}, \"open\": true, \"ball_color\": \"\"}, \"isInGoalState\": false, \"moving_horizontally\": false, \"moving_vertically\": false, \"operating_claw\": false}}', \"*\");    \n                "
          },
          "metadata": {}
        },
        {
          "name": "stdout",
          "text": "closing claw\ngrabbing white marble\n",
          "output_type": "stream"
        },
        {
          "output_type": "display_data",
          "data": {
            "text/plain": "<IPython.core.display.Javascript object>",
            "application/javascript": "\n                var existingWin = window.bswin;\n                existingWin && existingWin.postMessage('{\"userId\": \"glen\", \"state\": {\"max_x\": 4, \"max_y\": 4, \"balls\": null, \"claw\": {\"pos\": {\"x\": 1, \"y\": 1}, \"open\": false, \"ball_color\": \"white\"}, \"isInGoalState\": false, \"moving_horizontally\": false, \"moving_vertically\": false, \"operating_claw\": true}}', \"*\");    \n                "
          },
          "metadata": {}
        },
        {
          "name": "stdout",
          "text": "new position: 0, 1\n",
          "output_type": "stream"
        },
        {
          "output_type": "display_data",
          "data": {
            "text/plain": "<IPython.core.display.Javascript object>",
            "application/javascript": "\n                var existingWin = window.bswin;\n                existingWin && existingWin.postMessage('{\"userId\": \"glen\", \"state\": {\"max_x\": 4, \"max_y\": 4, \"balls\": null, \"claw\": {\"pos\": {\"x\": 0, \"y\": 1}, \"open\": false, \"ball_color\": \"white\"}, \"isInGoalState\": false, \"moving_horizontally\": true, \"moving_vertically\": false, \"operating_claw\": false}}', \"*\");    \n                "
          },
          "metadata": {}
        },
        {
          "name": "stdout",
          "text": "new position: 0, 0\n",
          "output_type": "stream"
        },
        {
          "output_type": "display_data",
          "data": {
            "text/plain": "<IPython.core.display.Javascript object>",
            "application/javascript": "\n                var existingWin = window.bswin;\n                existingWin && existingWin.postMessage('{\"userId\": \"glen\", \"state\": {\"max_x\": 4, \"max_y\": 4, \"balls\": null, \"claw\": {\"pos\": {\"x\": 0, \"y\": 0}, \"open\": false, \"ball_color\": \"white\"}, \"isInGoalState\": false, \"moving_horizontally\": true, \"moving_vertically\": true, \"operating_claw\": false}}', \"*\");    \n                "
          },
          "metadata": {}
        },
        {
          "output_type": "display_data",
          "data": {
            "text/plain": "<IPython.core.display.Javascript object>",
            "application/javascript": "\n                var existingWin = window.bswin;\n                existingWin && existingWin.postMessage('{\"userId\": \"glen\", \"state\": {\"max_x\": 4, \"max_y\": 4, \"balls\": null, \"claw\": {\"pos\": {\"x\": 0, \"y\": 0}, \"open\": false, \"ball_color\": \"white\"}, \"isInGoalState\": false, \"moving_horizontally\": false, \"moving_vertically\": true, \"operating_claw\": false}}', \"*\");    \n                "
          },
          "metadata": {}
        },
        {
          "output_type": "display_data",
          "data": {
            "text/plain": "<IPython.core.display.Javascript object>",
            "application/javascript": "\n                var existingWin = window.bswin;\n                existingWin && existingWin.postMessage('{\"userId\": \"glen\", \"state\": {\"max_x\": 4, \"max_y\": 4, \"balls\": null, \"claw\": {\"pos\": {\"x\": 0, \"y\": 0}, \"open\": false, \"ball_color\": \"white\"}, \"isInGoalState\": false, \"moving_horizontally\": false, \"moving_vertically\": false, \"operating_claw\": false}}', \"*\");    \n                "
          },
          "metadata": {}
        },
        {
          "name": "stdout",
          "text": "opening claw\ndropping white marble\n",
          "output_type": "stream"
        },
        {
          "output_type": "display_data",
          "data": {
            "text/plain": "<IPython.core.display.Javascript object>",
            "application/javascript": "\n                var existingWin = window.bswin;\n                existingWin && existingWin.postMessage('{\"userId\": \"glen\", \"state\": {\"max_x\": 4, \"max_y\": 4, \"balls\": null, \"claw\": {\"pos\": {\"x\": 0, \"y\": 0}, \"open\": true, \"ball_color\": \"\"}, \"isInGoalState\": false, \"moving_horizontally\": false, \"moving_vertically\": false, \"operating_claw\": true}}', \"*\");    \n                "
          },
          "metadata": {}
        },
        {
          "name": "stdout",
          "text": "new position: 1, 0\n",
          "output_type": "stream"
        },
        {
          "output_type": "display_data",
          "data": {
            "text/plain": "<IPython.core.display.Javascript object>",
            "application/javascript": "\n                var existingWin = window.bswin;\n                existingWin && existingWin.postMessage('{\"userId\": \"glen\", \"state\": {\"max_x\": 4, \"max_y\": 4, \"balls\": null, \"claw\": {\"pos\": {\"x\": 1, \"y\": 0}, \"open\": true, \"ball_color\": \"\"}, \"isInGoalState\": false, \"moving_horizontally\": true, \"moving_vertically\": false, \"operating_claw\": false}}', \"*\");    \n                "
          },
          "metadata": {}
        },
        {
          "name": "stdout",
          "text": "new position: 1, 2\n",
          "output_type": "stream"
        },
        {
          "output_type": "display_data",
          "data": {
            "text/plain": "<IPython.core.display.Javascript object>",
            "application/javascript": "\n                var existingWin = window.bswin;\n                existingWin && existingWin.postMessage('{\"userId\": \"glen\", \"state\": {\"max_x\": 4, \"max_y\": 4, \"balls\": null, \"claw\": {\"pos\": {\"x\": 1, \"y\": 2}, \"open\": true, \"ball_color\": \"\"}, \"isInGoalState\": false, \"moving_horizontally\": true, \"moving_vertically\": true, \"operating_claw\": false}}', \"*\");    \n                "
          },
          "metadata": {}
        },
        {
          "name": "stdout",
          "text": "opening claw\n",
          "output_type": "stream"
        },
        {
          "output_type": "display_data",
          "data": {
            "text/plain": "<IPython.core.display.Javascript object>",
            "application/javascript": "\n                var existingWin = window.bswin;\n                existingWin && existingWin.postMessage('{\"userId\": \"glen\", \"state\": {\"max_x\": 4, \"max_y\": 4, \"balls\": null, \"claw\": {\"pos\": {\"x\": 1, \"y\": 2}, \"open\": true, \"ball_color\": \"\"}, \"isInGoalState\": false, \"moving_horizontally\": true, \"moving_vertically\": true, \"operating_claw\": true}}', \"*\");    \n                "
          },
          "metadata": {}
        },
        {
          "output_type": "display_data",
          "data": {
            "text/plain": "<IPython.core.display.Javascript object>",
            "application/javascript": "\n                var existingWin = window.bswin;\n                existingWin && existingWin.postMessage('{\"userId\": \"glen\", \"state\": {\"max_x\": 4, \"max_y\": 4, \"balls\": null, \"claw\": {\"pos\": {\"x\": 1, \"y\": 2}, \"open\": true, \"ball_color\": \"\"}, \"isInGoalState\": false, \"moving_horizontally\": false, \"moving_vertically\": true, \"operating_claw\": false}}', \"*\");    \n                "
          },
          "metadata": {}
        },
        {
          "output_type": "display_data",
          "data": {
            "text/plain": "<IPython.core.display.Javascript object>",
            "application/javascript": "\n                var existingWin = window.bswin;\n                existingWin && existingWin.postMessage('{\"userId\": \"glen\", \"state\": {\"max_x\": 4, \"max_y\": 4, \"balls\": null, \"claw\": {\"pos\": {\"x\": 1, \"y\": 2}, \"open\": true, \"ball_color\": \"\"}, \"isInGoalState\": false, \"moving_horizontally\": false, \"moving_vertically\": false, \"operating_claw\": false}}', \"*\");    \n                "
          },
          "metadata": {}
        },
        {
          "name": "stdout",
          "text": "closing claw\ngrabbing white marble\n",
          "output_type": "stream"
        },
        {
          "output_type": "display_data",
          "data": {
            "text/plain": "<IPython.core.display.Javascript object>",
            "application/javascript": "\n                var existingWin = window.bswin;\n                existingWin && existingWin.postMessage('{\"userId\": \"glen\", \"state\": {\"max_x\": 4, \"max_y\": 4, \"balls\": null, \"claw\": {\"pos\": {\"x\": 1, \"y\": 2}, \"open\": false, \"ball_color\": \"white\"}, \"isInGoalState\": false, \"moving_horizontally\": false, \"moving_vertically\": false, \"operating_claw\": true}}', \"*\");    \n                "
          },
          "metadata": {}
        },
        {
          "name": "stdout",
          "text": "new position: 2, 2\n",
          "output_type": "stream"
        },
        {
          "output_type": "display_data",
          "data": {
            "text/plain": "<IPython.core.display.Javascript object>",
            "application/javascript": "\n                var existingWin = window.bswin;\n                existingWin && existingWin.postMessage('{\"userId\": \"glen\", \"state\": {\"max_x\": 4, \"max_y\": 4, \"balls\": null, \"claw\": {\"pos\": {\"x\": 2, \"y\": 2}, \"open\": false, \"ball_color\": \"white\"}, \"isInGoalState\": false, \"moving_horizontally\": true, \"moving_vertically\": false, \"operating_claw\": false}}', \"*\");    \n                "
          },
          "metadata": {}
        },
        {
          "name": "stdout",
          "text": "new position: 2, 0\n",
          "output_type": "stream"
        },
        {
          "output_type": "display_data",
          "data": {
            "text/plain": "<IPython.core.display.Javascript object>",
            "application/javascript": "\n                var existingWin = window.bswin;\n                existingWin && existingWin.postMessage('{\"userId\": \"glen\", \"state\": {\"max_x\": 4, \"max_y\": 4, \"balls\": null, \"claw\": {\"pos\": {\"x\": 2, \"y\": 0}, \"open\": false, \"ball_color\": \"white\"}, \"isInGoalState\": false, \"moving_horizontally\": true, \"moving_vertically\": true, \"operating_claw\": false}}', \"*\");    \n                "
          },
          "metadata": {}
        },
        {
          "output_type": "display_data",
          "data": {
            "text/plain": "<IPython.core.display.Javascript object>",
            "application/javascript": "\n                var existingWin = window.bswin;\n                existingWin && existingWin.postMessage('{\"userId\": \"glen\", \"state\": {\"max_x\": 4, \"max_y\": 4, \"balls\": null, \"claw\": {\"pos\": {\"x\": 2, \"y\": 0}, \"open\": false, \"ball_color\": \"white\"}, \"isInGoalState\": false, \"moving_horizontally\": false, \"moving_vertically\": true, \"operating_claw\": false}}', \"*\");    \n                "
          },
          "metadata": {}
        },
        {
          "output_type": "display_data",
          "data": {
            "text/plain": "<IPython.core.display.Javascript object>",
            "application/javascript": "\n                var existingWin = window.bswin;\n                existingWin && existingWin.postMessage('{\"userId\": \"glen\", \"state\": {\"max_x\": 4, \"max_y\": 4, \"balls\": null, \"claw\": {\"pos\": {\"x\": 2, \"y\": 0}, \"open\": false, \"ball_color\": \"white\"}, \"isInGoalState\": false, \"moving_horizontally\": false, \"moving_vertically\": false, \"operating_claw\": false}}', \"*\");    \n                "
          },
          "metadata": {}
        },
        {
          "name": "stdout",
          "text": "opening claw\ndropping white marble\n",
          "output_type": "stream"
        },
        {
          "output_type": "display_data",
          "data": {
            "text/plain": "<IPython.core.display.Javascript object>",
            "application/javascript": "\n                var existingWin = window.bswin;\n                existingWin && existingWin.postMessage('{\"userId\": \"glen\", \"state\": {\"max_x\": 4, \"max_y\": 4, \"balls\": null, \"claw\": {\"pos\": {\"x\": 2, \"y\": 0}, \"open\": true, \"ball_color\": \"\"}, \"isInGoalState\": false, \"moving_horizontally\": false, \"moving_vertically\": false, \"operating_claw\": true}}', \"*\");    \n                "
          },
          "metadata": {}
        },
        {
          "name": "stdout",
          "text": "new position: 1, 0\n",
          "output_type": "stream"
        },
        {
          "output_type": "display_data",
          "data": {
            "text/plain": "<IPython.core.display.Javascript object>",
            "application/javascript": "\n                var existingWin = window.bswin;\n                existingWin && existingWin.postMessage('{\"userId\": \"glen\", \"state\": {\"max_x\": 4, \"max_y\": 4, \"balls\": null, \"claw\": {\"pos\": {\"x\": 1, \"y\": 0}, \"open\": true, \"ball_color\": \"\"}, \"isInGoalState\": false, \"moving_horizontally\": true, \"moving_vertically\": false, \"operating_claw\": false}}', \"*\");    \n                "
          },
          "metadata": {}
        },
        {
          "name": "stdout",
          "text": "new position: 1, 3\n",
          "output_type": "stream"
        },
        {
          "output_type": "display_data",
          "data": {
            "text/plain": "<IPython.core.display.Javascript object>",
            "application/javascript": "\n                var existingWin = window.bswin;\n                existingWin && existingWin.postMessage('{\"userId\": \"glen\", \"state\": {\"max_x\": 4, \"max_y\": 4, \"balls\": null, \"claw\": {\"pos\": {\"x\": 1, \"y\": 3}, \"open\": true, \"ball_color\": \"\"}, \"isInGoalState\": false, \"moving_horizontally\": true, \"moving_vertically\": true, \"operating_claw\": false}}', \"*\");    \n                "
          },
          "metadata": {}
        },
        {
          "name": "stdout",
          "text": "opening claw\n",
          "output_type": "stream"
        },
        {
          "output_type": "display_data",
          "data": {
            "text/plain": "<IPython.core.display.Javascript object>",
            "application/javascript": "\n                var existingWin = window.bswin;\n                existingWin && existingWin.postMessage('{\"userId\": \"glen\", \"state\": {\"max_x\": 4, \"max_y\": 4, \"balls\": null, \"claw\": {\"pos\": {\"x\": 1, \"y\": 3}, \"open\": true, \"ball_color\": \"\"}, \"isInGoalState\": false, \"moving_horizontally\": true, \"moving_vertically\": true, \"operating_claw\": true}}', \"*\");    \n                "
          },
          "metadata": {}
        },
        {
          "output_type": "display_data",
          "data": {
            "text/plain": "<IPython.core.display.Javascript object>",
            "application/javascript": "\n                var existingWin = window.bswin;\n                existingWin && existingWin.postMessage('{\"userId\": \"glen\", \"state\": {\"max_x\": 4, \"max_y\": 4, \"balls\": null, \"claw\": {\"pos\": {\"x\": 1, \"y\": 3}, \"open\": true, \"ball_color\": \"\"}, \"isInGoalState\": false, \"moving_horizontally\": false, \"moving_vertically\": true, \"operating_claw\": false}}', \"*\");    \n                "
          },
          "metadata": {}
        },
        {
          "output_type": "display_data",
          "data": {
            "text/plain": "<IPython.core.display.Javascript object>",
            "application/javascript": "\n                var existingWin = window.bswin;\n                existingWin && existingWin.postMessage('{\"userId\": \"glen\", \"state\": {\"max_x\": 4, \"max_y\": 4, \"balls\": null, \"claw\": {\"pos\": {\"x\": 1, \"y\": 3}, \"open\": true, \"ball_color\": \"\"}, \"isInGoalState\": false, \"moving_horizontally\": false, \"moving_vertically\": false, \"operating_claw\": false}}', \"*\");    \n                "
          },
          "metadata": {}
        },
        {
          "name": "stdout",
          "text": "closing claw\ngrabbing red marble\n",
          "output_type": "stream"
        },
        {
          "output_type": "display_data",
          "data": {
            "text/plain": "<IPython.core.display.Javascript object>",
            "application/javascript": "\n                var existingWin = window.bswin;\n                existingWin && existingWin.postMessage('{\"userId\": \"glen\", \"state\": {\"max_x\": 4, \"max_y\": 4, \"balls\": null, \"claw\": {\"pos\": {\"x\": 1, \"y\": 3}, \"open\": false, \"ball_color\": \"red\"}, \"isInGoalState\": false, \"moving_horizontally\": false, \"moving_vertically\": false, \"operating_claw\": true}}', \"*\");    \n                "
          },
          "metadata": {}
        },
        {
          "name": "stdout",
          "text": "new position: 3, 3\n",
          "output_type": "stream"
        },
        {
          "output_type": "display_data",
          "data": {
            "text/plain": "<IPython.core.display.Javascript object>",
            "application/javascript": "\n                var existingWin = window.bswin;\n                existingWin && existingWin.postMessage('{\"userId\": \"glen\", \"state\": {\"max_x\": 4, \"max_y\": 4, \"balls\": null, \"claw\": {\"pos\": {\"x\": 3, \"y\": 3}, \"open\": false, \"ball_color\": \"red\"}, \"isInGoalState\": false, \"moving_horizontally\": true, \"moving_vertically\": false, \"operating_claw\": false}}', \"*\");    \n                "
          },
          "metadata": {}
        },
        {
          "name": "stdout",
          "text": "new position: 3, 0\n",
          "output_type": "stream"
        },
        {
          "output_type": "display_data",
          "data": {
            "text/plain": "<IPython.core.display.Javascript object>",
            "application/javascript": "\n                var existingWin = window.bswin;\n                existingWin && existingWin.postMessage('{\"userId\": \"glen\", \"state\": {\"max_x\": 4, \"max_y\": 4, \"balls\": null, \"claw\": {\"pos\": {\"x\": 3, \"y\": 0}, \"open\": false, \"ball_color\": \"red\"}, \"isInGoalState\": false, \"moving_horizontally\": true, \"moving_vertically\": true, \"operating_claw\": false}}', \"*\");    \n                "
          },
          "metadata": {}
        },
        {
          "output_type": "display_data",
          "data": {
            "text/plain": "<IPython.core.display.Javascript object>",
            "application/javascript": "\n                var existingWin = window.bswin;\n                existingWin && existingWin.postMessage('{\"userId\": \"glen\", \"state\": {\"max_x\": 4, \"max_y\": 4, \"balls\": null, \"claw\": {\"pos\": {\"x\": 3, \"y\": 0}, \"open\": false, \"ball_color\": \"red\"}, \"isInGoalState\": false, \"moving_horizontally\": false, \"moving_vertically\": true, \"operating_claw\": false}}', \"*\");    \n                "
          },
          "metadata": {}
        },
        {
          "output_type": "display_data",
          "data": {
            "text/plain": "<IPython.core.display.Javascript object>",
            "application/javascript": "\n                var existingWin = window.bswin;\n                existingWin && existingWin.postMessage('{\"userId\": \"glen\", \"state\": {\"max_x\": 4, \"max_y\": 4, \"balls\": null, \"claw\": {\"pos\": {\"x\": 3, \"y\": 0}, \"open\": false, \"ball_color\": \"red\"}, \"isInGoalState\": false, \"moving_horizontally\": false, \"moving_vertically\": false, \"operating_claw\": false}}', \"*\");    \n                "
          },
          "metadata": {}
        },
        {
          "name": "stdout",
          "text": "opening claw\ndropping red marble\n",
          "output_type": "stream"
        },
        {
          "output_type": "display_data",
          "data": {
            "text/plain": "<IPython.core.display.Javascript object>",
            "application/javascript": "\n                var existingWin = window.bswin;\n                existingWin && existingWin.postMessage('{\"userId\": \"glen\", \"state\": {\"max_x\": 4, \"max_y\": 4, \"balls\": null, \"claw\": {\"pos\": {\"x\": 3, \"y\": 0}, \"open\": true, \"ball_color\": \"\"}, \"isInGoalState\": false, \"moving_horizontally\": false, \"moving_vertically\": false, \"operating_claw\": true}}', \"*\");    \n                "
          },
          "metadata": {}
        },
        {
          "name": "stdout",
          "text": "new position: 1, 0\n",
          "output_type": "stream"
        },
        {
          "output_type": "display_data",
          "data": {
            "text/plain": "<IPython.core.display.Javascript object>",
            "application/javascript": "\n                var existingWin = window.bswin;\n                existingWin && existingWin.postMessage('{\"userId\": \"glen\", \"state\": {\"max_x\": 4, \"max_y\": 4, \"balls\": null, \"claw\": {\"pos\": {\"x\": 1, \"y\": 0}, \"open\": true, \"ball_color\": \"\"}, \"isInGoalState\": false, \"moving_horizontally\": true, \"moving_vertically\": false, \"operating_claw\": false}}', \"*\");    \n                "
          },
          "metadata": {}
        },
        {
          "name": "stdout",
          "text": "new position: 1, 4\n",
          "output_type": "stream"
        },
        {
          "output_type": "display_data",
          "data": {
            "text/plain": "<IPython.core.display.Javascript object>",
            "application/javascript": "\n                var existingWin = window.bswin;\n                existingWin && existingWin.postMessage('{\"userId\": \"glen\", \"state\": {\"max_x\": 4, \"max_y\": 4, \"balls\": null, \"claw\": {\"pos\": {\"x\": 1, \"y\": 4}, \"open\": true, \"ball_color\": \"\"}, \"isInGoalState\": false, \"moving_horizontally\": true, \"moving_vertically\": true, \"operating_claw\": false}}', \"*\");    \n                "
          },
          "metadata": {}
        },
        {
          "name": "stdout",
          "text": "opening claw\n",
          "output_type": "stream"
        },
        {
          "output_type": "display_data",
          "data": {
            "text/plain": "<IPython.core.display.Javascript object>",
            "application/javascript": "\n                var existingWin = window.bswin;\n                existingWin && existingWin.postMessage('{\"userId\": \"glen\", \"state\": {\"max_x\": 4, \"max_y\": 4, \"balls\": null, \"claw\": {\"pos\": {\"x\": 1, \"y\": 4}, \"open\": true, \"ball_color\": \"\"}, \"isInGoalState\": false, \"moving_horizontally\": true, \"moving_vertically\": true, \"operating_claw\": true}}', \"*\");    \n                "
          },
          "metadata": {}
        },
        {
          "output_type": "display_data",
          "data": {
            "text/plain": "<IPython.core.display.Javascript object>",
            "application/javascript": "\n                var existingWin = window.bswin;\n                existingWin && existingWin.postMessage('{\"userId\": \"glen\", \"state\": {\"max_x\": 4, \"max_y\": 4, \"balls\": null, \"claw\": {\"pos\": {\"x\": 1, \"y\": 4}, \"open\": true, \"ball_color\": \"\"}, \"isInGoalState\": false, \"moving_horizontally\": false, \"moving_vertically\": true, \"operating_claw\": false}}', \"*\");    \n                "
          },
          "metadata": {}
        },
        {
          "output_type": "display_data",
          "data": {
            "text/plain": "<IPython.core.display.Javascript object>",
            "application/javascript": "\n                var existingWin = window.bswin;\n                existingWin && existingWin.postMessage('{\"userId\": \"glen\", \"state\": {\"max_x\": 4, \"max_y\": 4, \"balls\": null, \"claw\": {\"pos\": {\"x\": 1, \"y\": 4}, \"open\": true, \"ball_color\": \"\"}, \"isInGoalState\": false, \"moving_horizontally\": false, \"moving_vertically\": false, \"operating_claw\": false}}', \"*\");    \n                "
          },
          "metadata": {}
        },
        {
          "name": "stdout",
          "text": "closing claw\ngrabbing red marble\n",
          "output_type": "stream"
        },
        {
          "output_type": "display_data",
          "data": {
            "text/plain": "<IPython.core.display.Javascript object>",
            "application/javascript": "\n                var existingWin = window.bswin;\n                existingWin && existingWin.postMessage('{\"userId\": \"glen\", \"state\": {\"max_x\": 4, \"max_y\": 4, \"balls\": null, \"claw\": {\"pos\": {\"x\": 1, \"y\": 4}, \"open\": false, \"ball_color\": \"red\"}, \"isInGoalState\": false, \"moving_horizontally\": false, \"moving_vertically\": false, \"operating_claw\": true}}', \"*\");    \n                "
          },
          "metadata": {}
        },
        {
          "name": "stdout",
          "text": "new position: 4, 4\n",
          "output_type": "stream"
        },
        {
          "output_type": "display_data",
          "data": {
            "text/plain": "<IPython.core.display.Javascript object>",
            "application/javascript": "\n                var existingWin = window.bswin;\n                existingWin && existingWin.postMessage('{\"userId\": \"glen\", \"state\": {\"max_x\": 4, \"max_y\": 4, \"balls\": null, \"claw\": {\"pos\": {\"x\": 4, \"y\": 4}, \"open\": false, \"ball_color\": \"red\"}, \"isInGoalState\": false, \"moving_horizontally\": true, \"moving_vertically\": false, \"operating_claw\": false}}', \"*\");    \n                "
          },
          "metadata": {}
        },
        {
          "output_type": "display_data",
          "data": {
            "text/plain": "<IPython.core.display.Javascript object>",
            "application/javascript": "\n                var existingWin = window.bswin;\n                existingWin && existingWin.postMessage('{\"userId\": \"glen\", \"state\": {\"max_x\": 4, \"max_y\": 4, \"balls\": null, \"claw\": {\"pos\": {\"x\": 4, \"y\": 4}, \"open\": false, \"ball_color\": \"red\"}, \"isInGoalState\": false, \"moving_horizontally\": false, \"moving_vertically\": false, \"operating_claw\": false}}', \"*\");    \n                "
          },
          "metadata": {}
        },
        {
          "name": "stdout",
          "text": "opening claw\ndropping red marble\n",
          "output_type": "stream"
        },
        {
          "output_type": "display_data",
          "data": {
            "text/plain": "<IPython.core.display.Javascript object>",
            "application/javascript": "\n                var existingWin = window.bswin;\n                existingWin && existingWin.postMessage('{\"userId\": \"glen\", \"state\": {\"max_x\": 4, \"max_y\": 4, \"balls\": null, \"claw\": {\"pos\": {\"x\": 4, \"y\": 4}, \"open\": true, \"ball_color\": \"\"}, \"isInGoalState\": false, \"moving_horizontally\": false, \"moving_vertically\": false, \"operating_claw\": true}}', \"*\");    \n                "
          },
          "metadata": {}
        },
        {
          "name": "stdout",
          "text": "new position: 0, 4\n",
          "output_type": "stream"
        },
        {
          "output_type": "display_data",
          "data": {
            "text/plain": "<IPython.core.display.Javascript object>",
            "application/javascript": "\n                var existingWin = window.bswin;\n                existingWin && existingWin.postMessage('{\"userId\": \"glen\", \"state\": {\"max_x\": 4, \"max_y\": 4, \"balls\": null, \"claw\": {\"pos\": {\"x\": 0, \"y\": 4}, \"open\": true, \"ball_color\": \"\"}, \"isInGoalState\": false, \"moving_horizontally\": true, \"moving_vertically\": false, \"operating_claw\": false}}', \"*\");    \n                "
          },
          "metadata": {}
        },
        {
          "name": "stdout",
          "text": "new position: 0, 0\n",
          "output_type": "stream"
        },
        {
          "output_type": "display_data",
          "data": {
            "text/plain": "<IPython.core.display.Javascript object>",
            "application/javascript": "\n                var existingWin = window.bswin;\n                existingWin && existingWin.postMessage('{\"userId\": \"glen\", \"state\": {\"max_x\": 4, \"max_y\": 4, \"balls\": null, \"claw\": {\"pos\": {\"x\": 0, \"y\": 0}, \"open\": true, \"ball_color\": \"\"}, \"isInGoalState\": false, \"moving_horizontally\": true, \"moving_vertically\": true, \"operating_claw\": false}}', \"*\");    \n                "
          },
          "metadata": {}
        },
        {
          "name": "stdout",
          "text": "opening claw\n",
          "output_type": "stream"
        },
        {
          "output_type": "display_data",
          "data": {
            "text/plain": "<IPython.core.display.Javascript object>",
            "application/javascript": "\n                var existingWin = window.bswin;\n                existingWin && existingWin.postMessage('{\"userId\": \"glen\", \"state\": {\"max_x\": 4, \"max_y\": 4, \"balls\": null, \"claw\": {\"pos\": {\"x\": 0, \"y\": 0}, \"open\": true, \"ball_color\": \"\"}, \"isInGoalState\": false, \"moving_horizontally\": true, \"moving_vertically\": true, \"operating_claw\": true}}', \"*\");    \n                "
          },
          "metadata": {}
        },
        {
          "output_type": "display_data",
          "data": {
            "text/plain": "<IPython.core.display.Javascript object>",
            "application/javascript": "\n                var existingWin = window.bswin;\n                existingWin && existingWin.postMessage('{\"userId\": \"glen\", \"state\": {\"max_x\": 4, \"max_y\": 4, \"balls\": null, \"claw\": {\"pos\": {\"x\": 0, \"y\": 0}, \"open\": true, \"ball_color\": \"\"}, \"isInGoalState\": false, \"moving_horizontally\": false, \"moving_vertically\": true, \"operating_claw\": false}}', \"*\");    \n                "
          },
          "metadata": {}
        },
        {
          "output_type": "display_data",
          "data": {
            "text/plain": "<IPython.core.display.Javascript object>",
            "application/javascript": "\n                var existingWin = window.bswin;\n                existingWin && existingWin.postMessage('{\"userId\": \"glen\", \"state\": {\"max_x\": 4, \"max_y\": 4, \"balls\": null, \"claw\": {\"pos\": {\"x\": 0, \"y\": 0}, \"open\": true, \"ball_color\": \"\"}, \"isInGoalState\": false, \"moving_horizontally\": false, \"moving_vertically\": false, \"operating_claw\": false}}', \"*\");    \n                "
          },
          "metadata": {}
        },
        {
          "name": "stdout",
          "text": "closing claw\ngrabbing white marble\n",
          "output_type": "stream"
        },
        {
          "output_type": "display_data",
          "data": {
            "text/plain": "<IPython.core.display.Javascript object>",
            "application/javascript": "\n                var existingWin = window.bswin;\n                existingWin && existingWin.postMessage('{\"userId\": \"glen\", \"state\": {\"max_x\": 4, \"max_y\": 4, \"balls\": null, \"claw\": {\"pos\": {\"x\": 0, \"y\": 0}, \"open\": false, \"ball_color\": \"white\"}, \"isInGoalState\": false, \"moving_horizontally\": false, \"moving_vertically\": false, \"operating_claw\": true}}', \"*\");    \n                "
          },
          "metadata": {}
        },
        {
          "name": "stdout",
          "text": "new position: 1, 0\n",
          "output_type": "stream"
        },
        {
          "output_type": "display_data",
          "data": {
            "text/plain": "<IPython.core.display.Javascript object>",
            "application/javascript": "\n                var existingWin = window.bswin;\n                existingWin && existingWin.postMessage('{\"userId\": \"glen\", \"state\": {\"max_x\": 4, \"max_y\": 4, \"balls\": null, \"claw\": {\"pos\": {\"x\": 1, \"y\": 0}, \"open\": false, \"ball_color\": \"white\"}, \"isInGoalState\": false, \"moving_horizontally\": true, \"moving_vertically\": false, \"operating_claw\": false}}', \"*\");    \n                "
          },
          "metadata": {}
        },
        {
          "name": "stdout",
          "text": "new position: 1, 4\n",
          "output_type": "stream"
        },
        {
          "output_type": "display_data",
          "data": {
            "text/plain": "<IPython.core.display.Javascript object>",
            "application/javascript": "\n                var existingWin = window.bswin;\n                existingWin && existingWin.postMessage('{\"userId\": \"glen\", \"state\": {\"max_x\": 4, \"max_y\": 4, \"balls\": null, \"claw\": {\"pos\": {\"x\": 1, \"y\": 4}, \"open\": false, \"ball_color\": \"white\"}, \"isInGoalState\": false, \"moving_horizontally\": true, \"moving_vertically\": true, \"operating_claw\": false}}', \"*\");    \n                "
          },
          "metadata": {}
        },
        {
          "output_type": "display_data",
          "data": {
            "text/plain": "<IPython.core.display.Javascript object>",
            "application/javascript": "\n                var existingWin = window.bswin;\n                existingWin && existingWin.postMessage('{\"userId\": \"glen\", \"state\": {\"max_x\": 4, \"max_y\": 4, \"balls\": null, \"claw\": {\"pos\": {\"x\": 1, \"y\": 4}, \"open\": false, \"ball_color\": \"white\"}, \"isInGoalState\": false, \"moving_horizontally\": false, \"moving_vertically\": true, \"operating_claw\": false}}', \"*\");    \n                "
          },
          "metadata": {}
        },
        {
          "output_type": "display_data",
          "data": {
            "text/plain": "<IPython.core.display.Javascript object>",
            "application/javascript": "\n                var existingWin = window.bswin;\n                existingWin && existingWin.postMessage('{\"userId\": \"glen\", \"state\": {\"max_x\": 4, \"max_y\": 4, \"balls\": null, \"claw\": {\"pos\": {\"x\": 1, \"y\": 4}, \"open\": false, \"ball_color\": \"white\"}, \"isInGoalState\": false, \"moving_horizontally\": false, \"moving_vertically\": false, \"operating_claw\": false}}', \"*\");    \n                "
          },
          "metadata": {}
        },
        {
          "name": "stdout",
          "text": "opening claw\ndropping white marble\n",
          "output_type": "stream"
        },
        {
          "output_type": "display_data",
          "data": {
            "text/plain": "<IPython.core.display.Javascript object>",
            "application/javascript": "\n                var existingWin = window.bswin;\n                existingWin && existingWin.postMessage('{\"userId\": \"glen\", \"state\": {\"max_x\": 4, \"max_y\": 4, \"balls\": null, \"claw\": {\"pos\": {\"x\": 1, \"y\": 4}, \"open\": true, \"ball_color\": \"\"}, \"isInGoalState\": false, \"moving_horizontally\": false, \"moving_vertically\": false, \"operating_claw\": true}}', \"*\");    \n                "
          },
          "metadata": {}
        },
        {
          "name": "stdout",
          "text": "new position: 2, 4\n",
          "output_type": "stream"
        },
        {
          "output_type": "display_data",
          "data": {
            "text/plain": "<IPython.core.display.Javascript object>",
            "application/javascript": "\n                var existingWin = window.bswin;\n                existingWin && existingWin.postMessage('{\"userId\": \"glen\", \"state\": {\"max_x\": 4, \"max_y\": 4, \"balls\": null, \"claw\": {\"pos\": {\"x\": 2, \"y\": 4}, \"open\": true, \"ball_color\": \"\"}, \"isInGoalState\": false, \"moving_horizontally\": true, \"moving_vertically\": false, \"operating_claw\": false}}', \"*\");    \n                "
          },
          "metadata": {}
        },
        {
          "name": "stdout",
          "text": "new position: 2, 0\n",
          "output_type": "stream"
        },
        {
          "output_type": "display_data",
          "data": {
            "text/plain": "<IPython.core.display.Javascript object>",
            "application/javascript": "\n                var existingWin = window.bswin;\n                existingWin && existingWin.postMessage('{\"userId\": \"glen\", \"state\": {\"max_x\": 4, \"max_y\": 4, \"balls\": null, \"claw\": {\"pos\": {\"x\": 2, \"y\": 0}, \"open\": true, \"ball_color\": \"\"}, \"isInGoalState\": false, \"moving_horizontally\": true, \"moving_vertically\": true, \"operating_claw\": false}}', \"*\");    \n                "
          },
          "metadata": {}
        },
        {
          "name": "stdout",
          "text": "opening claw\n",
          "output_type": "stream"
        },
        {
          "output_type": "display_data",
          "data": {
            "text/plain": "<IPython.core.display.Javascript object>",
            "application/javascript": "\n                var existingWin = window.bswin;\n                existingWin && existingWin.postMessage('{\"userId\": \"glen\", \"state\": {\"max_x\": 4, \"max_y\": 4, \"balls\": null, \"claw\": {\"pos\": {\"x\": 2, \"y\": 0}, \"open\": true, \"ball_color\": \"\"}, \"isInGoalState\": false, \"moving_horizontally\": true, \"moving_vertically\": true, \"operating_claw\": true}}', \"*\");    \n                "
          },
          "metadata": {}
        },
        {
          "output_type": "display_data",
          "data": {
            "text/plain": "<IPython.core.display.Javascript object>",
            "application/javascript": "\n                var existingWin = window.bswin;\n                existingWin && existingWin.postMessage('{\"userId\": \"glen\", \"state\": {\"max_x\": 4, \"max_y\": 4, \"balls\": null, \"claw\": {\"pos\": {\"x\": 2, \"y\": 0}, \"open\": true, \"ball_color\": \"\"}, \"isInGoalState\": false, \"moving_horizontally\": false, \"moving_vertically\": true, \"operating_claw\": false}}', \"*\");    \n                "
          },
          "metadata": {}
        },
        {
          "output_type": "display_data",
          "data": {
            "text/plain": "<IPython.core.display.Javascript object>",
            "application/javascript": "\n                var existingWin = window.bswin;\n                existingWin && existingWin.postMessage('{\"userId\": \"glen\", \"state\": {\"max_x\": 4, \"max_y\": 4, \"balls\": null, \"claw\": {\"pos\": {\"x\": 2, \"y\": 0}, \"open\": true, \"ball_color\": \"\"}, \"isInGoalState\": false, \"moving_horizontally\": false, \"moving_vertically\": false, \"operating_claw\": false}}', \"*\");    \n                "
          },
          "metadata": {}
        },
        {
          "name": "stdout",
          "text": "closing claw\ngrabbing white marble\n",
          "output_type": "stream"
        },
        {
          "output_type": "display_data",
          "data": {
            "text/plain": "<IPython.core.display.Javascript object>",
            "application/javascript": "\n                var existingWin = window.bswin;\n                existingWin && existingWin.postMessage('{\"userId\": \"glen\", \"state\": {\"max_x\": 4, \"max_y\": 4, \"balls\": null, \"claw\": {\"pos\": {\"x\": 2, \"y\": 0}, \"open\": false, \"ball_color\": \"white\"}, \"isInGoalState\": false, \"moving_horizontally\": false, \"moving_vertically\": false, \"operating_claw\": true}}', \"*\");    \n                "
          },
          "metadata": {}
        },
        {
          "name": "stdout",
          "text": "new position: 1, 0\n",
          "output_type": "stream"
        },
        {
          "output_type": "display_data",
          "data": {
            "text/plain": "<IPython.core.display.Javascript object>",
            "application/javascript": "\n                var existingWin = window.bswin;\n                existingWin && existingWin.postMessage('{\"userId\": \"glen\", \"state\": {\"max_x\": 4, \"max_y\": 4, \"balls\": null, \"claw\": {\"pos\": {\"x\": 1, \"y\": 0}, \"open\": false, \"ball_color\": \"white\"}, \"isInGoalState\": false, \"moving_horizontally\": true, \"moving_vertically\": false, \"operating_claw\": false}}', \"*\");    \n                "
          },
          "metadata": {}
        },
        {
          "name": "stdout",
          "text": "new position: 1, 3\n",
          "output_type": "stream"
        },
        {
          "output_type": "display_data",
          "data": {
            "text/plain": "<IPython.core.display.Javascript object>",
            "application/javascript": "\n                var existingWin = window.bswin;\n                existingWin && existingWin.postMessage('{\"userId\": \"glen\", \"state\": {\"max_x\": 4, \"max_y\": 4, \"balls\": null, \"claw\": {\"pos\": {\"x\": 1, \"y\": 3}, \"open\": false, \"ball_color\": \"white\"}, \"isInGoalState\": false, \"moving_horizontally\": true, \"moving_vertically\": true, \"operating_claw\": false}}', \"*\");    \n                "
          },
          "metadata": {}
        },
        {
          "output_type": "display_data",
          "data": {
            "text/plain": "<IPython.core.display.Javascript object>",
            "application/javascript": "\n                var existingWin = window.bswin;\n                existingWin && existingWin.postMessage('{\"userId\": \"glen\", \"state\": {\"max_x\": 4, \"max_y\": 4, \"balls\": null, \"claw\": {\"pos\": {\"x\": 1, \"y\": 3}, \"open\": false, \"ball_color\": \"white\"}, \"isInGoalState\": false, \"moving_horizontally\": false, \"moving_vertically\": true, \"operating_claw\": false}}', \"*\");    \n                "
          },
          "metadata": {}
        },
        {
          "output_type": "display_data",
          "data": {
            "text/plain": "<IPython.core.display.Javascript object>",
            "application/javascript": "\n                var existingWin = window.bswin;\n                existingWin && existingWin.postMessage('{\"userId\": \"glen\", \"state\": {\"max_x\": 4, \"max_y\": 4, \"balls\": null, \"claw\": {\"pos\": {\"x\": 1, \"y\": 3}, \"open\": false, \"ball_color\": \"white\"}, \"isInGoalState\": false, \"moving_horizontally\": false, \"moving_vertically\": false, \"operating_claw\": false}}', \"*\");    \n                "
          },
          "metadata": {}
        },
        {
          "name": "stdout",
          "text": "opening claw\ndropping white marble\n",
          "output_type": "stream"
        },
        {
          "output_type": "display_data",
          "data": {
            "text/plain": "<IPython.core.display.Javascript object>",
            "application/javascript": "\n                var existingWin = window.bswin;\n                existingWin && existingWin.postMessage('{\"userId\": \"glen\", \"state\": {\"max_x\": 4, \"max_y\": 4, \"balls\": null, \"claw\": {\"pos\": {\"x\": 1, \"y\": 3}, \"open\": true, \"ball_color\": \"\"}, \"isInGoalState\": false, \"moving_horizontally\": false, \"moving_vertically\": false, \"operating_claw\": true}}', \"*\");    \n                "
          },
          "metadata": {}
        },
        {
          "name": "stdout",
          "text": "new position: 3, 3\n",
          "output_type": "stream"
        },
        {
          "output_type": "display_data",
          "data": {
            "text/plain": "<IPython.core.display.Javascript object>",
            "application/javascript": "\n                var existingWin = window.bswin;\n                existingWin && existingWin.postMessage('{\"userId\": \"glen\", \"state\": {\"max_x\": 4, \"max_y\": 4, \"balls\": null, \"claw\": {\"pos\": {\"x\": 3, \"y\": 3}, \"open\": true, \"ball_color\": \"\"}, \"isInGoalState\": false, \"moving_horizontally\": true, \"moving_vertically\": false, \"operating_claw\": false}}', \"*\");    \n                "
          },
          "metadata": {}
        },
        {
          "name": "stdout",
          "text": "new position: 3, 0\n",
          "output_type": "stream"
        },
        {
          "output_type": "display_data",
          "data": {
            "text/plain": "<IPython.core.display.Javascript object>",
            "application/javascript": "\n                var existingWin = window.bswin;\n                existingWin && existingWin.postMessage('{\"userId\": \"glen\", \"state\": {\"max_x\": 4, \"max_y\": 4, \"balls\": null, \"claw\": {\"pos\": {\"x\": 3, \"y\": 0}, \"open\": true, \"ball_color\": \"\"}, \"isInGoalState\": false, \"moving_horizontally\": true, \"moving_vertically\": true, \"operating_claw\": false}}', \"*\");    \n                "
          },
          "metadata": {}
        },
        {
          "name": "stdout",
          "text": "opening claw\n",
          "output_type": "stream"
        },
        {
          "output_type": "display_data",
          "data": {
            "text/plain": "<IPython.core.display.Javascript object>",
            "application/javascript": "\n                var existingWin = window.bswin;\n                existingWin && existingWin.postMessage('{\"userId\": \"glen\", \"state\": {\"max_x\": 4, \"max_y\": 4, \"balls\": null, \"claw\": {\"pos\": {\"x\": 3, \"y\": 0}, \"open\": true, \"ball_color\": \"\"}, \"isInGoalState\": false, \"moving_horizontally\": true, \"moving_vertically\": true, \"operating_claw\": true}}', \"*\");    \n                "
          },
          "metadata": {}
        },
        {
          "output_type": "display_data",
          "data": {
            "text/plain": "<IPython.core.display.Javascript object>",
            "application/javascript": "\n                var existingWin = window.bswin;\n                existingWin && existingWin.postMessage('{\"userId\": \"glen\", \"state\": {\"max_x\": 4, \"max_y\": 4, \"balls\": null, \"claw\": {\"pos\": {\"x\": 3, \"y\": 0}, \"open\": true, \"ball_color\": \"\"}, \"isInGoalState\": false, \"moving_horizontally\": false, \"moving_vertically\": true, \"operating_claw\": false}}', \"*\");    \n                "
          },
          "metadata": {}
        },
        {
          "output_type": "display_data",
          "data": {
            "text/plain": "<IPython.core.display.Javascript object>",
            "application/javascript": "\n                var existingWin = window.bswin;\n                existingWin && existingWin.postMessage('{\"userId\": \"glen\", \"state\": {\"max_x\": 4, \"max_y\": 4, \"balls\": null, \"claw\": {\"pos\": {\"x\": 3, \"y\": 0}, \"open\": true, \"ball_color\": \"\"}, \"isInGoalState\": false, \"moving_horizontally\": false, \"moving_vertically\": false, \"operating_claw\": false}}', \"*\");    \n                "
          },
          "metadata": {}
        },
        {
          "name": "stdout",
          "text": "closing claw\ngrabbing red marble\n",
          "output_type": "stream"
        },
        {
          "output_type": "display_data",
          "data": {
            "text/plain": "<IPython.core.display.Javascript object>",
            "application/javascript": "\n                var existingWin = window.bswin;\n                existingWin && existingWin.postMessage('{\"userId\": \"glen\", \"state\": {\"max_x\": 4, \"max_y\": 4, \"balls\": null, \"claw\": {\"pos\": {\"x\": 3, \"y\": 0}, \"open\": false, \"ball_color\": \"red\"}, \"isInGoalState\": false, \"moving_horizontally\": false, \"moving_vertically\": false, \"operating_claw\": true}}', \"*\");    \n                "
          },
          "metadata": {}
        },
        {
          "name": "stdout",
          "text": "new position: 1, 0\n",
          "output_type": "stream"
        },
        {
          "output_type": "display_data",
          "data": {
            "text/plain": "<IPython.core.display.Javascript object>",
            "application/javascript": "\n                var existingWin = window.bswin;\n                existingWin && existingWin.postMessage('{\"userId\": \"glen\", \"state\": {\"max_x\": 4, \"max_y\": 4, \"balls\": null, \"claw\": {\"pos\": {\"x\": 1, \"y\": 0}, \"open\": false, \"ball_color\": \"red\"}, \"isInGoalState\": false, \"moving_horizontally\": true, \"moving_vertically\": false, \"operating_claw\": false}}', \"*\");    \n                "
          },
          "metadata": {}
        },
        {
          "name": "stdout",
          "text": "new position: 1, 2\n",
          "output_type": "stream"
        },
        {
          "output_type": "display_data",
          "data": {
            "text/plain": "<IPython.core.display.Javascript object>",
            "application/javascript": "\n                var existingWin = window.bswin;\n                existingWin && existingWin.postMessage('{\"userId\": \"glen\", \"state\": {\"max_x\": 4, \"max_y\": 4, \"balls\": null, \"claw\": {\"pos\": {\"x\": 1, \"y\": 2}, \"open\": false, \"ball_color\": \"red\"}, \"isInGoalState\": false, \"moving_horizontally\": true, \"moving_vertically\": true, \"operating_claw\": false}}', \"*\");    \n                "
          },
          "metadata": {}
        },
        {
          "output_type": "display_data",
          "data": {
            "text/plain": "<IPython.core.display.Javascript object>",
            "application/javascript": "\n                var existingWin = window.bswin;\n                existingWin && existingWin.postMessage('{\"userId\": \"glen\", \"state\": {\"max_x\": 4, \"max_y\": 4, \"balls\": null, \"claw\": {\"pos\": {\"x\": 1, \"y\": 2}, \"open\": false, \"ball_color\": \"red\"}, \"isInGoalState\": false, \"moving_horizontally\": false, \"moving_vertically\": true, \"operating_claw\": false}}', \"*\");    \n                "
          },
          "metadata": {}
        },
        {
          "output_type": "display_data",
          "data": {
            "text/plain": "<IPython.core.display.Javascript object>",
            "application/javascript": "\n                var existingWin = window.bswin;\n                existingWin && existingWin.postMessage('{\"userId\": \"glen\", \"state\": {\"max_x\": 4, \"max_y\": 4, \"balls\": null, \"claw\": {\"pos\": {\"x\": 1, \"y\": 2}, \"open\": false, \"ball_color\": \"red\"}, \"isInGoalState\": false, \"moving_horizontally\": false, \"moving_vertically\": false, \"operating_claw\": false}}', \"*\");    \n                "
          },
          "metadata": {}
        },
        {
          "name": "stdout",
          "text": "opening claw\ndropping red marble\n",
          "output_type": "stream"
        },
        {
          "output_type": "display_data",
          "data": {
            "text/plain": "<IPython.core.display.Javascript object>",
            "application/javascript": "\n                var existingWin = window.bswin;\n                existingWin && existingWin.postMessage('{\"userId\": \"glen\", \"state\": {\"max_x\": 4, \"max_y\": 4, \"balls\": null, \"claw\": {\"pos\": {\"x\": 1, \"y\": 2}, \"open\": true, \"ball_color\": \"\"}, \"isInGoalState\": false, \"moving_horizontally\": false, \"moving_vertically\": false, \"operating_claw\": true}}', \"*\");    \n                "
          },
          "metadata": {}
        },
        {
          "name": "stdout",
          "text": "new position: 4, 2\n",
          "output_type": "stream"
        },
        {
          "output_type": "display_data",
          "data": {
            "text/plain": "<IPython.core.display.Javascript object>",
            "application/javascript": "\n                var existingWin = window.bswin;\n                existingWin && existingWin.postMessage('{\"userId\": \"glen\", \"state\": {\"max_x\": 4, \"max_y\": 4, \"balls\": null, \"claw\": {\"pos\": {\"x\": 4, \"y\": 2}, \"open\": true, \"ball_color\": \"\"}, \"isInGoalState\": false, \"moving_horizontally\": true, \"moving_vertically\": false, \"operating_claw\": false}}', \"*\");    \n                "
          },
          "metadata": {}
        },
        {
          "name": "stdout",
          "text": "new position: 4, 4\n",
          "output_type": "stream"
        },
        {
          "output_type": "display_data",
          "data": {
            "text/plain": "<IPython.core.display.Javascript object>",
            "application/javascript": "\n                var existingWin = window.bswin;\n                existingWin && existingWin.postMessage('{\"userId\": \"glen\", \"state\": {\"max_x\": 4, \"max_y\": 4, \"balls\": null, \"claw\": {\"pos\": {\"x\": 4, \"y\": 4}, \"open\": true, \"ball_color\": \"\"}, \"isInGoalState\": false, \"moving_horizontally\": true, \"moving_vertically\": true, \"operating_claw\": false}}', \"*\");    \n                "
          },
          "metadata": {}
        },
        {
          "name": "stdout",
          "text": "opening claw\n",
          "output_type": "stream"
        },
        {
          "output_type": "display_data",
          "data": {
            "text/plain": "<IPython.core.display.Javascript object>",
            "application/javascript": "\n                var existingWin = window.bswin;\n                existingWin && existingWin.postMessage('{\"userId\": \"glen\", \"state\": {\"max_x\": 4, \"max_y\": 4, \"balls\": null, \"claw\": {\"pos\": {\"x\": 4, \"y\": 4}, \"open\": true, \"ball_color\": \"\"}, \"isInGoalState\": false, \"moving_horizontally\": true, \"moving_vertically\": true, \"operating_claw\": true}}', \"*\");    \n                "
          },
          "metadata": {}
        },
        {
          "output_type": "display_data",
          "data": {
            "text/plain": "<IPython.core.display.Javascript object>",
            "application/javascript": "\n                var existingWin = window.bswin;\n                existingWin && existingWin.postMessage('{\"userId\": \"glen\", \"state\": {\"max_x\": 4, \"max_y\": 4, \"balls\": null, \"claw\": {\"pos\": {\"x\": 4, \"y\": 4}, \"open\": true, \"ball_color\": \"\"}, \"isInGoalState\": false, \"moving_horizontally\": false, \"moving_vertically\": true, \"operating_claw\": false}}', \"*\");    \n                "
          },
          "metadata": {}
        },
        {
          "output_type": "display_data",
          "data": {
            "text/plain": "<IPython.core.display.Javascript object>",
            "application/javascript": "\n                var existingWin = window.bswin;\n                existingWin && existingWin.postMessage('{\"userId\": \"glen\", \"state\": {\"max_x\": 4, \"max_y\": 4, \"balls\": null, \"claw\": {\"pos\": {\"x\": 4, \"y\": 4}, \"open\": true, \"ball_color\": \"\"}, \"isInGoalState\": false, \"moving_horizontally\": false, \"moving_vertically\": false, \"operating_claw\": false}}', \"*\");    \n                "
          },
          "metadata": {}
        },
        {
          "name": "stdout",
          "text": "closing claw\ngrabbing red marble\n",
          "output_type": "stream"
        },
        {
          "output_type": "display_data",
          "data": {
            "text/plain": "<IPython.core.display.Javascript object>",
            "application/javascript": "\n                var existingWin = window.bswin;\n                existingWin && existingWin.postMessage('{\"userId\": \"glen\", \"state\": {\"max_x\": 4, \"max_y\": 4, \"balls\": null, \"claw\": {\"pos\": {\"x\": 4, \"y\": 4}, \"open\": false, \"ball_color\": \"red\"}, \"isInGoalState\": false, \"moving_horizontally\": false, \"moving_vertically\": false, \"operating_claw\": true}}', \"*\");    \n                "
          },
          "metadata": {}
        },
        {
          "name": "stdout",
          "text": "new position: 1, 4\n",
          "output_type": "stream"
        },
        {
          "output_type": "display_data",
          "data": {
            "text/plain": "<IPython.core.display.Javascript object>",
            "application/javascript": "\n                var existingWin = window.bswin;\n                existingWin && existingWin.postMessage('{\"userId\": \"glen\", \"state\": {\"max_x\": 4, \"max_y\": 4, \"balls\": null, \"claw\": {\"pos\": {\"x\": 1, \"y\": 4}, \"open\": false, \"ball_color\": \"red\"}, \"isInGoalState\": false, \"moving_horizontally\": true, \"moving_vertically\": false, \"operating_claw\": false}}', \"*\");    \n                "
          },
          "metadata": {}
        },
        {
          "name": "stdout",
          "text": "new position: 1, 1\n",
          "output_type": "stream"
        },
        {
          "output_type": "display_data",
          "data": {
            "text/plain": "<IPython.core.display.Javascript object>",
            "application/javascript": "\n                var existingWin = window.bswin;\n                existingWin && existingWin.postMessage('{\"userId\": \"glen\", \"state\": {\"max_x\": 4, \"max_y\": 4, \"balls\": null, \"claw\": {\"pos\": {\"x\": 1, \"y\": 1}, \"open\": false, \"ball_color\": \"red\"}, \"isInGoalState\": false, \"moving_horizontally\": true, \"moving_vertically\": true, \"operating_claw\": false}}', \"*\");    \n                "
          },
          "metadata": {}
        },
        {
          "output_type": "display_data",
          "data": {
            "text/plain": "<IPython.core.display.Javascript object>",
            "application/javascript": "\n                var existingWin = window.bswin;\n                existingWin && existingWin.postMessage('{\"userId\": \"glen\", \"state\": {\"max_x\": 4, \"max_y\": 4, \"balls\": null, \"claw\": {\"pos\": {\"x\": 1, \"y\": 1}, \"open\": false, \"ball_color\": \"red\"}, \"isInGoalState\": false, \"moving_horizontally\": false, \"moving_vertically\": true, \"operating_claw\": false}}', \"*\");    \n                "
          },
          "metadata": {}
        },
        {
          "output_type": "display_data",
          "data": {
            "text/plain": "<IPython.core.display.Javascript object>",
            "application/javascript": "\n                var existingWin = window.bswin;\n                existingWin && existingWin.postMessage('{\"userId\": \"glen\", \"state\": {\"max_x\": 4, \"max_y\": 4, \"balls\": null, \"claw\": {\"pos\": {\"x\": 1, \"y\": 1}, \"open\": false, \"ball_color\": \"red\"}, \"isInGoalState\": false, \"moving_horizontally\": false, \"moving_vertically\": false, \"operating_claw\": false}}', \"*\");    \n                "
          },
          "metadata": {}
        },
        {
          "name": "stdout",
          "text": "opening claw\ndropping red marble\n",
          "output_type": "stream"
        },
        {
          "output_type": "display_data",
          "data": {
            "text/plain": "<IPython.core.display.Javascript object>",
            "application/javascript": "\n                var existingWin = window.bswin;\n                existingWin && existingWin.postMessage('{\"userId\": \"glen\", \"state\": {\"max_x\": 4, \"max_y\": 4, \"balls\": null, \"claw\": {\"pos\": {\"x\": 1, \"y\": 1}, \"open\": true, \"ball_color\": \"\"}, \"isInGoalState\": false, \"moving_horizontally\": false, \"moving_vertically\": false, \"operating_claw\": true}}', \"*\");    \n                "
          },
          "metadata": {}
        },
        {
          "name": "stdout",
          "text": "new position: 2, 1\n",
          "output_type": "stream"
        },
        {
          "output_type": "display_data",
          "data": {
            "text/plain": "<IPython.core.display.Javascript object>",
            "application/javascript": "\n                var existingWin = window.bswin;\n                existingWin && existingWin.postMessage('{\"userId\": \"glen\", \"state\": {\"max_x\": 4, \"max_y\": 4, \"balls\": null, \"claw\": {\"pos\": {\"x\": 2, \"y\": 1}, \"open\": true, \"ball_color\": \"\"}, \"isInGoalState\": false, \"moving_horizontally\": true, \"moving_vertically\": false, \"operating_claw\": false}}', \"*\");    \n                "
          },
          "metadata": {}
        },
        {
          "name": "stdout",
          "text": "opening claw\n",
          "output_type": "stream"
        },
        {
          "output_type": "display_data",
          "data": {
            "text/plain": "<IPython.core.display.Javascript object>",
            "application/javascript": "\n                var existingWin = window.bswin;\n                existingWin && existingWin.postMessage('{\"userId\": \"glen\", \"state\": {\"max_x\": 4, \"max_y\": 4, \"balls\": null, \"claw\": {\"pos\": {\"x\": 2, \"y\": 1}, \"open\": true, \"ball_color\": \"\"}, \"isInGoalState\": false, \"moving_horizontally\": true, \"moving_vertically\": false, \"operating_claw\": true}}', \"*\");    \n                "
          },
          "metadata": {}
        },
        {
          "output_type": "display_data",
          "data": {
            "text/plain": "<IPython.core.display.Javascript object>",
            "application/javascript": "\n                var existingWin = window.bswin;\n                existingWin && existingWin.postMessage('{\"userId\": \"glen\", \"state\": {\"max_x\": 4, \"max_y\": 4, \"balls\": null, \"claw\": {\"pos\": {\"x\": 2, \"y\": 1}, \"open\": true, \"ball_color\": \"\"}, \"isInGoalState\": false, \"moving_horizontally\": false, \"moving_vertically\": false, \"operating_claw\": false}}', \"*\");    \n                "
          },
          "metadata": {}
        },
        {
          "name": "stdout",
          "text": "closing claw\ngrabbing white marble\n",
          "output_type": "stream"
        },
        {
          "output_type": "display_data",
          "data": {
            "text/plain": "<IPython.core.display.Javascript object>",
            "application/javascript": "\n                var existingWin = window.bswin;\n                existingWin && existingWin.postMessage('{\"userId\": \"glen\", \"state\": {\"max_x\": 4, \"max_y\": 4, \"balls\": null, \"claw\": {\"pos\": {\"x\": 2, \"y\": 1}, \"open\": false, \"ball_color\": \"white\"}, \"isInGoalState\": false, \"moving_horizontally\": false, \"moving_vertically\": false, \"operating_claw\": true}}', \"*\");    \n                "
          },
          "metadata": {}
        },
        {
          "name": "stdout",
          "text": "new position: 0, 1\n",
          "output_type": "stream"
        },
        {
          "output_type": "display_data",
          "data": {
            "text/plain": "<IPython.core.display.Javascript object>",
            "application/javascript": "\n                var existingWin = window.bswin;\n                existingWin && existingWin.postMessage('{\"userId\": \"glen\", \"state\": {\"max_x\": 4, \"max_y\": 4, \"balls\": null, \"claw\": {\"pos\": {\"x\": 0, \"y\": 1}, \"open\": false, \"ball_color\": \"white\"}, \"isInGoalState\": false, \"moving_horizontally\": true, \"moving_vertically\": false, \"operating_claw\": false}}', \"*\");    \n                "
          },
          "metadata": {}
        },
        {
          "name": "stdout",
          "text": "new position: 0, 0\n",
          "output_type": "stream"
        },
        {
          "output_type": "display_data",
          "data": {
            "text/plain": "<IPython.core.display.Javascript object>",
            "application/javascript": "\n                var existingWin = window.bswin;\n                existingWin && existingWin.postMessage('{\"userId\": \"glen\", \"state\": {\"max_x\": 4, \"max_y\": 4, \"balls\": null, \"claw\": {\"pos\": {\"x\": 0, \"y\": 0}, \"open\": false, \"ball_color\": \"white\"}, \"isInGoalState\": false, \"moving_horizontally\": true, \"moving_vertically\": true, \"operating_claw\": false}}', \"*\");    \n                "
          },
          "metadata": {}
        },
        {
          "output_type": "display_data",
          "data": {
            "text/plain": "<IPython.core.display.Javascript object>",
            "application/javascript": "\n                var existingWin = window.bswin;\n                existingWin && existingWin.postMessage('{\"userId\": \"glen\", \"state\": {\"max_x\": 4, \"max_y\": 4, \"balls\": null, \"claw\": {\"pos\": {\"x\": 0, \"y\": 0}, \"open\": false, \"ball_color\": \"white\"}, \"isInGoalState\": false, \"moving_horizontally\": false, \"moving_vertically\": true, \"operating_claw\": false}}', \"*\");    \n                "
          },
          "metadata": {}
        },
        {
          "output_type": "display_data",
          "data": {
            "text/plain": "<IPython.core.display.Javascript object>",
            "application/javascript": "\n                var existingWin = window.bswin;\n                existingWin && existingWin.postMessage('{\"userId\": \"glen\", \"state\": {\"max_x\": 4, \"max_y\": 4, \"balls\": null, \"claw\": {\"pos\": {\"x\": 0, \"y\": 0}, \"open\": false, \"ball_color\": \"white\"}, \"isInGoalState\": false, \"moving_horizontally\": false, \"moving_vertically\": false, \"operating_claw\": false}}', \"*\");    \n                "
          },
          "metadata": {}
        },
        {
          "name": "stdout",
          "text": "opening claw\ndropping white marble\n",
          "output_type": "stream"
        },
        {
          "output_type": "display_data",
          "data": {
            "text/plain": "<IPython.core.display.Javascript object>",
            "application/javascript": "\n                var existingWin = window.bswin;\n                existingWin && existingWin.postMessage('{\"userId\": \"glen\", \"state\": {\"max_x\": 4, \"max_y\": 4, \"balls\": null, \"claw\": {\"pos\": {\"x\": 0, \"y\": 0}, \"open\": true, \"ball_color\": \"\"}, \"isInGoalState\": false, \"moving_horizontally\": false, \"moving_vertically\": false, \"operating_claw\": true}}', \"*\");    \n                "
          },
          "metadata": {}
        },
        {
          "name": "stdout",
          "text": "new position: 2, 0\n",
          "output_type": "stream"
        },
        {
          "output_type": "display_data",
          "data": {
            "text/plain": "<IPython.core.display.Javascript object>",
            "application/javascript": "\n                var existingWin = window.bswin;\n                existingWin && existingWin.postMessage('{\"userId\": \"glen\", \"state\": {\"max_x\": 4, \"max_y\": 4, \"balls\": null, \"claw\": {\"pos\": {\"x\": 2, \"y\": 0}, \"open\": true, \"ball_color\": \"\"}, \"isInGoalState\": false, \"moving_horizontally\": true, \"moving_vertically\": false, \"operating_claw\": false}}', \"*\");    \n                "
          },
          "metadata": {}
        },
        {
          "name": "stdout",
          "text": "new position: 2, 2\n",
          "output_type": "stream"
        },
        {
          "output_type": "display_data",
          "data": {
            "text/plain": "<IPython.core.display.Javascript object>",
            "application/javascript": "\n                var existingWin = window.bswin;\n                existingWin && existingWin.postMessage('{\"userId\": \"glen\", \"state\": {\"max_x\": 4, \"max_y\": 4, \"balls\": null, \"claw\": {\"pos\": {\"x\": 2, \"y\": 2}, \"open\": true, \"ball_color\": \"\"}, \"isInGoalState\": false, \"moving_horizontally\": true, \"moving_vertically\": true, \"operating_claw\": false}}', \"*\");    \n                "
          },
          "metadata": {}
        },
        {
          "name": "stdout",
          "text": "opening claw\n",
          "output_type": "stream"
        },
        {
          "output_type": "display_data",
          "data": {
            "text/plain": "<IPython.core.display.Javascript object>",
            "application/javascript": "\n                var existingWin = window.bswin;\n                existingWin && existingWin.postMessage('{\"userId\": \"glen\", \"state\": {\"max_x\": 4, \"max_y\": 4, \"balls\": null, \"claw\": {\"pos\": {\"x\": 2, \"y\": 2}, \"open\": true, \"ball_color\": \"\"}, \"isInGoalState\": false, \"moving_horizontally\": true, \"moving_vertically\": true, \"operating_claw\": true}}', \"*\");    \n                "
          },
          "metadata": {}
        },
        {
          "output_type": "display_data",
          "data": {
            "text/plain": "<IPython.core.display.Javascript object>",
            "application/javascript": "\n                var existingWin = window.bswin;\n                existingWin && existingWin.postMessage('{\"userId\": \"glen\", \"state\": {\"max_x\": 4, \"max_y\": 4, \"balls\": null, \"claw\": {\"pos\": {\"x\": 2, \"y\": 2}, \"open\": true, \"ball_color\": \"\"}, \"isInGoalState\": false, \"moving_horizontally\": false, \"moving_vertically\": true, \"operating_claw\": false}}', \"*\");    \n                "
          },
          "metadata": {}
        },
        {
          "output_type": "display_data",
          "data": {
            "text/plain": "<IPython.core.display.Javascript object>",
            "application/javascript": "\n                var existingWin = window.bswin;\n                existingWin && existingWin.postMessage('{\"userId\": \"glen\", \"state\": {\"max_x\": 4, \"max_y\": 4, \"balls\": null, \"claw\": {\"pos\": {\"x\": 2, \"y\": 2}, \"open\": true, \"ball_color\": \"\"}, \"isInGoalState\": false, \"moving_horizontally\": false, \"moving_vertically\": false, \"operating_claw\": false}}', \"*\");    \n                "
          },
          "metadata": {}
        },
        {
          "name": "stdout",
          "text": "closing claw\ngrabbing white marble\n",
          "output_type": "stream"
        },
        {
          "output_type": "display_data",
          "data": {
            "text/plain": "<IPython.core.display.Javascript object>",
            "application/javascript": "\n                var existingWin = window.bswin;\n                existingWin && existingWin.postMessage('{\"userId\": \"glen\", \"state\": {\"max_x\": 4, \"max_y\": 4, \"balls\": null, \"claw\": {\"pos\": {\"x\": 2, \"y\": 2}, \"open\": false, \"ball_color\": \"white\"}, \"isInGoalState\": false, \"moving_horizontally\": false, \"moving_vertically\": false, \"operating_claw\": true}}', \"*\");    \n                "
          },
          "metadata": {}
        },
        {
          "name": "stdout",
          "text": "new position: 1, 2\n",
          "output_type": "stream"
        },
        {
          "output_type": "display_data",
          "data": {
            "text/plain": "<IPython.core.display.Javascript object>",
            "application/javascript": "\n                var existingWin = window.bswin;\n                existingWin && existingWin.postMessage('{\"userId\": \"glen\", \"state\": {\"max_x\": 4, \"max_y\": 4, \"balls\": null, \"claw\": {\"pos\": {\"x\": 1, \"y\": 2}, \"open\": false, \"ball_color\": \"white\"}, \"isInGoalState\": false, \"moving_horizontally\": true, \"moving_vertically\": false, \"operating_claw\": false}}', \"*\");    \n                "
          },
          "metadata": {}
        },
        {
          "name": "stdout",
          "text": "new position: 1, 0\n",
          "output_type": "stream"
        },
        {
          "output_type": "display_data",
          "data": {
            "text/plain": "<IPython.core.display.Javascript object>",
            "application/javascript": "\n                var existingWin = window.bswin;\n                existingWin && existingWin.postMessage('{\"userId\": \"glen\", \"state\": {\"max_x\": 4, \"max_y\": 4, \"balls\": null, \"claw\": {\"pos\": {\"x\": 1, \"y\": 0}, \"open\": false, \"ball_color\": \"white\"}, \"isInGoalState\": false, \"moving_horizontally\": true, \"moving_vertically\": true, \"operating_claw\": false}}', \"*\");    \n                "
          },
          "metadata": {}
        },
        {
          "output_type": "display_data",
          "data": {
            "text/plain": "<IPython.core.display.Javascript object>",
            "application/javascript": "\n                var existingWin = window.bswin;\n                existingWin && existingWin.postMessage('{\"userId\": \"glen\", \"state\": {\"max_x\": 4, \"max_y\": 4, \"balls\": null, \"claw\": {\"pos\": {\"x\": 1, \"y\": 0}, \"open\": false, \"ball_color\": \"white\"}, \"isInGoalState\": false, \"moving_horizontally\": false, \"moving_vertically\": true, \"operating_claw\": false}}', \"*\");    \n                "
          },
          "metadata": {}
        },
        {
          "output_type": "display_data",
          "data": {
            "text/plain": "<IPython.core.display.Javascript object>",
            "application/javascript": "\n                var existingWin = window.bswin;\n                existingWin && existingWin.postMessage('{\"userId\": \"glen\", \"state\": {\"max_x\": 4, \"max_y\": 4, \"balls\": null, \"claw\": {\"pos\": {\"x\": 1, \"y\": 0}, \"open\": false, \"ball_color\": \"white\"}, \"isInGoalState\": false, \"moving_horizontally\": false, \"moving_vertically\": false, \"operating_claw\": false}}', \"*\");    \n                "
          },
          "metadata": {}
        },
        {
          "name": "stdout",
          "text": "opening claw\ndropping white marble\n",
          "output_type": "stream"
        },
        {
          "output_type": "display_data",
          "data": {
            "text/plain": "<IPython.core.display.Javascript object>",
            "application/javascript": "\n                var existingWin = window.bswin;\n                existingWin && existingWin.postMessage('{\"userId\": \"glen\", \"state\": {\"max_x\": 4, \"max_y\": 4, \"balls\": null, \"claw\": {\"pos\": {\"x\": 1, \"y\": 0}, \"open\": true, \"ball_color\": \"\"}, \"isInGoalState\": false, \"moving_horizontally\": false, \"moving_vertically\": false, \"operating_claw\": true}}', \"*\");    \n                "
          },
          "metadata": {}
        },
        {
          "name": "stdout",
          "text": "new position: 2, 0\n",
          "output_type": "stream"
        },
        {
          "output_type": "display_data",
          "data": {
            "text/plain": "<IPython.core.display.Javascript object>",
            "application/javascript": "\n                var existingWin = window.bswin;\n                existingWin && existingWin.postMessage('{\"userId\": \"glen\", \"state\": {\"max_x\": 4, \"max_y\": 4, \"balls\": null, \"claw\": {\"pos\": {\"x\": 2, \"y\": 0}, \"open\": true, \"ball_color\": \"\"}, \"isInGoalState\": false, \"moving_horizontally\": true, \"moving_vertically\": false, \"operating_claw\": false}}', \"*\");    \n                "
          },
          "metadata": {}
        },
        {
          "name": "stdout",
          "text": "new position: 2, 3\n",
          "output_type": "stream"
        },
        {
          "output_type": "display_data",
          "data": {
            "text/plain": "<IPython.core.display.Javascript object>",
            "application/javascript": "\n                var existingWin = window.bswin;\n                existingWin && existingWin.postMessage('{\"userId\": \"glen\", \"state\": {\"max_x\": 4, \"max_y\": 4, \"balls\": null, \"claw\": {\"pos\": {\"x\": 2, \"y\": 3}, \"open\": true, \"ball_color\": \"\"}, \"isInGoalState\": false, \"moving_horizontally\": true, \"moving_vertically\": true, \"operating_claw\": false}}', \"*\");    \n                "
          },
          "metadata": {}
        },
        {
          "name": "stdout",
          "text": "opening claw\n",
          "output_type": "stream"
        },
        {
          "output_type": "display_data",
          "data": {
            "text/plain": "<IPython.core.display.Javascript object>",
            "application/javascript": "\n                var existingWin = window.bswin;\n                existingWin && existingWin.postMessage('{\"userId\": \"glen\", \"state\": {\"max_x\": 4, \"max_y\": 4, \"balls\": null, \"claw\": {\"pos\": {\"x\": 2, \"y\": 3}, \"open\": true, \"ball_color\": \"\"}, \"isInGoalState\": false, \"moving_horizontally\": true, \"moving_vertically\": true, \"operating_claw\": true}}', \"*\");    \n                "
          },
          "metadata": {}
        },
        {
          "output_type": "display_data",
          "data": {
            "text/plain": "<IPython.core.display.Javascript object>",
            "application/javascript": "\n                var existingWin = window.bswin;\n                existingWin && existingWin.postMessage('{\"userId\": \"glen\", \"state\": {\"max_x\": 4, \"max_y\": 4, \"balls\": null, \"claw\": {\"pos\": {\"x\": 2, \"y\": 3}, \"open\": true, \"ball_color\": \"\"}, \"isInGoalState\": false, \"moving_horizontally\": false, \"moving_vertically\": true, \"operating_claw\": false}}', \"*\");    \n                "
          },
          "metadata": {}
        },
        {
          "output_type": "display_data",
          "data": {
            "text/plain": "<IPython.core.display.Javascript object>",
            "application/javascript": "\n                var existingWin = window.bswin;\n                existingWin && existingWin.postMessage('{\"userId\": \"glen\", \"state\": {\"max_x\": 4, \"max_y\": 4, \"balls\": null, \"claw\": {\"pos\": {\"x\": 2, \"y\": 3}, \"open\": true, \"ball_color\": \"\"}, \"isInGoalState\": false, \"moving_horizontally\": false, \"moving_vertically\": false, \"operating_claw\": false}}', \"*\");    \n                "
          },
          "metadata": {}
        },
        {
          "name": "stdout",
          "text": "closing claw\ngrabbing red marble\n",
          "output_type": "stream"
        },
        {
          "output_type": "display_data",
          "data": {
            "text/plain": "<IPython.core.display.Javascript object>",
            "application/javascript": "\n                var existingWin = window.bswin;\n                existingWin && existingWin.postMessage('{\"userId\": \"glen\", \"state\": {\"max_x\": 4, \"max_y\": 4, \"balls\": null, \"claw\": {\"pos\": {\"x\": 2, \"y\": 3}, \"open\": false, \"ball_color\": \"red\"}, \"isInGoalState\": false, \"moving_horizontally\": false, \"moving_vertically\": false, \"operating_claw\": true}}', \"*\");    \n                "
          },
          "metadata": {}
        },
        {
          "name": "stdout",
          "text": "new position: 3, 3\n",
          "output_type": "stream"
        },
        {
          "output_type": "display_data",
          "data": {
            "text/plain": "<IPython.core.display.Javascript object>",
            "application/javascript": "\n                var existingWin = window.bswin;\n                existingWin && existingWin.postMessage('{\"userId\": \"glen\", \"state\": {\"max_x\": 4, \"max_y\": 4, \"balls\": null, \"claw\": {\"pos\": {\"x\": 3, \"y\": 3}, \"open\": false, \"ball_color\": \"red\"}, \"isInGoalState\": false, \"moving_horizontally\": true, \"moving_vertically\": false, \"operating_claw\": false}}', \"*\");    \n                "
          },
          "metadata": {}
        },
        {
          "name": "stdout",
          "text": "new position: 3, 0\n",
          "output_type": "stream"
        },
        {
          "output_type": "display_data",
          "data": {
            "text/plain": "<IPython.core.display.Javascript object>",
            "application/javascript": "\n                var existingWin = window.bswin;\n                existingWin && existingWin.postMessage('{\"userId\": \"glen\", \"state\": {\"max_x\": 4, \"max_y\": 4, \"balls\": null, \"claw\": {\"pos\": {\"x\": 3, \"y\": 0}, \"open\": false, \"ball_color\": \"red\"}, \"isInGoalState\": false, \"moving_horizontally\": true, \"moving_vertically\": true, \"operating_claw\": false}}', \"*\");    \n                "
          },
          "metadata": {}
        },
        {
          "output_type": "display_data",
          "data": {
            "text/plain": "<IPython.core.display.Javascript object>",
            "application/javascript": "\n                var existingWin = window.bswin;\n                existingWin && existingWin.postMessage('{\"userId\": \"glen\", \"state\": {\"max_x\": 4, \"max_y\": 4, \"balls\": null, \"claw\": {\"pos\": {\"x\": 3, \"y\": 0}, \"open\": false, \"ball_color\": \"red\"}, \"isInGoalState\": false, \"moving_horizontally\": false, \"moving_vertically\": true, \"operating_claw\": false}}', \"*\");    \n                "
          },
          "metadata": {}
        },
        {
          "output_type": "display_data",
          "data": {
            "text/plain": "<IPython.core.display.Javascript object>",
            "application/javascript": "\n                var existingWin = window.bswin;\n                existingWin && existingWin.postMessage('{\"userId\": \"glen\", \"state\": {\"max_x\": 4, \"max_y\": 4, \"balls\": null, \"claw\": {\"pos\": {\"x\": 3, \"y\": 0}, \"open\": false, \"ball_color\": \"red\"}, \"isInGoalState\": false, \"moving_horizontally\": false, \"moving_vertically\": false, \"operating_claw\": false}}', \"*\");    \n                "
          },
          "metadata": {}
        },
        {
          "name": "stdout",
          "text": "opening claw\ndropping red marble\n",
          "output_type": "stream"
        },
        {
          "output_type": "display_data",
          "data": {
            "text/plain": "<IPython.core.display.Javascript object>",
            "application/javascript": "\n                var existingWin = window.bswin;\n                existingWin && existingWin.postMessage('{\"userId\": \"glen\", \"state\": {\"max_x\": 4, \"max_y\": 4, \"balls\": null, \"claw\": {\"pos\": {\"x\": 3, \"y\": 0}, \"open\": true, \"ball_color\": \"\"}, \"isInGoalState\": false, \"moving_horizontally\": false, \"moving_vertically\": false, \"operating_claw\": true}}', \"*\");    \n                "
          },
          "metadata": {}
        },
        {
          "name": "stdout",
          "text": "new position: 2, 0\n",
          "output_type": "stream"
        },
        {
          "output_type": "display_data",
          "data": {
            "text/plain": "<IPython.core.display.Javascript object>",
            "application/javascript": "\n                var existingWin = window.bswin;\n                existingWin && existingWin.postMessage('{\"userId\": \"glen\", \"state\": {\"max_x\": 4, \"max_y\": 4, \"balls\": null, \"claw\": {\"pos\": {\"x\": 2, \"y\": 0}, \"open\": true, \"ball_color\": \"\"}, \"isInGoalState\": false, \"moving_horizontally\": true, \"moving_vertically\": false, \"operating_claw\": false}}', \"*\");    \n                "
          },
          "metadata": {}
        },
        {
          "name": "stdout",
          "text": "new position: 2, 4\n",
          "output_type": "stream"
        },
        {
          "output_type": "display_data",
          "data": {
            "text/plain": "<IPython.core.display.Javascript object>",
            "application/javascript": "\n                var existingWin = window.bswin;\n                existingWin && existingWin.postMessage('{\"userId\": \"glen\", \"state\": {\"max_x\": 4, \"max_y\": 4, \"balls\": null, \"claw\": {\"pos\": {\"x\": 2, \"y\": 4}, \"open\": true, \"ball_color\": \"\"}, \"isInGoalState\": false, \"moving_horizontally\": true, \"moving_vertically\": true, \"operating_claw\": false}}', \"*\");    \n                "
          },
          "metadata": {}
        },
        {
          "name": "stdout",
          "text": "opening claw\n",
          "output_type": "stream"
        },
        {
          "output_type": "display_data",
          "data": {
            "text/plain": "<IPython.core.display.Javascript object>",
            "application/javascript": "\n                var existingWin = window.bswin;\n                existingWin && existingWin.postMessage('{\"userId\": \"glen\", \"state\": {\"max_x\": 4, \"max_y\": 4, \"balls\": null, \"claw\": {\"pos\": {\"x\": 2, \"y\": 4}, \"open\": true, \"ball_color\": \"\"}, \"isInGoalState\": false, \"moving_horizontally\": true, \"moving_vertically\": true, \"operating_claw\": true}}', \"*\");    \n                "
          },
          "metadata": {}
        },
        {
          "output_type": "display_data",
          "data": {
            "text/plain": "<IPython.core.display.Javascript object>",
            "application/javascript": "\n                var existingWin = window.bswin;\n                existingWin && existingWin.postMessage('{\"userId\": \"glen\", \"state\": {\"max_x\": 4, \"max_y\": 4, \"balls\": null, \"claw\": {\"pos\": {\"x\": 2, \"y\": 4}, \"open\": true, \"ball_color\": \"\"}, \"isInGoalState\": false, \"moving_horizontally\": false, \"moving_vertically\": true, \"operating_claw\": false}}', \"*\");    \n                "
          },
          "metadata": {}
        },
        {
          "output_type": "display_data",
          "data": {
            "text/plain": "<IPython.core.display.Javascript object>",
            "application/javascript": "\n                var existingWin = window.bswin;\n                existingWin && existingWin.postMessage('{\"userId\": \"glen\", \"state\": {\"max_x\": 4, \"max_y\": 4, \"balls\": null, \"claw\": {\"pos\": {\"x\": 2, \"y\": 4}, \"open\": true, \"ball_color\": \"\"}, \"isInGoalState\": false, \"moving_horizontally\": false, \"moving_vertically\": false, \"operating_claw\": false}}', \"*\");    \n                "
          },
          "metadata": {}
        },
        {
          "name": "stdout",
          "text": "closing claw\ngrabbing red marble\n",
          "output_type": "stream"
        },
        {
          "output_type": "display_data",
          "data": {
            "text/plain": "<IPython.core.display.Javascript object>",
            "application/javascript": "\n                var existingWin = window.bswin;\n                existingWin && existingWin.postMessage('{\"userId\": \"glen\", \"state\": {\"max_x\": 4, \"max_y\": 4, \"balls\": null, \"claw\": {\"pos\": {\"x\": 2, \"y\": 4}, \"open\": false, \"ball_color\": \"red\"}, \"isInGoalState\": false, \"moving_horizontally\": false, \"moving_vertically\": false, \"operating_claw\": true}}', \"*\");    \n                "
          },
          "metadata": {}
        },
        {
          "name": "stdout",
          "text": "new position: 4, 4\n",
          "output_type": "stream"
        },
        {
          "output_type": "display_data",
          "data": {
            "text/plain": "<IPython.core.display.Javascript object>",
            "application/javascript": "\n                var existingWin = window.bswin;\n                existingWin && existingWin.postMessage('{\"userId\": \"glen\", \"state\": {\"max_x\": 4, \"max_y\": 4, \"balls\": null, \"claw\": {\"pos\": {\"x\": 4, \"y\": 4}, \"open\": false, \"ball_color\": \"red\"}, \"isInGoalState\": false, \"moving_horizontally\": true, \"moving_vertically\": false, \"operating_claw\": false}}', \"*\");    \n                "
          },
          "metadata": {}
        },
        {
          "output_type": "display_data",
          "data": {
            "text/plain": "<IPython.core.display.Javascript object>",
            "application/javascript": "\n                var existingWin = window.bswin;\n                existingWin && existingWin.postMessage('{\"userId\": \"glen\", \"state\": {\"max_x\": 4, \"max_y\": 4, \"balls\": null, \"claw\": {\"pos\": {\"x\": 4, \"y\": 4}, \"open\": false, \"ball_color\": \"red\"}, \"isInGoalState\": false, \"moving_horizontally\": false, \"moving_vertically\": false, \"operating_claw\": false}}', \"*\");    \n                "
          },
          "metadata": {}
        },
        {
          "name": "stdout",
          "text": "opening claw\ndropping red marble\n",
          "output_type": "stream"
        },
        {
          "output_type": "display_data",
          "data": {
            "text/plain": "<IPython.core.display.Javascript object>",
            "application/javascript": "\n                var existingWin = window.bswin;\n                existingWin && existingWin.postMessage('{\"userId\": \"glen\", \"state\": {\"max_x\": 4, \"max_y\": 4, \"balls\": null, \"claw\": {\"pos\": {\"x\": 4, \"y\": 4}, \"open\": true, \"ball_color\": \"\"}, \"isInGoalState\": false, \"moving_horizontally\": false, \"moving_vertically\": false, \"operating_claw\": true}}', \"*\");    \n                "
          },
          "metadata": {}
        },
        {
          "name": "stdout",
          "text": "new position: 0, 4\n",
          "output_type": "stream"
        },
        {
          "output_type": "display_data",
          "data": {
            "text/plain": "<IPython.core.display.Javascript object>",
            "application/javascript": "\n                var existingWin = window.bswin;\n                existingWin && existingWin.postMessage('{\"userId\": \"glen\", \"state\": {\"max_x\": 4, \"max_y\": 4, \"balls\": null, \"claw\": {\"pos\": {\"x\": 0, \"y\": 4}, \"open\": true, \"ball_color\": \"\"}, \"isInGoalState\": false, \"moving_horizontally\": true, \"moving_vertically\": false, \"operating_claw\": false}}', \"*\");    \n                "
          },
          "metadata": {}
        },
        {
          "name": "stdout",
          "text": "new position: 0, 0\n",
          "output_type": "stream"
        },
        {
          "output_type": "display_data",
          "data": {
            "text/plain": "<IPython.core.display.Javascript object>",
            "application/javascript": "\n                var existingWin = window.bswin;\n                existingWin && existingWin.postMessage('{\"userId\": \"glen\", \"state\": {\"max_x\": 4, \"max_y\": 4, \"balls\": null, \"claw\": {\"pos\": {\"x\": 0, \"y\": 0}, \"open\": true, \"ball_color\": \"\"}, \"isInGoalState\": false, \"moving_horizontally\": true, \"moving_vertically\": true, \"operating_claw\": false}}', \"*\");    \n                "
          },
          "metadata": {}
        },
        {
          "name": "stdout",
          "text": "opening claw\n",
          "output_type": "stream"
        },
        {
          "output_type": "display_data",
          "data": {
            "text/plain": "<IPython.core.display.Javascript object>",
            "application/javascript": "\n                var existingWin = window.bswin;\n                existingWin && existingWin.postMessage('{\"userId\": \"glen\", \"state\": {\"max_x\": 4, \"max_y\": 4, \"balls\": null, \"claw\": {\"pos\": {\"x\": 0, \"y\": 0}, \"open\": true, \"ball_color\": \"\"}, \"isInGoalState\": false, \"moving_horizontally\": true, \"moving_vertically\": true, \"operating_claw\": true}}', \"*\");    \n                "
          },
          "metadata": {}
        },
        {
          "output_type": "display_data",
          "data": {
            "text/plain": "<IPython.core.display.Javascript object>",
            "application/javascript": "\n                var existingWin = window.bswin;\n                existingWin && existingWin.postMessage('{\"userId\": \"glen\", \"state\": {\"max_x\": 4, \"max_y\": 4, \"balls\": null, \"claw\": {\"pos\": {\"x\": 0, \"y\": 0}, \"open\": true, \"ball_color\": \"\"}, \"isInGoalState\": false, \"moving_horizontally\": false, \"moving_vertically\": true, \"operating_claw\": false}}', \"*\");    \n                "
          },
          "metadata": {}
        },
        {
          "output_type": "display_data",
          "data": {
            "text/plain": "<IPython.core.display.Javascript object>",
            "application/javascript": "\n                var existingWin = window.bswin;\n                existingWin && existingWin.postMessage('{\"userId\": \"glen\", \"state\": {\"max_x\": 4, \"max_y\": 4, \"balls\": null, \"claw\": {\"pos\": {\"x\": 0, \"y\": 0}, \"open\": true, \"ball_color\": \"\"}, \"isInGoalState\": false, \"moving_horizontally\": false, \"moving_vertically\": false, \"operating_claw\": false}}', \"*\");    \n                "
          },
          "metadata": {}
        },
        {
          "name": "stdout",
          "text": "closing claw\ngrabbing white marble\n",
          "output_type": "stream"
        },
        {
          "output_type": "display_data",
          "data": {
            "text/plain": "<IPython.core.display.Javascript object>",
            "application/javascript": "\n                var existingWin = window.bswin;\n                existingWin && existingWin.postMessage('{\"userId\": \"glen\", \"state\": {\"max_x\": 4, \"max_y\": 4, \"balls\": null, \"claw\": {\"pos\": {\"x\": 0, \"y\": 0}, \"open\": false, \"ball_color\": \"white\"}, \"isInGoalState\": false, \"moving_horizontally\": false, \"moving_vertically\": false, \"operating_claw\": true}}', \"*\");    \n                "
          },
          "metadata": {}
        },
        {
          "name": "stdout",
          "text": "new position: 2, 0\n",
          "output_type": "stream"
        },
        {
          "output_type": "display_data",
          "data": {
            "text/plain": "<IPython.core.display.Javascript object>",
            "application/javascript": "\n                var existingWin = window.bswin;\n                existingWin && existingWin.postMessage('{\"userId\": \"glen\", \"state\": {\"max_x\": 4, \"max_y\": 4, \"balls\": null, \"claw\": {\"pos\": {\"x\": 2, \"y\": 0}, \"open\": false, \"ball_color\": \"white\"}, \"isInGoalState\": false, \"moving_horizontally\": true, \"moving_vertically\": false, \"operating_claw\": false}}', \"*\");    \n                "
          },
          "metadata": {}
        },
        {
          "name": "stdout",
          "text": "new position: 2, 4\n",
          "output_type": "stream"
        },
        {
          "output_type": "display_data",
          "data": {
            "text/plain": "<IPython.core.display.Javascript object>",
            "application/javascript": "\n                var existingWin = window.bswin;\n                existingWin && existingWin.postMessage('{\"userId\": \"glen\", \"state\": {\"max_x\": 4, \"max_y\": 4, \"balls\": null, \"claw\": {\"pos\": {\"x\": 2, \"y\": 4}, \"open\": false, \"ball_color\": \"white\"}, \"isInGoalState\": false, \"moving_horizontally\": true, \"moving_vertically\": true, \"operating_claw\": false}}', \"*\");    \n                "
          },
          "metadata": {}
        },
        {
          "output_type": "display_data",
          "data": {
            "text/plain": "<IPython.core.display.Javascript object>",
            "application/javascript": "\n                var existingWin = window.bswin;\n                existingWin && existingWin.postMessage('{\"userId\": \"glen\", \"state\": {\"max_x\": 4, \"max_y\": 4, \"balls\": null, \"claw\": {\"pos\": {\"x\": 2, \"y\": 4}, \"open\": false, \"ball_color\": \"white\"}, \"isInGoalState\": false, \"moving_horizontally\": false, \"moving_vertically\": true, \"operating_claw\": false}}', \"*\");    \n                "
          },
          "metadata": {}
        },
        {
          "output_type": "display_data",
          "data": {
            "text/plain": "<IPython.core.display.Javascript object>",
            "application/javascript": "\n                var existingWin = window.bswin;\n                existingWin && existingWin.postMessage('{\"userId\": \"glen\", \"state\": {\"max_x\": 4, \"max_y\": 4, \"balls\": null, \"claw\": {\"pos\": {\"x\": 2, \"y\": 4}, \"open\": false, \"ball_color\": \"white\"}, \"isInGoalState\": false, \"moving_horizontally\": false, \"moving_vertically\": false, \"operating_claw\": false}}', \"*\");    \n                "
          },
          "metadata": {}
        },
        {
          "name": "stdout",
          "text": "opening claw\ndropping white marble\n",
          "output_type": "stream"
        },
        {
          "output_type": "display_data",
          "data": {
            "text/plain": "<IPython.core.display.Javascript object>",
            "application/javascript": "\n                var existingWin = window.bswin;\n                existingWin && existingWin.postMessage('{\"userId\": \"glen\", \"state\": {\"max_x\": 4, \"max_y\": 4, \"balls\": null, \"claw\": {\"pos\": {\"x\": 2, \"y\": 4}, \"open\": true, \"ball_color\": \"\"}, \"isInGoalState\": false, \"moving_horizontally\": false, \"moving_vertically\": false, \"operating_claw\": true}}', \"*\");    \n                "
          },
          "metadata": {}
        },
        {
          "name": "stdout",
          "text": "new position: 1, 4\n",
          "output_type": "stream"
        },
        {
          "output_type": "display_data",
          "data": {
            "text/plain": "<IPython.core.display.Javascript object>",
            "application/javascript": "\n                var existingWin = window.bswin;\n                existingWin && existingWin.postMessage('{\"userId\": \"glen\", \"state\": {\"max_x\": 4, \"max_y\": 4, \"balls\": null, \"claw\": {\"pos\": {\"x\": 1, \"y\": 4}, \"open\": true, \"ball_color\": \"\"}, \"isInGoalState\": false, \"moving_horizontally\": true, \"moving_vertically\": false, \"operating_claw\": false}}', \"*\");    \n                "
          },
          "metadata": {}
        },
        {
          "name": "stdout",
          "text": "new position: 1, 0\n",
          "output_type": "stream"
        },
        {
          "output_type": "display_data",
          "data": {
            "text/plain": "<IPython.core.display.Javascript object>",
            "application/javascript": "\n                var existingWin = window.bswin;\n                existingWin && existingWin.postMessage('{\"userId\": \"glen\", \"state\": {\"max_x\": 4, \"max_y\": 4, \"balls\": null, \"claw\": {\"pos\": {\"x\": 1, \"y\": 0}, \"open\": true, \"ball_color\": \"\"}, \"isInGoalState\": false, \"moving_horizontally\": true, \"moving_vertically\": true, \"operating_claw\": false}}', \"*\");    \n                "
          },
          "metadata": {}
        },
        {
          "name": "stdout",
          "text": "opening claw\n",
          "output_type": "stream"
        },
        {
          "output_type": "display_data",
          "data": {
            "text/plain": "<IPython.core.display.Javascript object>",
            "application/javascript": "\n                var existingWin = window.bswin;\n                existingWin && existingWin.postMessage('{\"userId\": \"glen\", \"state\": {\"max_x\": 4, \"max_y\": 4, \"balls\": null, \"claw\": {\"pos\": {\"x\": 1, \"y\": 0}, \"open\": true, \"ball_color\": \"\"}, \"isInGoalState\": false, \"moving_horizontally\": true, \"moving_vertically\": true, \"operating_claw\": true}}', \"*\");    \n                "
          },
          "metadata": {}
        },
        {
          "output_type": "display_data",
          "data": {
            "text/plain": "<IPython.core.display.Javascript object>",
            "application/javascript": "\n                var existingWin = window.bswin;\n                existingWin && existingWin.postMessage('{\"userId\": \"glen\", \"state\": {\"max_x\": 4, \"max_y\": 4, \"balls\": null, \"claw\": {\"pos\": {\"x\": 1, \"y\": 0}, \"open\": true, \"ball_color\": \"\"}, \"isInGoalState\": false, \"moving_horizontally\": false, \"moving_vertically\": true, \"operating_claw\": false}}', \"*\");    \n                "
          },
          "metadata": {}
        },
        {
          "output_type": "display_data",
          "data": {
            "text/plain": "<IPython.core.display.Javascript object>",
            "application/javascript": "\n                var existingWin = window.bswin;\n                existingWin && existingWin.postMessage('{\"userId\": \"glen\", \"state\": {\"max_x\": 4, \"max_y\": 4, \"balls\": null, \"claw\": {\"pos\": {\"x\": 1, \"y\": 0}, \"open\": true, \"ball_color\": \"\"}, \"isInGoalState\": false, \"moving_horizontally\": false, \"moving_vertically\": false, \"operating_claw\": false}}', \"*\");    \n                "
          },
          "metadata": {}
        },
        {
          "name": "stdout",
          "text": "closing claw\ngrabbing white marble\n",
          "output_type": "stream"
        },
        {
          "output_type": "display_data",
          "data": {
            "text/plain": "<IPython.core.display.Javascript object>",
            "application/javascript": "\n                var existingWin = window.bswin;\n                existingWin && existingWin.postMessage('{\"userId\": \"glen\", \"state\": {\"max_x\": 4, \"max_y\": 4, \"balls\": null, \"claw\": {\"pos\": {\"x\": 1, \"y\": 0}, \"open\": false, \"ball_color\": \"white\"}, \"isInGoalState\": false, \"moving_horizontally\": false, \"moving_vertically\": false, \"operating_claw\": true}}', \"*\");    \n                "
          },
          "metadata": {}
        },
        {
          "name": "stdout",
          "text": "new position: 2, 0\n",
          "output_type": "stream"
        },
        {
          "output_type": "display_data",
          "data": {
            "text/plain": "<IPython.core.display.Javascript object>",
            "application/javascript": "\n                var existingWin = window.bswin;\n                existingWin && existingWin.postMessage('{\"userId\": \"glen\", \"state\": {\"max_x\": 4, \"max_y\": 4, \"balls\": null, \"claw\": {\"pos\": {\"x\": 2, \"y\": 0}, \"open\": false, \"ball_color\": \"white\"}, \"isInGoalState\": false, \"moving_horizontally\": true, \"moving_vertically\": false, \"operating_claw\": false}}', \"*\");    \n                "
          },
          "metadata": {}
        },
        {
          "name": "stdout",
          "text": "new position: 2, 3\n",
          "output_type": "stream"
        },
        {
          "output_type": "display_data",
          "data": {
            "text/plain": "<IPython.core.display.Javascript object>",
            "application/javascript": "\n                var existingWin = window.bswin;\n                existingWin && existingWin.postMessage('{\"userId\": \"glen\", \"state\": {\"max_x\": 4, \"max_y\": 4, \"balls\": null, \"claw\": {\"pos\": {\"x\": 2, \"y\": 3}, \"open\": false, \"ball_color\": \"white\"}, \"isInGoalState\": false, \"moving_horizontally\": true, \"moving_vertically\": true, \"operating_claw\": false}}', \"*\");    \n                "
          },
          "metadata": {}
        },
        {
          "output_type": "display_data",
          "data": {
            "text/plain": "<IPython.core.display.Javascript object>",
            "application/javascript": "\n                var existingWin = window.bswin;\n                existingWin && existingWin.postMessage('{\"userId\": \"glen\", \"state\": {\"max_x\": 4, \"max_y\": 4, \"balls\": null, \"claw\": {\"pos\": {\"x\": 2, \"y\": 3}, \"open\": false, \"ball_color\": \"white\"}, \"isInGoalState\": false, \"moving_horizontally\": false, \"moving_vertically\": true, \"operating_claw\": false}}', \"*\");    \n                "
          },
          "metadata": {}
        },
        {
          "output_type": "display_data",
          "data": {
            "text/plain": "<IPython.core.display.Javascript object>",
            "application/javascript": "\n                var existingWin = window.bswin;\n                existingWin && existingWin.postMessage('{\"userId\": \"glen\", \"state\": {\"max_x\": 4, \"max_y\": 4, \"balls\": null, \"claw\": {\"pos\": {\"x\": 2, \"y\": 3}, \"open\": false, \"ball_color\": \"white\"}, \"isInGoalState\": false, \"moving_horizontally\": false, \"moving_vertically\": false, \"operating_claw\": false}}', \"*\");    \n                "
          },
          "metadata": {}
        },
        {
          "name": "stdout",
          "text": "opening claw\ndropping white marble\n",
          "output_type": "stream"
        },
        {
          "output_type": "display_data",
          "data": {
            "text/plain": "<IPython.core.display.Javascript object>",
            "application/javascript": "\n                var existingWin = window.bswin;\n                existingWin && existingWin.postMessage('{\"userId\": \"glen\", \"state\": {\"max_x\": 4, \"max_y\": 4, \"balls\": null, \"claw\": {\"pos\": {\"x\": 2, \"y\": 3}, \"open\": true, \"ball_color\": \"\"}, \"isInGoalState\": false, \"moving_horizontally\": false, \"moving_vertically\": false, \"operating_claw\": true}}', \"*\");    \n                "
          },
          "metadata": {}
        },
        {
          "name": "stdout",
          "text": "new position: 3, 3\n",
          "output_type": "stream"
        },
        {
          "output_type": "display_data",
          "data": {
            "text/plain": "<IPython.core.display.Javascript object>",
            "application/javascript": "\n                var existingWin = window.bswin;\n                existingWin && existingWin.postMessage('{\"userId\": \"glen\", \"state\": {\"max_x\": 4, \"max_y\": 4, \"balls\": null, \"claw\": {\"pos\": {\"x\": 3, \"y\": 3}, \"open\": true, \"ball_color\": \"\"}, \"isInGoalState\": false, \"moving_horizontally\": true, \"moving_vertically\": false, \"operating_claw\": false}}', \"*\");    \n                "
          },
          "metadata": {}
        },
        {
          "name": "stdout",
          "text": "new position: 3, 0\n",
          "output_type": "stream"
        },
        {
          "output_type": "display_data",
          "data": {
            "text/plain": "<IPython.core.display.Javascript object>",
            "application/javascript": "\n                var existingWin = window.bswin;\n                existingWin && existingWin.postMessage('{\"userId\": \"glen\", \"state\": {\"max_x\": 4, \"max_y\": 4, \"balls\": null, \"claw\": {\"pos\": {\"x\": 3, \"y\": 0}, \"open\": true, \"ball_color\": \"\"}, \"isInGoalState\": false, \"moving_horizontally\": true, \"moving_vertically\": true, \"operating_claw\": false}}', \"*\");    \n                "
          },
          "metadata": {}
        },
        {
          "name": "stdout",
          "text": "opening claw\n",
          "output_type": "stream"
        },
        {
          "output_type": "display_data",
          "data": {
            "text/plain": "<IPython.core.display.Javascript object>",
            "application/javascript": "\n                var existingWin = window.bswin;\n                existingWin && existingWin.postMessage('{\"userId\": \"glen\", \"state\": {\"max_x\": 4, \"max_y\": 4, \"balls\": null, \"claw\": {\"pos\": {\"x\": 3, \"y\": 0}, \"open\": true, \"ball_color\": \"\"}, \"isInGoalState\": false, \"moving_horizontally\": true, \"moving_vertically\": true, \"operating_claw\": true}}', \"*\");    \n                "
          },
          "metadata": {}
        },
        {
          "output_type": "display_data",
          "data": {
            "text/plain": "<IPython.core.display.Javascript object>",
            "application/javascript": "\n                var existingWin = window.bswin;\n                existingWin && existingWin.postMessage('{\"userId\": \"glen\", \"state\": {\"max_x\": 4, \"max_y\": 4, \"balls\": null, \"claw\": {\"pos\": {\"x\": 3, \"y\": 0}, \"open\": true, \"ball_color\": \"\"}, \"isInGoalState\": false, \"moving_horizontally\": false, \"moving_vertically\": true, \"operating_claw\": false}}', \"*\");    \n                "
          },
          "metadata": {}
        },
        {
          "output_type": "display_data",
          "data": {
            "text/plain": "<IPython.core.display.Javascript object>",
            "application/javascript": "\n                var existingWin = window.bswin;\n                existingWin && existingWin.postMessage('{\"userId\": \"glen\", \"state\": {\"max_x\": 4, \"max_y\": 4, \"balls\": null, \"claw\": {\"pos\": {\"x\": 3, \"y\": 0}, \"open\": true, \"ball_color\": \"\"}, \"isInGoalState\": false, \"moving_horizontally\": false, \"moving_vertically\": false, \"operating_claw\": false}}', \"*\");    \n                "
          },
          "metadata": {}
        },
        {
          "name": "stdout",
          "text": "closing claw\ngrabbing red marble\n",
          "output_type": "stream"
        },
        {
          "output_type": "display_data",
          "data": {
            "text/plain": "<IPython.core.display.Javascript object>",
            "application/javascript": "\n                var existingWin = window.bswin;\n                existingWin && existingWin.postMessage('{\"userId\": \"glen\", \"state\": {\"max_x\": 4, \"max_y\": 4, \"balls\": null, \"claw\": {\"pos\": {\"x\": 3, \"y\": 0}, \"open\": false, \"ball_color\": \"red\"}, \"isInGoalState\": false, \"moving_horizontally\": false, \"moving_vertically\": false, \"operating_claw\": true}}', \"*\");    \n                "
          },
          "metadata": {}
        },
        {
          "name": "stdout",
          "text": "new position: 2, 0\n",
          "output_type": "stream"
        },
        {
          "output_type": "display_data",
          "data": {
            "text/plain": "<IPython.core.display.Javascript object>",
            "application/javascript": "\n                var existingWin = window.bswin;\n                existingWin && existingWin.postMessage('{\"userId\": \"glen\", \"state\": {\"max_x\": 4, \"max_y\": 4, \"balls\": null, \"claw\": {\"pos\": {\"x\": 2, \"y\": 0}, \"open\": false, \"ball_color\": \"red\"}, \"isInGoalState\": false, \"moving_horizontally\": true, \"moving_vertically\": false, \"operating_claw\": false}}', \"*\");    \n                "
          },
          "metadata": {}
        },
        {
          "name": "stdout",
          "text": "new position: 2, 2\n",
          "output_type": "stream"
        },
        {
          "output_type": "display_data",
          "data": {
            "text/plain": "<IPython.core.display.Javascript object>",
            "application/javascript": "\n                var existingWin = window.bswin;\n                existingWin && existingWin.postMessage('{\"userId\": \"glen\", \"state\": {\"max_x\": 4, \"max_y\": 4, \"balls\": null, \"claw\": {\"pos\": {\"x\": 2, \"y\": 2}, \"open\": false, \"ball_color\": \"red\"}, \"isInGoalState\": false, \"moving_horizontally\": true, \"moving_vertically\": true, \"operating_claw\": false}}', \"*\");    \n                "
          },
          "metadata": {}
        },
        {
          "output_type": "display_data",
          "data": {
            "text/plain": "<IPython.core.display.Javascript object>",
            "application/javascript": "\n                var existingWin = window.bswin;\n                existingWin && existingWin.postMessage('{\"userId\": \"glen\", \"state\": {\"max_x\": 4, \"max_y\": 4, \"balls\": null, \"claw\": {\"pos\": {\"x\": 2, \"y\": 2}, \"open\": false, \"ball_color\": \"red\"}, \"isInGoalState\": false, \"moving_horizontally\": false, \"moving_vertically\": true, \"operating_claw\": false}}', \"*\");    \n                "
          },
          "metadata": {}
        },
        {
          "output_type": "display_data",
          "data": {
            "text/plain": "<IPython.core.display.Javascript object>",
            "application/javascript": "\n                var existingWin = window.bswin;\n                existingWin && existingWin.postMessage('{\"userId\": \"glen\", \"state\": {\"max_x\": 4, \"max_y\": 4, \"balls\": null, \"claw\": {\"pos\": {\"x\": 2, \"y\": 2}, \"open\": false, \"ball_color\": \"red\"}, \"isInGoalState\": false, \"moving_horizontally\": false, \"moving_vertically\": false, \"operating_claw\": false}}', \"*\");    \n                "
          },
          "metadata": {}
        },
        {
          "name": "stdout",
          "text": "opening claw\ndropping red marble\n",
          "output_type": "stream"
        },
        {
          "output_type": "display_data",
          "data": {
            "text/plain": "<IPython.core.display.Javascript object>",
            "application/javascript": "\n                var existingWin = window.bswin;\n                existingWin && existingWin.postMessage('{\"userId\": \"glen\", \"state\": {\"max_x\": 4, \"max_y\": 4, \"balls\": null, \"claw\": {\"pos\": {\"x\": 2, \"y\": 2}, \"open\": true, \"ball_color\": \"\"}, \"isInGoalState\": false, \"moving_horizontally\": false, \"moving_vertically\": false, \"operating_claw\": true}}', \"*\");    \n                "
          },
          "metadata": {}
        },
        {
          "name": "stdout",
          "text": "new position: 4, 2\n",
          "output_type": "stream"
        },
        {
          "output_type": "display_data",
          "data": {
            "text/plain": "<IPython.core.display.Javascript object>",
            "application/javascript": "\n                var existingWin = window.bswin;\n                existingWin && existingWin.postMessage('{\"userId\": \"glen\", \"state\": {\"max_x\": 4, \"max_y\": 4, \"balls\": null, \"claw\": {\"pos\": {\"x\": 4, \"y\": 2}, \"open\": true, \"ball_color\": \"\"}, \"isInGoalState\": false, \"moving_horizontally\": true, \"moving_vertically\": false, \"operating_claw\": false}}', \"*\");    \n                "
          },
          "metadata": {}
        },
        {
          "name": "stdout",
          "text": "new position: 4, 4\n",
          "output_type": "stream"
        },
        {
          "output_type": "display_data",
          "data": {
            "text/plain": "<IPython.core.display.Javascript object>",
            "application/javascript": "\n                var existingWin = window.bswin;\n                existingWin && existingWin.postMessage('{\"userId\": \"glen\", \"state\": {\"max_x\": 4, \"max_y\": 4, \"balls\": null, \"claw\": {\"pos\": {\"x\": 4, \"y\": 4}, \"open\": true, \"ball_color\": \"\"}, \"isInGoalState\": false, \"moving_horizontally\": true, \"moving_vertically\": true, \"operating_claw\": false}}', \"*\");    \n                "
          },
          "metadata": {}
        },
        {
          "name": "stdout",
          "text": "opening claw\n",
          "output_type": "stream"
        },
        {
          "output_type": "display_data",
          "data": {
            "text/plain": "<IPython.core.display.Javascript object>",
            "application/javascript": "\n                var existingWin = window.bswin;\n                existingWin && existingWin.postMessage('{\"userId\": \"glen\", \"state\": {\"max_x\": 4, \"max_y\": 4, \"balls\": null, \"claw\": {\"pos\": {\"x\": 4, \"y\": 4}, \"open\": true, \"ball_color\": \"\"}, \"isInGoalState\": false, \"moving_horizontally\": true, \"moving_vertically\": true, \"operating_claw\": true}}', \"*\");    \n                "
          },
          "metadata": {}
        },
        {
          "output_type": "display_data",
          "data": {
            "text/plain": "<IPython.core.display.Javascript object>",
            "application/javascript": "\n                var existingWin = window.bswin;\n                existingWin && existingWin.postMessage('{\"userId\": \"glen\", \"state\": {\"max_x\": 4, \"max_y\": 4, \"balls\": null, \"claw\": {\"pos\": {\"x\": 4, \"y\": 4}, \"open\": true, \"ball_color\": \"\"}, \"isInGoalState\": false, \"moving_horizontally\": false, \"moving_vertically\": true, \"operating_claw\": false}}', \"*\");    \n                "
          },
          "metadata": {}
        },
        {
          "output_type": "display_data",
          "data": {
            "text/plain": "<IPython.core.display.Javascript object>",
            "application/javascript": "\n                var existingWin = window.bswin;\n                existingWin && existingWin.postMessage('{\"userId\": \"glen\", \"state\": {\"max_x\": 4, \"max_y\": 4, \"balls\": null, \"claw\": {\"pos\": {\"x\": 4, \"y\": 4}, \"open\": true, \"ball_color\": \"\"}, \"isInGoalState\": false, \"moving_horizontally\": false, \"moving_vertically\": false, \"operating_claw\": false}}', \"*\");    \n                "
          },
          "metadata": {}
        },
        {
          "name": "stdout",
          "text": "closing claw\ngrabbing red marble\n",
          "output_type": "stream"
        },
        {
          "output_type": "display_data",
          "data": {
            "text/plain": "<IPython.core.display.Javascript object>",
            "application/javascript": "\n                var existingWin = window.bswin;\n                existingWin && existingWin.postMessage('{\"userId\": \"glen\", \"state\": {\"max_x\": 4, \"max_y\": 4, \"balls\": null, \"claw\": {\"pos\": {\"x\": 4, \"y\": 4}, \"open\": false, \"ball_color\": \"red\"}, \"isInGoalState\": false, \"moving_horizontally\": false, \"moving_vertically\": false, \"operating_claw\": true}}', \"*\");    \n                "
          },
          "metadata": {}
        },
        {
          "name": "stdout",
          "text": "new position: 2, 4\n",
          "output_type": "stream"
        },
        {
          "output_type": "display_data",
          "data": {
            "text/plain": "<IPython.core.display.Javascript object>",
            "application/javascript": "\n                var existingWin = window.bswin;\n                existingWin && existingWin.postMessage('{\"userId\": \"glen\", \"state\": {\"max_x\": 4, \"max_y\": 4, \"balls\": null, \"claw\": {\"pos\": {\"x\": 2, \"y\": 4}, \"open\": false, \"ball_color\": \"red\"}, \"isInGoalState\": false, \"moving_horizontally\": true, \"moving_vertically\": false, \"operating_claw\": false}}', \"*\");    \n                "
          },
          "metadata": {}
        },
        {
          "name": "stdout",
          "text": "new position: 2, 1\n",
          "output_type": "stream"
        },
        {
          "output_type": "display_data",
          "data": {
            "text/plain": "<IPython.core.display.Javascript object>",
            "application/javascript": "\n                var existingWin = window.bswin;\n                existingWin && existingWin.postMessage('{\"userId\": \"glen\", \"state\": {\"max_x\": 4, \"max_y\": 4, \"balls\": null, \"claw\": {\"pos\": {\"x\": 2, \"y\": 1}, \"open\": false, \"ball_color\": \"red\"}, \"isInGoalState\": false, \"moving_horizontally\": true, \"moving_vertically\": true, \"operating_claw\": false}}', \"*\");    \n                "
          },
          "metadata": {}
        },
        {
          "output_type": "display_data",
          "data": {
            "text/plain": "<IPython.core.display.Javascript object>",
            "application/javascript": "\n                var existingWin = window.bswin;\n                existingWin && existingWin.postMessage('{\"userId\": \"glen\", \"state\": {\"max_x\": 4, \"max_y\": 4, \"balls\": null, \"claw\": {\"pos\": {\"x\": 2, \"y\": 1}, \"open\": false, \"ball_color\": \"red\"}, \"isInGoalState\": false, \"moving_horizontally\": false, \"moving_vertically\": true, \"operating_claw\": false}}', \"*\");    \n                "
          },
          "metadata": {}
        },
        {
          "output_type": "display_data",
          "data": {
            "text/plain": "<IPython.core.display.Javascript object>",
            "application/javascript": "\n                var existingWin = window.bswin;\n                existingWin && existingWin.postMessage('{\"userId\": \"glen\", \"state\": {\"max_x\": 4, \"max_y\": 4, \"balls\": null, \"claw\": {\"pos\": {\"x\": 2, \"y\": 1}, \"open\": false, \"ball_color\": \"red\"}, \"isInGoalState\": false, \"moving_horizontally\": false, \"moving_vertically\": false, \"operating_claw\": false}}', \"*\");    \n                "
          },
          "metadata": {}
        },
        {
          "name": "stdout",
          "text": "opening claw\ndropping red marble\n",
          "output_type": "stream"
        },
        {
          "output_type": "display_data",
          "data": {
            "text/plain": "<IPython.core.display.Javascript object>",
            "application/javascript": "\n                var existingWin = window.bswin;\n                existingWin && existingWin.postMessage('{\"userId\": \"glen\", \"state\": {\"max_x\": 4, \"max_y\": 4, \"balls\": null, \"claw\": {\"pos\": {\"x\": 2, \"y\": 1}, \"open\": true, \"ball_color\": \"\"}, \"isInGoalState\": false, \"moving_horizontally\": false, \"moving_vertically\": false, \"operating_claw\": true}}', \"*\");    \n                "
          },
          "metadata": {}
        },
        {
          "name": "stdout",
          "text": "new position: 3, 1\n",
          "output_type": "stream"
        },
        {
          "output_type": "display_data",
          "data": {
            "text/plain": "<IPython.core.display.Javascript object>",
            "application/javascript": "\n                var existingWin = window.bswin;\n                existingWin && existingWin.postMessage('{\"userId\": \"glen\", \"state\": {\"max_x\": 4, \"max_y\": 4, \"balls\": null, \"claw\": {\"pos\": {\"x\": 3, \"y\": 1}, \"open\": true, \"ball_color\": \"\"}, \"isInGoalState\": false, \"moving_horizontally\": true, \"moving_vertically\": false, \"operating_claw\": false}}', \"*\");    \n                "
          },
          "metadata": {}
        },
        {
          "name": "stdout",
          "text": "opening claw\n",
          "output_type": "stream"
        },
        {
          "output_type": "display_data",
          "data": {
            "text/plain": "<IPython.core.display.Javascript object>",
            "application/javascript": "\n                var existingWin = window.bswin;\n                existingWin && existingWin.postMessage('{\"userId\": \"glen\", \"state\": {\"max_x\": 4, \"max_y\": 4, \"balls\": null, \"claw\": {\"pos\": {\"x\": 3, \"y\": 1}, \"open\": true, \"ball_color\": \"\"}, \"isInGoalState\": false, \"moving_horizontally\": true, \"moving_vertically\": false, \"operating_claw\": true}}', \"*\");    \n                "
          },
          "metadata": {}
        },
        {
          "output_type": "display_data",
          "data": {
            "text/plain": "<IPython.core.display.Javascript object>",
            "application/javascript": "\n                var existingWin = window.bswin;\n                existingWin && existingWin.postMessage('{\"userId\": \"glen\", \"state\": {\"max_x\": 4, \"max_y\": 4, \"balls\": null, \"claw\": {\"pos\": {\"x\": 3, \"y\": 1}, \"open\": true, \"ball_color\": \"\"}, \"isInGoalState\": false, \"moving_horizontally\": false, \"moving_vertically\": false, \"operating_claw\": false}}', \"*\");    \n                "
          },
          "metadata": {}
        },
        {
          "name": "stdout",
          "text": "closing claw\ngrabbing white marble\n",
          "output_type": "stream"
        },
        {
          "output_type": "display_data",
          "data": {
            "text/plain": "<IPython.core.display.Javascript object>",
            "application/javascript": "\n                var existingWin = window.bswin;\n                existingWin && existingWin.postMessage('{\"userId\": \"glen\", \"state\": {\"max_x\": 4, \"max_y\": 4, \"balls\": null, \"claw\": {\"pos\": {\"x\": 3, \"y\": 1}, \"open\": false, \"ball_color\": \"white\"}, \"isInGoalState\": false, \"moving_horizontally\": false, \"moving_vertically\": false, \"operating_claw\": true}}', \"*\");    \n                "
          },
          "metadata": {}
        },
        {
          "name": "stdout",
          "text": "new position: 0, 1\n",
          "output_type": "stream"
        },
        {
          "output_type": "display_data",
          "data": {
            "text/plain": "<IPython.core.display.Javascript object>",
            "application/javascript": "\n                var existingWin = window.bswin;\n                existingWin && existingWin.postMessage('{\"userId\": \"glen\", \"state\": {\"max_x\": 4, \"max_y\": 4, \"balls\": null, \"claw\": {\"pos\": {\"x\": 0, \"y\": 1}, \"open\": false, \"ball_color\": \"white\"}, \"isInGoalState\": false, \"moving_horizontally\": true, \"moving_vertically\": false, \"operating_claw\": false}}', \"*\");    \n                "
          },
          "metadata": {}
        },
        {
          "name": "stdout",
          "text": "new position: 0, 0\n",
          "output_type": "stream"
        },
        {
          "output_type": "display_data",
          "data": {
            "text/plain": "<IPython.core.display.Javascript object>",
            "application/javascript": "\n                var existingWin = window.bswin;\n                existingWin && existingWin.postMessage('{\"userId\": \"glen\", \"state\": {\"max_x\": 4, \"max_y\": 4, \"balls\": null, \"claw\": {\"pos\": {\"x\": 0, \"y\": 0}, \"open\": false, \"ball_color\": \"white\"}, \"isInGoalState\": false, \"moving_horizontally\": true, \"moving_vertically\": true, \"operating_claw\": false}}', \"*\");    \n                "
          },
          "metadata": {}
        },
        {
          "output_type": "display_data",
          "data": {
            "text/plain": "<IPython.core.display.Javascript object>",
            "application/javascript": "\n                var existingWin = window.bswin;\n                existingWin && existingWin.postMessage('{\"userId\": \"glen\", \"state\": {\"max_x\": 4, \"max_y\": 4, \"balls\": null, \"claw\": {\"pos\": {\"x\": 0, \"y\": 0}, \"open\": false, \"ball_color\": \"white\"}, \"isInGoalState\": false, \"moving_horizontally\": false, \"moving_vertically\": true, \"operating_claw\": false}}', \"*\");    \n                "
          },
          "metadata": {}
        },
        {
          "output_type": "display_data",
          "data": {
            "text/plain": "<IPython.core.display.Javascript object>",
            "application/javascript": "\n                var existingWin = window.bswin;\n                existingWin && existingWin.postMessage('{\"userId\": \"glen\", \"state\": {\"max_x\": 4, \"max_y\": 4, \"balls\": null, \"claw\": {\"pos\": {\"x\": 0, \"y\": 0}, \"open\": false, \"ball_color\": \"white\"}, \"isInGoalState\": false, \"moving_horizontally\": false, \"moving_vertically\": false, \"operating_claw\": false}}', \"*\");    \n                "
          },
          "metadata": {}
        },
        {
          "name": "stdout",
          "text": "opening claw\ndropping white marble\n",
          "output_type": "stream"
        },
        {
          "output_type": "display_data",
          "data": {
            "text/plain": "<IPython.core.display.Javascript object>",
            "application/javascript": "\n                var existingWin = window.bswin;\n                existingWin && existingWin.postMessage('{\"userId\": \"glen\", \"state\": {\"max_x\": 4, \"max_y\": 4, \"balls\": null, \"claw\": {\"pos\": {\"x\": 0, \"y\": 0}, \"open\": true, \"ball_color\": \"\"}, \"isInGoalState\": false, \"moving_horizontally\": false, \"moving_vertically\": false, \"operating_claw\": true}}', \"*\");    \n                "
          },
          "metadata": {}
        },
        {
          "name": "stdout",
          "text": "new position: 3, 0\n",
          "output_type": "stream"
        },
        {
          "output_type": "display_data",
          "data": {
            "text/plain": "<IPython.core.display.Javascript object>",
            "application/javascript": "\n                var existingWin = window.bswin;\n                existingWin && existingWin.postMessage('{\"userId\": \"glen\", \"state\": {\"max_x\": 4, \"max_y\": 4, \"balls\": null, \"claw\": {\"pos\": {\"x\": 3, \"y\": 0}, \"open\": true, \"ball_color\": \"\"}, \"isInGoalState\": false, \"moving_horizontally\": true, \"moving_vertically\": false, \"operating_claw\": false}}', \"*\");    \n                "
          },
          "metadata": {}
        },
        {
          "name": "stdout",
          "text": "new position: 3, 2\n",
          "output_type": "stream"
        },
        {
          "output_type": "display_data",
          "data": {
            "text/plain": "<IPython.core.display.Javascript object>",
            "application/javascript": "\n                var existingWin = window.bswin;\n                existingWin && existingWin.postMessage('{\"userId\": \"glen\", \"state\": {\"max_x\": 4, \"max_y\": 4, \"balls\": null, \"claw\": {\"pos\": {\"x\": 3, \"y\": 2}, \"open\": true, \"ball_color\": \"\"}, \"isInGoalState\": false, \"moving_horizontally\": true, \"moving_vertically\": true, \"operating_claw\": false}}', \"*\");    \n                "
          },
          "metadata": {}
        },
        {
          "name": "stdout",
          "text": "opening claw\n",
          "output_type": "stream"
        },
        {
          "output_type": "display_data",
          "data": {
            "text/plain": "<IPython.core.display.Javascript object>",
            "application/javascript": "\n                var existingWin = window.bswin;\n                existingWin && existingWin.postMessage('{\"userId\": \"glen\", \"state\": {\"max_x\": 4, \"max_y\": 4, \"balls\": null, \"claw\": {\"pos\": {\"x\": 3, \"y\": 2}, \"open\": true, \"ball_color\": \"\"}, \"isInGoalState\": false, \"moving_horizontally\": true, \"moving_vertically\": true, \"operating_claw\": true}}', \"*\");    \n                "
          },
          "metadata": {}
        },
        {
          "output_type": "display_data",
          "data": {
            "text/plain": "<IPython.core.display.Javascript object>",
            "application/javascript": "\n                var existingWin = window.bswin;\n                existingWin && existingWin.postMessage('{\"userId\": \"glen\", \"state\": {\"max_x\": 4, \"max_y\": 4, \"balls\": null, \"claw\": {\"pos\": {\"x\": 3, \"y\": 2}, \"open\": true, \"ball_color\": \"\"}, \"isInGoalState\": false, \"moving_horizontally\": false, \"moving_vertically\": true, \"operating_claw\": false}}', \"*\");    \n                "
          },
          "metadata": {}
        },
        {
          "output_type": "display_data",
          "data": {
            "text/plain": "<IPython.core.display.Javascript object>",
            "application/javascript": "\n                var existingWin = window.bswin;\n                existingWin && existingWin.postMessage('{\"userId\": \"glen\", \"state\": {\"max_x\": 4, \"max_y\": 4, \"balls\": null, \"claw\": {\"pos\": {\"x\": 3, \"y\": 2}, \"open\": true, \"ball_color\": \"\"}, \"isInGoalState\": false, \"moving_horizontally\": false, \"moving_vertically\": false, \"operating_claw\": false}}', \"*\");    \n                "
          },
          "metadata": {}
        },
        {
          "name": "stdout",
          "text": "closing claw\ngrabbing white marble\n",
          "output_type": "stream"
        },
        {
          "output_type": "display_data",
          "data": {
            "text/plain": "<IPython.core.display.Javascript object>",
            "application/javascript": "\n                var existingWin = window.bswin;\n                existingWin && existingWin.postMessage('{\"userId\": \"glen\", \"state\": {\"max_x\": 4, \"max_y\": 4, \"balls\": null, \"claw\": {\"pos\": {\"x\": 3, \"y\": 2}, \"open\": false, \"ball_color\": \"white\"}, \"isInGoalState\": false, \"moving_horizontally\": false, \"moving_vertically\": false, \"operating_claw\": true}}', \"*\");    \n                "
          },
          "metadata": {}
        },
        {
          "name": "stdout",
          "text": "new position: 1, 2\n",
          "output_type": "stream"
        },
        {
          "output_type": "display_data",
          "data": {
            "text/plain": "<IPython.core.display.Javascript object>",
            "application/javascript": "\n                var existingWin = window.bswin;\n                existingWin && existingWin.postMessage('{\"userId\": \"glen\", \"state\": {\"max_x\": 4, \"max_y\": 4, \"balls\": null, \"claw\": {\"pos\": {\"x\": 1, \"y\": 2}, \"open\": false, \"ball_color\": \"white\"}, \"isInGoalState\": false, \"moving_horizontally\": true, \"moving_vertically\": false, \"operating_claw\": false}}', \"*\");    \n                "
          },
          "metadata": {}
        },
        {
          "name": "stdout",
          "text": "new position: 1, 0\n",
          "output_type": "stream"
        },
        {
          "output_type": "display_data",
          "data": {
            "text/plain": "<IPython.core.display.Javascript object>",
            "application/javascript": "\n                var existingWin = window.bswin;\n                existingWin && existingWin.postMessage('{\"userId\": \"glen\", \"state\": {\"max_x\": 4, \"max_y\": 4, \"balls\": null, \"claw\": {\"pos\": {\"x\": 1, \"y\": 0}, \"open\": false, \"ball_color\": \"white\"}, \"isInGoalState\": false, \"moving_horizontally\": true, \"moving_vertically\": true, \"operating_claw\": false}}', \"*\");    \n                "
          },
          "metadata": {}
        },
        {
          "output_type": "display_data",
          "data": {
            "text/plain": "<IPython.core.display.Javascript object>",
            "application/javascript": "\n                var existingWin = window.bswin;\n                existingWin && existingWin.postMessage('{\"userId\": \"glen\", \"state\": {\"max_x\": 4, \"max_y\": 4, \"balls\": null, \"claw\": {\"pos\": {\"x\": 1, \"y\": 0}, \"open\": false, \"ball_color\": \"white\"}, \"isInGoalState\": false, \"moving_horizontally\": false, \"moving_vertically\": true, \"operating_claw\": false}}', \"*\");    \n                "
          },
          "metadata": {}
        },
        {
          "output_type": "display_data",
          "data": {
            "text/plain": "<IPython.core.display.Javascript object>",
            "application/javascript": "\n                var existingWin = window.bswin;\n                existingWin && existingWin.postMessage('{\"userId\": \"glen\", \"state\": {\"max_x\": 4, \"max_y\": 4, \"balls\": null, \"claw\": {\"pos\": {\"x\": 1, \"y\": 0}, \"open\": false, \"ball_color\": \"white\"}, \"isInGoalState\": false, \"moving_horizontally\": false, \"moving_vertically\": false, \"operating_claw\": false}}', \"*\");    \n                "
          },
          "metadata": {}
        },
        {
          "name": "stdout",
          "text": "opening claw\ndropping white marble\n",
          "output_type": "stream"
        },
        {
          "output_type": "display_data",
          "data": {
            "text/plain": "<IPython.core.display.Javascript object>",
            "application/javascript": "\n                var existingWin = window.bswin;\n                existingWin && existingWin.postMessage('{\"userId\": \"glen\", \"state\": {\"max_x\": 4, \"max_y\": 4, \"balls\": null, \"claw\": {\"pos\": {\"x\": 1, \"y\": 0}, \"open\": true, \"ball_color\": \"\"}, \"isInGoalState\": false, \"moving_horizontally\": false, \"moving_vertically\": false, \"operating_claw\": true}}', \"*\");    \n                "
          },
          "metadata": {}
        },
        {
          "name": "stdout",
          "text": "new position: 3, 0\n",
          "output_type": "stream"
        },
        {
          "output_type": "display_data",
          "data": {
            "text/plain": "<IPython.core.display.Javascript object>",
            "application/javascript": "\n                var existingWin = window.bswin;\n                existingWin && existingWin.postMessage('{\"userId\": \"glen\", \"state\": {\"max_x\": 4, \"max_y\": 4, \"balls\": null, \"claw\": {\"pos\": {\"x\": 3, \"y\": 0}, \"open\": true, \"ball_color\": \"\"}, \"isInGoalState\": false, \"moving_horizontally\": true, \"moving_vertically\": false, \"operating_claw\": false}}', \"*\");    \n                "
          },
          "metadata": {}
        },
        {
          "name": "stdout",
          "text": "new position: 3, 3\n",
          "output_type": "stream"
        },
        {
          "output_type": "display_data",
          "data": {
            "text/plain": "<IPython.core.display.Javascript object>",
            "application/javascript": "\n                var existingWin = window.bswin;\n                existingWin && existingWin.postMessage('{\"userId\": \"glen\", \"state\": {\"max_x\": 4, \"max_y\": 4, \"balls\": null, \"claw\": {\"pos\": {\"x\": 3, \"y\": 3}, \"open\": true, \"ball_color\": \"\"}, \"isInGoalState\": false, \"moving_horizontally\": true, \"moving_vertically\": true, \"operating_claw\": false}}', \"*\");    \n                "
          },
          "metadata": {}
        },
        {
          "name": "stdout",
          "text": "opening claw\n",
          "output_type": "stream"
        },
        {
          "output_type": "display_data",
          "data": {
            "text/plain": "<IPython.core.display.Javascript object>",
            "application/javascript": "\n                var existingWin = window.bswin;\n                existingWin && existingWin.postMessage('{\"userId\": \"glen\", \"state\": {\"max_x\": 4, \"max_y\": 4, \"balls\": null, \"claw\": {\"pos\": {\"x\": 3, \"y\": 3}, \"open\": true, \"ball_color\": \"\"}, \"isInGoalState\": false, \"moving_horizontally\": true, \"moving_vertically\": true, \"operating_claw\": true}}', \"*\");    \n                "
          },
          "metadata": {}
        },
        {
          "output_type": "display_data",
          "data": {
            "text/plain": "<IPython.core.display.Javascript object>",
            "application/javascript": "\n                var existingWin = window.bswin;\n                existingWin && existingWin.postMessage('{\"userId\": \"glen\", \"state\": {\"max_x\": 4, \"max_y\": 4, \"balls\": null, \"claw\": {\"pos\": {\"x\": 3, \"y\": 3}, \"open\": true, \"ball_color\": \"\"}, \"isInGoalState\": false, \"moving_horizontally\": false, \"moving_vertically\": true, \"operating_claw\": false}}', \"*\");    \n                "
          },
          "metadata": {}
        },
        {
          "output_type": "display_data",
          "data": {
            "text/plain": "<IPython.core.display.Javascript object>",
            "application/javascript": "\n                var existingWin = window.bswin;\n                existingWin && existingWin.postMessage('{\"userId\": \"glen\", \"state\": {\"max_x\": 4, \"max_y\": 4, \"balls\": null, \"claw\": {\"pos\": {\"x\": 3, \"y\": 3}, \"open\": true, \"ball_color\": \"\"}, \"isInGoalState\": false, \"moving_horizontally\": false, \"moving_vertically\": false, \"operating_claw\": false}}', \"*\");    \n                "
          },
          "metadata": {}
        },
        {
          "name": "stdout",
          "text": "closing claw\ngrabbing red marble\n",
          "output_type": "stream"
        },
        {
          "output_type": "display_data",
          "data": {
            "text/plain": "<IPython.core.display.Javascript object>",
            "application/javascript": "\n                var existingWin = window.bswin;\n                existingWin && existingWin.postMessage('{\"userId\": \"glen\", \"state\": {\"max_x\": 4, \"max_y\": 4, \"balls\": null, \"claw\": {\"pos\": {\"x\": 3, \"y\": 3}, \"open\": false, \"ball_color\": \"red\"}, \"isInGoalState\": false, \"moving_horizontally\": false, \"moving_vertically\": false, \"operating_claw\": true}}', \"*\");    \n                "
          },
          "metadata": {}
        },
        {
          "name": "stdout",
          "text": "new position: 2, 3\n",
          "output_type": "stream"
        },
        {
          "output_type": "display_data",
          "data": {
            "text/plain": "<IPython.core.display.Javascript object>",
            "application/javascript": "\n                var existingWin = window.bswin;\n                existingWin && existingWin.postMessage('{\"userId\": \"glen\", \"state\": {\"max_x\": 4, \"max_y\": 4, \"balls\": null, \"claw\": {\"pos\": {\"x\": 2, \"y\": 3}, \"open\": false, \"ball_color\": \"red\"}, \"isInGoalState\": false, \"moving_horizontally\": true, \"moving_vertically\": false, \"operating_claw\": false}}', \"*\");    \n                "
          },
          "metadata": {}
        },
        {
          "name": "stdout",
          "text": "new position: 2, 0\n",
          "output_type": "stream"
        },
        {
          "output_type": "display_data",
          "data": {
            "text/plain": "<IPython.core.display.Javascript object>",
            "application/javascript": "\n                var existingWin = window.bswin;\n                existingWin && existingWin.postMessage('{\"userId\": \"glen\", \"state\": {\"max_x\": 4, \"max_y\": 4, \"balls\": null, \"claw\": {\"pos\": {\"x\": 2, \"y\": 0}, \"open\": false, \"ball_color\": \"red\"}, \"isInGoalState\": false, \"moving_horizontally\": true, \"moving_vertically\": true, \"operating_claw\": false}}', \"*\");    \n                "
          },
          "metadata": {}
        },
        {
          "output_type": "display_data",
          "data": {
            "text/plain": "<IPython.core.display.Javascript object>",
            "application/javascript": "\n                var existingWin = window.bswin;\n                existingWin && existingWin.postMessage('{\"userId\": \"glen\", \"state\": {\"max_x\": 4, \"max_y\": 4, \"balls\": null, \"claw\": {\"pos\": {\"x\": 2, \"y\": 0}, \"open\": false, \"ball_color\": \"red\"}, \"isInGoalState\": false, \"moving_horizontally\": false, \"moving_vertically\": true, \"operating_claw\": false}}', \"*\");    \n                "
          },
          "metadata": {}
        },
        {
          "output_type": "display_data",
          "data": {
            "text/plain": "<IPython.core.display.Javascript object>",
            "application/javascript": "\n                var existingWin = window.bswin;\n                existingWin && existingWin.postMessage('{\"userId\": \"glen\", \"state\": {\"max_x\": 4, \"max_y\": 4, \"balls\": null, \"claw\": {\"pos\": {\"x\": 2, \"y\": 0}, \"open\": false, \"ball_color\": \"red\"}, \"isInGoalState\": false, \"moving_horizontally\": false, \"moving_vertically\": false, \"operating_claw\": false}}', \"*\");    \n                "
          },
          "metadata": {}
        },
        {
          "name": "stdout",
          "text": "opening claw\ndropping red marble\n",
          "output_type": "stream"
        },
        {
          "output_type": "display_data",
          "data": {
            "text/plain": "<IPython.core.display.Javascript object>",
            "application/javascript": "\n                var existingWin = window.bswin;\n                existingWin && existingWin.postMessage('{\"userId\": \"glen\", \"state\": {\"max_x\": 4, \"max_y\": 4, \"balls\": null, \"claw\": {\"pos\": {\"x\": 2, \"y\": 0}, \"open\": true, \"ball_color\": \"\"}, \"isInGoalState\": false, \"moving_horizontally\": false, \"moving_vertically\": false, \"operating_claw\": true}}', \"*\");    \n                "
          },
          "metadata": {}
        },
        {
          "name": "stdout",
          "text": "new position: 3, 0\n",
          "output_type": "stream"
        },
        {
          "output_type": "display_data",
          "data": {
            "text/plain": "<IPython.core.display.Javascript object>",
            "application/javascript": "\n                var existingWin = window.bswin;\n                existingWin && existingWin.postMessage('{\"userId\": \"glen\", \"state\": {\"max_x\": 4, \"max_y\": 4, \"balls\": null, \"claw\": {\"pos\": {\"x\": 3, \"y\": 0}, \"open\": true, \"ball_color\": \"\"}, \"isInGoalState\": false, \"moving_horizontally\": true, \"moving_vertically\": false, \"operating_claw\": false}}', \"*\");    \n                "
          },
          "metadata": {}
        },
        {
          "name": "stdout",
          "text": "new position: 3, 4\n",
          "output_type": "stream"
        },
        {
          "output_type": "display_data",
          "data": {
            "text/plain": "<IPython.core.display.Javascript object>",
            "application/javascript": "\n                var existingWin = window.bswin;\n                existingWin && existingWin.postMessage('{\"userId\": \"glen\", \"state\": {\"max_x\": 4, \"max_y\": 4, \"balls\": null, \"claw\": {\"pos\": {\"x\": 3, \"y\": 4}, \"open\": true, \"ball_color\": \"\"}, \"isInGoalState\": false, \"moving_horizontally\": true, \"moving_vertically\": true, \"operating_claw\": false}}', \"*\");    \n                "
          },
          "metadata": {}
        },
        {
          "name": "stdout",
          "text": "opening claw\n",
          "output_type": "stream"
        },
        {
          "output_type": "display_data",
          "data": {
            "text/plain": "<IPython.core.display.Javascript object>",
            "application/javascript": "\n                var existingWin = window.bswin;\n                existingWin && existingWin.postMessage('{\"userId\": \"glen\", \"state\": {\"max_x\": 4, \"max_y\": 4, \"balls\": null, \"claw\": {\"pos\": {\"x\": 3, \"y\": 4}, \"open\": true, \"ball_color\": \"\"}, \"isInGoalState\": false, \"moving_horizontally\": true, \"moving_vertically\": true, \"operating_claw\": true}}', \"*\");    \n                "
          },
          "metadata": {}
        },
        {
          "output_type": "display_data",
          "data": {
            "text/plain": "<IPython.core.display.Javascript object>",
            "application/javascript": "\n                var existingWin = window.bswin;\n                existingWin && existingWin.postMessage('{\"userId\": \"glen\", \"state\": {\"max_x\": 4, \"max_y\": 4, \"balls\": null, \"claw\": {\"pos\": {\"x\": 3, \"y\": 4}, \"open\": true, \"ball_color\": \"\"}, \"isInGoalState\": false, \"moving_horizontally\": false, \"moving_vertically\": true, \"operating_claw\": false}}', \"*\");    \n                "
          },
          "metadata": {}
        },
        {
          "output_type": "display_data",
          "data": {
            "text/plain": "<IPython.core.display.Javascript object>",
            "application/javascript": "\n                var existingWin = window.bswin;\n                existingWin && existingWin.postMessage('{\"userId\": \"glen\", \"state\": {\"max_x\": 4, \"max_y\": 4, \"balls\": null, \"claw\": {\"pos\": {\"x\": 3, \"y\": 4}, \"open\": true, \"ball_color\": \"\"}, \"isInGoalState\": false, \"moving_horizontally\": false, \"moving_vertically\": false, \"operating_claw\": false}}', \"*\");    \n                "
          },
          "metadata": {}
        },
        {
          "name": "stdout",
          "text": "closing claw\ngrabbing red marble\n",
          "output_type": "stream"
        },
        {
          "output_type": "display_data",
          "data": {
            "text/plain": "<IPython.core.display.Javascript object>",
            "application/javascript": "\n                var existingWin = window.bswin;\n                existingWin && existingWin.postMessage('{\"userId\": \"glen\", \"state\": {\"max_x\": 4, \"max_y\": 4, \"balls\": null, \"claw\": {\"pos\": {\"x\": 3, \"y\": 4}, \"open\": false, \"ball_color\": \"red\"}, \"isInGoalState\": false, \"moving_horizontally\": false, \"moving_vertically\": false, \"operating_claw\": true}}', \"*\");    \n                "
          },
          "metadata": {}
        },
        {
          "name": "stdout",
          "text": "new position: 4, 4\n",
          "output_type": "stream"
        },
        {
          "output_type": "display_data",
          "data": {
            "text/plain": "<IPython.core.display.Javascript object>",
            "application/javascript": "\n                var existingWin = window.bswin;\n                existingWin && existingWin.postMessage('{\"userId\": \"glen\", \"state\": {\"max_x\": 4, \"max_y\": 4, \"balls\": null, \"claw\": {\"pos\": {\"x\": 4, \"y\": 4}, \"open\": false, \"ball_color\": \"red\"}, \"isInGoalState\": false, \"moving_horizontally\": true, \"moving_vertically\": false, \"operating_claw\": false}}', \"*\");    \n                "
          },
          "metadata": {}
        },
        {
          "output_type": "display_data",
          "data": {
            "text/plain": "<IPython.core.display.Javascript object>",
            "application/javascript": "\n                var existingWin = window.bswin;\n                existingWin && existingWin.postMessage('{\"userId\": \"glen\", \"state\": {\"max_x\": 4, \"max_y\": 4, \"balls\": null, \"claw\": {\"pos\": {\"x\": 4, \"y\": 4}, \"open\": false, \"ball_color\": \"red\"}, \"isInGoalState\": false, \"moving_horizontally\": false, \"moving_vertically\": false, \"operating_claw\": false}}', \"*\");    \n                "
          },
          "metadata": {}
        },
        {
          "name": "stdout",
          "text": "opening claw\ndropping red marble\n",
          "output_type": "stream"
        },
        {
          "output_type": "display_data",
          "data": {
            "text/plain": "<IPython.core.display.Javascript object>",
            "application/javascript": "\n                var existingWin = window.bswin;\n                existingWin && existingWin.postMessage('{\"userId\": \"glen\", \"state\": {\"max_x\": 4, \"max_y\": 4, \"balls\": null, \"claw\": {\"pos\": {\"x\": 4, \"y\": 4}, \"open\": true, \"ball_color\": \"\"}, \"isInGoalState\": false, \"moving_horizontally\": false, \"moving_vertically\": false, \"operating_claw\": true}}', \"*\");    \n                "
          },
          "metadata": {}
        },
        {
          "name": "stdout",
          "text": "new position: 0, 4\n",
          "output_type": "stream"
        },
        {
          "output_type": "display_data",
          "data": {
            "text/plain": "<IPython.core.display.Javascript object>",
            "application/javascript": "\n                var existingWin = window.bswin;\n                existingWin && existingWin.postMessage('{\"userId\": \"glen\", \"state\": {\"max_x\": 4, \"max_y\": 4, \"balls\": null, \"claw\": {\"pos\": {\"x\": 0, \"y\": 4}, \"open\": true, \"ball_color\": \"\"}, \"isInGoalState\": false, \"moving_horizontally\": true, \"moving_vertically\": false, \"operating_claw\": false}}', \"*\");    \n                "
          },
          "metadata": {}
        },
        {
          "name": "stdout",
          "text": "new position: 0, 0\n",
          "output_type": "stream"
        },
        {
          "output_type": "display_data",
          "data": {
            "text/plain": "<IPython.core.display.Javascript object>",
            "application/javascript": "\n                var existingWin = window.bswin;\n                existingWin && existingWin.postMessage('{\"userId\": \"glen\", \"state\": {\"max_x\": 4, \"max_y\": 4, \"balls\": null, \"claw\": {\"pos\": {\"x\": 0, \"y\": 0}, \"open\": true, \"ball_color\": \"\"}, \"isInGoalState\": false, \"moving_horizontally\": true, \"moving_vertically\": true, \"operating_claw\": false}}', \"*\");    \n                "
          },
          "metadata": {}
        },
        {
          "name": "stdout",
          "text": "opening claw\n",
          "output_type": "stream"
        },
        {
          "output_type": "display_data",
          "data": {
            "text/plain": "<IPython.core.display.Javascript object>",
            "application/javascript": "\n                var existingWin = window.bswin;\n                existingWin && existingWin.postMessage('{\"userId\": \"glen\", \"state\": {\"max_x\": 4, \"max_y\": 4, \"balls\": null, \"claw\": {\"pos\": {\"x\": 0, \"y\": 0}, \"open\": true, \"ball_color\": \"\"}, \"isInGoalState\": false, \"moving_horizontally\": true, \"moving_vertically\": true, \"operating_claw\": true}}', \"*\");    \n                "
          },
          "metadata": {}
        },
        {
          "output_type": "display_data",
          "data": {
            "text/plain": "<IPython.core.display.Javascript object>",
            "application/javascript": "\n                var existingWin = window.bswin;\n                existingWin && existingWin.postMessage('{\"userId\": \"glen\", \"state\": {\"max_x\": 4, \"max_y\": 4, \"balls\": null, \"claw\": {\"pos\": {\"x\": 0, \"y\": 0}, \"open\": true, \"ball_color\": \"\"}, \"isInGoalState\": false, \"moving_horizontally\": false, \"moving_vertically\": true, \"operating_claw\": false}}', \"*\");    \n                "
          },
          "metadata": {}
        },
        {
          "output_type": "display_data",
          "data": {
            "text/plain": "<IPython.core.display.Javascript object>",
            "application/javascript": "\n                var existingWin = window.bswin;\n                existingWin && existingWin.postMessage('{\"userId\": \"glen\", \"state\": {\"max_x\": 4, \"max_y\": 4, \"balls\": null, \"claw\": {\"pos\": {\"x\": 0, \"y\": 0}, \"open\": true, \"ball_color\": \"\"}, \"isInGoalState\": false, \"moving_horizontally\": false, \"moving_vertically\": false, \"operating_claw\": false}}', \"*\");    \n                "
          },
          "metadata": {}
        },
        {
          "name": "stdout",
          "text": "closing claw\ngrabbing white marble\n",
          "output_type": "stream"
        },
        {
          "output_type": "display_data",
          "data": {
            "text/plain": "<IPython.core.display.Javascript object>",
            "application/javascript": "\n                var existingWin = window.bswin;\n                existingWin && existingWin.postMessage('{\"userId\": \"glen\", \"state\": {\"max_x\": 4, \"max_y\": 4, \"balls\": null, \"claw\": {\"pos\": {\"x\": 0, \"y\": 0}, \"open\": false, \"ball_color\": \"white\"}, \"isInGoalState\": false, \"moving_horizontally\": false, \"moving_vertically\": false, \"operating_claw\": true}}', \"*\");    \n                "
          },
          "metadata": {}
        },
        {
          "name": "stdout",
          "text": "new position: 3, 0\n",
          "output_type": "stream"
        },
        {
          "output_type": "display_data",
          "data": {
            "text/plain": "<IPython.core.display.Javascript object>",
            "application/javascript": "\n                var existingWin = window.bswin;\n                existingWin && existingWin.postMessage('{\"userId\": \"glen\", \"state\": {\"max_x\": 4, \"max_y\": 4, \"balls\": null, \"claw\": {\"pos\": {\"x\": 3, \"y\": 0}, \"open\": false, \"ball_color\": \"white\"}, \"isInGoalState\": false, \"moving_horizontally\": true, \"moving_vertically\": false, \"operating_claw\": false}}', \"*\");    \n                "
          },
          "metadata": {}
        },
        {
          "name": "stdout",
          "text": "new position: 3, 4\n",
          "output_type": "stream"
        },
        {
          "output_type": "display_data",
          "data": {
            "text/plain": "<IPython.core.display.Javascript object>",
            "application/javascript": "\n                var existingWin = window.bswin;\n                existingWin && existingWin.postMessage('{\"userId\": \"glen\", \"state\": {\"max_x\": 4, \"max_y\": 4, \"balls\": null, \"claw\": {\"pos\": {\"x\": 3, \"y\": 4}, \"open\": false, \"ball_color\": \"white\"}, \"isInGoalState\": false, \"moving_horizontally\": true, \"moving_vertically\": true, \"operating_claw\": false}}', \"*\");    \n                "
          },
          "metadata": {}
        },
        {
          "output_type": "display_data",
          "data": {
            "text/plain": "<IPython.core.display.Javascript object>",
            "application/javascript": "\n                var existingWin = window.bswin;\n                existingWin && existingWin.postMessage('{\"userId\": \"glen\", \"state\": {\"max_x\": 4, \"max_y\": 4, \"balls\": null, \"claw\": {\"pos\": {\"x\": 3, \"y\": 4}, \"open\": false, \"ball_color\": \"white\"}, \"isInGoalState\": false, \"moving_horizontally\": false, \"moving_vertically\": true, \"operating_claw\": false}}', \"*\");    \n                "
          },
          "metadata": {}
        },
        {
          "output_type": "display_data",
          "data": {
            "text/plain": "<IPython.core.display.Javascript object>",
            "application/javascript": "\n                var existingWin = window.bswin;\n                existingWin && existingWin.postMessage('{\"userId\": \"glen\", \"state\": {\"max_x\": 4, \"max_y\": 4, \"balls\": null, \"claw\": {\"pos\": {\"x\": 3, \"y\": 4}, \"open\": false, \"ball_color\": \"white\"}, \"isInGoalState\": false, \"moving_horizontally\": false, \"moving_vertically\": false, \"operating_claw\": false}}', \"*\");    \n                "
          },
          "metadata": {}
        },
        {
          "name": "stdout",
          "text": "opening claw\ndropping white marble\n",
          "output_type": "stream"
        },
        {
          "output_type": "display_data",
          "data": {
            "text/plain": "<IPython.core.display.Javascript object>",
            "application/javascript": "\n                var existingWin = window.bswin;\n                existingWin && existingWin.postMessage('{\"userId\": \"glen\", \"state\": {\"max_x\": 4, \"max_y\": 4, \"balls\": null, \"claw\": {\"pos\": {\"x\": 3, \"y\": 4}, \"open\": true, \"ball_color\": \"\"}, \"isInGoalState\": false, \"moving_horizontally\": false, \"moving_vertically\": false, \"operating_claw\": true}}', \"*\");    \n                "
          },
          "metadata": {}
        },
        {
          "name": "stdout",
          "text": "new position: 1, 4\n",
          "output_type": "stream"
        },
        {
          "output_type": "display_data",
          "data": {
            "text/plain": "<IPython.core.display.Javascript object>",
            "application/javascript": "\n                var existingWin = window.bswin;\n                existingWin && existingWin.postMessage('{\"userId\": \"glen\", \"state\": {\"max_x\": 4, \"max_y\": 4, \"balls\": null, \"claw\": {\"pos\": {\"x\": 1, \"y\": 4}, \"open\": true, \"ball_color\": \"\"}, \"isInGoalState\": false, \"moving_horizontally\": true, \"moving_vertically\": false, \"operating_claw\": false}}', \"*\");    \n                "
          },
          "metadata": {}
        },
        {
          "name": "stdout",
          "text": "new position: 1, 0\n",
          "output_type": "stream"
        },
        {
          "output_type": "display_data",
          "data": {
            "text/plain": "<IPython.core.display.Javascript object>",
            "application/javascript": "\n                var existingWin = window.bswin;\n                existingWin && existingWin.postMessage('{\"userId\": \"glen\", \"state\": {\"max_x\": 4, \"max_y\": 4, \"balls\": null, \"claw\": {\"pos\": {\"x\": 1, \"y\": 0}, \"open\": true, \"ball_color\": \"\"}, \"isInGoalState\": false, \"moving_horizontally\": true, \"moving_vertically\": true, \"operating_claw\": false}}', \"*\");    \n                "
          },
          "metadata": {}
        },
        {
          "name": "stdout",
          "text": "opening claw\n",
          "output_type": "stream"
        },
        {
          "output_type": "display_data",
          "data": {
            "text/plain": "<IPython.core.display.Javascript object>",
            "application/javascript": "\n                var existingWin = window.bswin;\n                existingWin && existingWin.postMessage('{\"userId\": \"glen\", \"state\": {\"max_x\": 4, \"max_y\": 4, \"balls\": null, \"claw\": {\"pos\": {\"x\": 1, \"y\": 0}, \"open\": true, \"ball_color\": \"\"}, \"isInGoalState\": false, \"moving_horizontally\": true, \"moving_vertically\": true, \"operating_claw\": true}}', \"*\");    \n                "
          },
          "metadata": {}
        },
        {
          "output_type": "display_data",
          "data": {
            "text/plain": "<IPython.core.display.Javascript object>",
            "application/javascript": "\n                var existingWin = window.bswin;\n                existingWin && existingWin.postMessage('{\"userId\": \"glen\", \"state\": {\"max_x\": 4, \"max_y\": 4, \"balls\": null, \"claw\": {\"pos\": {\"x\": 1, \"y\": 0}, \"open\": true, \"ball_color\": \"\"}, \"isInGoalState\": false, \"moving_horizontally\": false, \"moving_vertically\": true, \"operating_claw\": false}}', \"*\");    \n                "
          },
          "metadata": {}
        },
        {
          "output_type": "display_data",
          "data": {
            "text/plain": "<IPython.core.display.Javascript object>",
            "application/javascript": "\n                var existingWin = window.bswin;\n                existingWin && existingWin.postMessage('{\"userId\": \"glen\", \"state\": {\"max_x\": 4, \"max_y\": 4, \"balls\": null, \"claw\": {\"pos\": {\"x\": 1, \"y\": 0}, \"open\": true, \"ball_color\": \"\"}, \"isInGoalState\": false, \"moving_horizontally\": false, \"moving_vertically\": false, \"operating_claw\": false}}', \"*\");    \n                "
          },
          "metadata": {}
        },
        {
          "name": "stdout",
          "text": "closing claw\ngrabbing white marble\n",
          "output_type": "stream"
        },
        {
          "output_type": "display_data",
          "data": {
            "text/plain": "<IPython.core.display.Javascript object>",
            "application/javascript": "\n                var existingWin = window.bswin;\n                existingWin && existingWin.postMessage('{\"userId\": \"glen\", \"state\": {\"max_x\": 4, \"max_y\": 4, \"balls\": null, \"claw\": {\"pos\": {\"x\": 1, \"y\": 0}, \"open\": false, \"ball_color\": \"white\"}, \"isInGoalState\": false, \"moving_horizontally\": false, \"moving_vertically\": false, \"operating_claw\": true}}', \"*\");    \n                "
          },
          "metadata": {}
        },
        {
          "name": "stdout",
          "text": "new position: 3, 0\n",
          "output_type": "stream"
        },
        {
          "output_type": "display_data",
          "data": {
            "text/plain": "<IPython.core.display.Javascript object>",
            "application/javascript": "\n                var existingWin = window.bswin;\n                existingWin && existingWin.postMessage('{\"userId\": \"glen\", \"state\": {\"max_x\": 4, \"max_y\": 4, \"balls\": null, \"claw\": {\"pos\": {\"x\": 3, \"y\": 0}, \"open\": false, \"ball_color\": \"white\"}, \"isInGoalState\": false, \"moving_horizontally\": true, \"moving_vertically\": false, \"operating_claw\": false}}', \"*\");    \n                "
          },
          "metadata": {}
        },
        {
          "name": "stdout",
          "text": "new position: 3, 3\n",
          "output_type": "stream"
        },
        {
          "output_type": "display_data",
          "data": {
            "text/plain": "<IPython.core.display.Javascript object>",
            "application/javascript": "\n                var existingWin = window.bswin;\n                existingWin && existingWin.postMessage('{\"userId\": \"glen\", \"state\": {\"max_x\": 4, \"max_y\": 4, \"balls\": null, \"claw\": {\"pos\": {\"x\": 3, \"y\": 3}, \"open\": false, \"ball_color\": \"white\"}, \"isInGoalState\": false, \"moving_horizontally\": true, \"moving_vertically\": true, \"operating_claw\": false}}', \"*\");    \n                "
          },
          "metadata": {}
        },
        {
          "output_type": "display_data",
          "data": {
            "text/plain": "<IPython.core.display.Javascript object>",
            "application/javascript": "\n                var existingWin = window.bswin;\n                existingWin && existingWin.postMessage('{\"userId\": \"glen\", \"state\": {\"max_x\": 4, \"max_y\": 4, \"balls\": null, \"claw\": {\"pos\": {\"x\": 3, \"y\": 3}, \"open\": false, \"ball_color\": \"white\"}, \"isInGoalState\": false, \"moving_horizontally\": false, \"moving_vertically\": true, \"operating_claw\": false}}', \"*\");    \n                "
          },
          "metadata": {}
        },
        {
          "output_type": "display_data",
          "data": {
            "text/plain": "<IPython.core.display.Javascript object>",
            "application/javascript": "\n                var existingWin = window.bswin;\n                existingWin && existingWin.postMessage('{\"userId\": \"glen\", \"state\": {\"max_x\": 4, \"max_y\": 4, \"balls\": null, \"claw\": {\"pos\": {\"x\": 3, \"y\": 3}, \"open\": false, \"ball_color\": \"white\"}, \"isInGoalState\": false, \"moving_horizontally\": false, \"moving_vertically\": false, \"operating_claw\": false}}', \"*\");    \n                "
          },
          "metadata": {}
        },
        {
          "name": "stdout",
          "text": "opening claw\ndropping white marble\n",
          "output_type": "stream"
        },
        {
          "output_type": "display_data",
          "data": {
            "text/plain": "<IPython.core.display.Javascript object>",
            "application/javascript": "\n                var existingWin = window.bswin;\n                existingWin && existingWin.postMessage('{\"userId\": \"glen\", \"state\": {\"max_x\": 4, \"max_y\": 4, \"balls\": null, \"claw\": {\"pos\": {\"x\": 3, \"y\": 3}, \"open\": true, \"ball_color\": \"\"}, \"isInGoalState\": false, \"moving_horizontally\": false, \"moving_vertically\": false, \"operating_claw\": true}}', \"*\");    \n                "
          },
          "metadata": {}
        },
        {
          "name": "stdout",
          "text": "new position: 2, 3\n",
          "output_type": "stream"
        },
        {
          "output_type": "display_data",
          "data": {
            "text/plain": "<IPython.core.display.Javascript object>",
            "application/javascript": "\n                var existingWin = window.bswin;\n                existingWin && existingWin.postMessage('{\"userId\": \"glen\", \"state\": {\"max_x\": 4, \"max_y\": 4, \"balls\": null, \"claw\": {\"pos\": {\"x\": 2, \"y\": 3}, \"open\": true, \"ball_color\": \"\"}, \"isInGoalState\": false, \"moving_horizontally\": true, \"moving_vertically\": false, \"operating_claw\": false}}', \"*\");    \n                "
          },
          "metadata": {}
        },
        {
          "name": "stdout",
          "text": "new position: 2, 0\n",
          "output_type": "stream"
        },
        {
          "output_type": "display_data",
          "data": {
            "text/plain": "<IPython.core.display.Javascript object>",
            "application/javascript": "\n                var existingWin = window.bswin;\n                existingWin && existingWin.postMessage('{\"userId\": \"glen\", \"state\": {\"max_x\": 4, \"max_y\": 4, \"balls\": null, \"claw\": {\"pos\": {\"x\": 2, \"y\": 0}, \"open\": true, \"ball_color\": \"\"}, \"isInGoalState\": false, \"moving_horizontally\": true, \"moving_vertically\": true, \"operating_claw\": false}}', \"*\");    \n                "
          },
          "metadata": {}
        },
        {
          "name": "stdout",
          "text": "opening claw\n",
          "output_type": "stream"
        },
        {
          "output_type": "display_data",
          "data": {
            "text/plain": "<IPython.core.display.Javascript object>",
            "application/javascript": "\n                var existingWin = window.bswin;\n                existingWin && existingWin.postMessage('{\"userId\": \"glen\", \"state\": {\"max_x\": 4, \"max_y\": 4, \"balls\": null, \"claw\": {\"pos\": {\"x\": 2, \"y\": 0}, \"open\": true, \"ball_color\": \"\"}, \"isInGoalState\": false, \"moving_horizontally\": true, \"moving_vertically\": true, \"operating_claw\": true}}', \"*\");    \n                "
          },
          "metadata": {}
        },
        {
          "output_type": "display_data",
          "data": {
            "text/plain": "<IPython.core.display.Javascript object>",
            "application/javascript": "\n                var existingWin = window.bswin;\n                existingWin && existingWin.postMessage('{\"userId\": \"glen\", \"state\": {\"max_x\": 4, \"max_y\": 4, \"balls\": null, \"claw\": {\"pos\": {\"x\": 2, \"y\": 0}, \"open\": true, \"ball_color\": \"\"}, \"isInGoalState\": false, \"moving_horizontally\": false, \"moving_vertically\": true, \"operating_claw\": false}}', \"*\");    \n                "
          },
          "metadata": {}
        },
        {
          "output_type": "display_data",
          "data": {
            "text/plain": "<IPython.core.display.Javascript object>",
            "application/javascript": "\n                var existingWin = window.bswin;\n                existingWin && existingWin.postMessage('{\"userId\": \"glen\", \"state\": {\"max_x\": 4, \"max_y\": 4, \"balls\": null, \"claw\": {\"pos\": {\"x\": 2, \"y\": 0}, \"open\": true, \"ball_color\": \"\"}, \"isInGoalState\": false, \"moving_horizontally\": false, \"moving_vertically\": false, \"operating_claw\": false}}', \"*\");    \n                "
          },
          "metadata": {}
        },
        {
          "name": "stdout",
          "text": "closing claw\ngrabbing red marble\n",
          "output_type": "stream"
        },
        {
          "output_type": "display_data",
          "data": {
            "text/plain": "<IPython.core.display.Javascript object>",
            "application/javascript": "\n                var existingWin = window.bswin;\n                existingWin && existingWin.postMessage('{\"userId\": \"glen\", \"state\": {\"max_x\": 4, \"max_y\": 4, \"balls\": null, \"claw\": {\"pos\": {\"x\": 2, \"y\": 0}, \"open\": false, \"ball_color\": \"red\"}, \"isInGoalState\": false, \"moving_horizontally\": false, \"moving_vertically\": false, \"operating_claw\": true}}', \"*\");    \n                "
          },
          "metadata": {}
        },
        {
          "name": "stdout",
          "text": "new position: 3, 0\n",
          "output_type": "stream"
        },
        {
          "output_type": "display_data",
          "data": {
            "text/plain": "<IPython.core.display.Javascript object>",
            "application/javascript": "\n                var existingWin = window.bswin;\n                existingWin && existingWin.postMessage('{\"userId\": \"glen\", \"state\": {\"max_x\": 4, \"max_y\": 4, \"balls\": null, \"claw\": {\"pos\": {\"x\": 3, \"y\": 0}, \"open\": false, \"ball_color\": \"red\"}, \"isInGoalState\": false, \"moving_horizontally\": true, \"moving_vertically\": false, \"operating_claw\": false}}', \"*\");    \n                "
          },
          "metadata": {}
        },
        {
          "name": "stdout",
          "text": "new position: 3, 2\n",
          "output_type": "stream"
        },
        {
          "output_type": "display_data",
          "data": {
            "text/plain": "<IPython.core.display.Javascript object>",
            "application/javascript": "\n                var existingWin = window.bswin;\n                existingWin && existingWin.postMessage('{\"userId\": \"glen\", \"state\": {\"max_x\": 4, \"max_y\": 4, \"balls\": null, \"claw\": {\"pos\": {\"x\": 3, \"y\": 2}, \"open\": false, \"ball_color\": \"red\"}, \"isInGoalState\": false, \"moving_horizontally\": true, \"moving_vertically\": true, \"operating_claw\": false}}', \"*\");    \n                "
          },
          "metadata": {}
        },
        {
          "output_type": "display_data",
          "data": {
            "text/plain": "<IPython.core.display.Javascript object>",
            "application/javascript": "\n                var existingWin = window.bswin;\n                existingWin && existingWin.postMessage('{\"userId\": \"glen\", \"state\": {\"max_x\": 4, \"max_y\": 4, \"balls\": null, \"claw\": {\"pos\": {\"x\": 3, \"y\": 2}, \"open\": false, \"ball_color\": \"red\"}, \"isInGoalState\": false, \"moving_horizontally\": false, \"moving_vertically\": true, \"operating_claw\": false}}', \"*\");    \n                "
          },
          "metadata": {}
        },
        {
          "output_type": "display_data",
          "data": {
            "text/plain": "<IPython.core.display.Javascript object>",
            "application/javascript": "\n                var existingWin = window.bswin;\n                existingWin && existingWin.postMessage('{\"userId\": \"glen\", \"state\": {\"max_x\": 4, \"max_y\": 4, \"balls\": null, \"claw\": {\"pos\": {\"x\": 3, \"y\": 2}, \"open\": false, \"ball_color\": \"red\"}, \"isInGoalState\": false, \"moving_horizontally\": false, \"moving_vertically\": false, \"operating_claw\": false}}', \"*\");    \n                "
          },
          "metadata": {}
        },
        {
          "name": "stdout",
          "text": "opening claw\ndropping red marble\n",
          "output_type": "stream"
        },
        {
          "output_type": "display_data",
          "data": {
            "text/plain": "<IPython.core.display.Javascript object>",
            "application/javascript": "\n                var existingWin = window.bswin;\n                existingWin && existingWin.postMessage('{\"userId\": \"glen\", \"state\": {\"max_x\": 4, \"max_y\": 4, \"balls\": null, \"claw\": {\"pos\": {\"x\": 3, \"y\": 2}, \"open\": true, \"ball_color\": \"\"}, \"isInGoalState\": false, \"moving_horizontally\": false, \"moving_vertically\": false, \"operating_claw\": true}}', \"*\");    \n                "
          },
          "metadata": {}
        },
        {
          "name": "stdout",
          "text": "new position: 4, 2\n",
          "output_type": "stream"
        },
        {
          "output_type": "display_data",
          "data": {
            "text/plain": "<IPython.core.display.Javascript object>",
            "application/javascript": "\n                var existingWin = window.bswin;\n                existingWin && existingWin.postMessage('{\"userId\": \"glen\", \"state\": {\"max_x\": 4, \"max_y\": 4, \"balls\": null, \"claw\": {\"pos\": {\"x\": 4, \"y\": 2}, \"open\": true, \"ball_color\": \"\"}, \"isInGoalState\": false, \"moving_horizontally\": true, \"moving_vertically\": false, \"operating_claw\": false}}', \"*\");    \n                "
          },
          "metadata": {}
        },
        {
          "name": "stdout",
          "text": "new position: 4, 4\n",
          "output_type": "stream"
        },
        {
          "output_type": "display_data",
          "data": {
            "text/plain": "<IPython.core.display.Javascript object>",
            "application/javascript": "\n                var existingWin = window.bswin;\n                existingWin && existingWin.postMessage('{\"userId\": \"glen\", \"state\": {\"max_x\": 4, \"max_y\": 4, \"balls\": null, \"claw\": {\"pos\": {\"x\": 4, \"y\": 4}, \"open\": true, \"ball_color\": \"\"}, \"isInGoalState\": false, \"moving_horizontally\": true, \"moving_vertically\": true, \"operating_claw\": false}}', \"*\");    \n                "
          },
          "metadata": {}
        },
        {
          "name": "stdout",
          "text": "opening claw\n",
          "output_type": "stream"
        },
        {
          "output_type": "display_data",
          "data": {
            "text/plain": "<IPython.core.display.Javascript object>",
            "application/javascript": "\n                var existingWin = window.bswin;\n                existingWin && existingWin.postMessage('{\"userId\": \"glen\", \"state\": {\"max_x\": 4, \"max_y\": 4, \"balls\": null, \"claw\": {\"pos\": {\"x\": 4, \"y\": 4}, \"open\": true, \"ball_color\": \"\"}, \"isInGoalState\": false, \"moving_horizontally\": true, \"moving_vertically\": true, \"operating_claw\": true}}', \"*\");    \n                "
          },
          "metadata": {}
        },
        {
          "output_type": "display_data",
          "data": {
            "text/plain": "<IPython.core.display.Javascript object>",
            "application/javascript": "\n                var existingWin = window.bswin;\n                existingWin && existingWin.postMessage('{\"userId\": \"glen\", \"state\": {\"max_x\": 4, \"max_y\": 4, \"balls\": null, \"claw\": {\"pos\": {\"x\": 4, \"y\": 4}, \"open\": true, \"ball_color\": \"\"}, \"isInGoalState\": false, \"moving_horizontally\": false, \"moving_vertically\": true, \"operating_claw\": false}}', \"*\");    \n                "
          },
          "metadata": {}
        },
        {
          "output_type": "display_data",
          "data": {
            "text/plain": "<IPython.core.display.Javascript object>",
            "application/javascript": "\n                var existingWin = window.bswin;\n                existingWin && existingWin.postMessage('{\"userId\": \"glen\", \"state\": {\"max_x\": 4, \"max_y\": 4, \"balls\": null, \"claw\": {\"pos\": {\"x\": 4, \"y\": 4}, \"open\": true, \"ball_color\": \"\"}, \"isInGoalState\": false, \"moving_horizontally\": false, \"moving_vertically\": false, \"operating_claw\": false}}', \"*\");    \n                "
          },
          "metadata": {}
        },
        {
          "name": "stdout",
          "text": "closing claw\ngrabbing red marble\n",
          "output_type": "stream"
        },
        {
          "output_type": "display_data",
          "data": {
            "text/plain": "<IPython.core.display.Javascript object>",
            "application/javascript": "\n                var existingWin = window.bswin;\n                existingWin && existingWin.postMessage('{\"userId\": \"glen\", \"state\": {\"max_x\": 4, \"max_y\": 4, \"balls\": null, \"claw\": {\"pos\": {\"x\": 4, \"y\": 4}, \"open\": false, \"ball_color\": \"red\"}, \"isInGoalState\": false, \"moving_horizontally\": false, \"moving_vertically\": false, \"operating_claw\": true}}', \"*\");    \n                "
          },
          "metadata": {}
        },
        {
          "name": "stdout",
          "text": "new position: 3, 4\n",
          "output_type": "stream"
        },
        {
          "output_type": "display_data",
          "data": {
            "text/plain": "<IPython.core.display.Javascript object>",
            "application/javascript": "\n                var existingWin = window.bswin;\n                existingWin && existingWin.postMessage('{\"userId\": \"glen\", \"state\": {\"max_x\": 4, \"max_y\": 4, \"balls\": null, \"claw\": {\"pos\": {\"x\": 3, \"y\": 4}, \"open\": false, \"ball_color\": \"red\"}, \"isInGoalState\": false, \"moving_horizontally\": true, \"moving_vertically\": false, \"operating_claw\": false}}', \"*\");    \n                "
          },
          "metadata": {}
        },
        {
          "name": "stdout",
          "text": "new position: 3, 1\n",
          "output_type": "stream"
        },
        {
          "output_type": "display_data",
          "data": {
            "text/plain": "<IPython.core.display.Javascript object>",
            "application/javascript": "\n                var existingWin = window.bswin;\n                existingWin && existingWin.postMessage('{\"userId\": \"glen\", \"state\": {\"max_x\": 4, \"max_y\": 4, \"balls\": null, \"claw\": {\"pos\": {\"x\": 3, \"y\": 1}, \"open\": false, \"ball_color\": \"red\"}, \"isInGoalState\": false, \"moving_horizontally\": true, \"moving_vertically\": true, \"operating_claw\": false}}', \"*\");    \n                "
          },
          "metadata": {}
        },
        {
          "output_type": "display_data",
          "data": {
            "text/plain": "<IPython.core.display.Javascript object>",
            "application/javascript": "\n                var existingWin = window.bswin;\n                existingWin && existingWin.postMessage('{\"userId\": \"glen\", \"state\": {\"max_x\": 4, \"max_y\": 4, \"balls\": null, \"claw\": {\"pos\": {\"x\": 3, \"y\": 1}, \"open\": false, \"ball_color\": \"red\"}, \"isInGoalState\": false, \"moving_horizontally\": false, \"moving_vertically\": true, \"operating_claw\": false}}', \"*\");    \n                "
          },
          "metadata": {}
        },
        {
          "output_type": "display_data",
          "data": {
            "text/plain": "<IPython.core.display.Javascript object>",
            "application/javascript": "\n                var existingWin = window.bswin;\n                existingWin && existingWin.postMessage('{\"userId\": \"glen\", \"state\": {\"max_x\": 4, \"max_y\": 4, \"balls\": null, \"claw\": {\"pos\": {\"x\": 3, \"y\": 1}, \"open\": false, \"ball_color\": \"red\"}, \"isInGoalState\": false, \"moving_horizontally\": false, \"moving_vertically\": false, \"operating_claw\": false}}', \"*\");    \n                "
          },
          "metadata": {}
        },
        {
          "name": "stdout",
          "text": "opening claw\ndropping red marble\nGoal accomplished! 😁\n",
          "output_type": "stream"
        },
        {
          "output_type": "display_data",
          "data": {
            "text/plain": "<IPython.core.display.Javascript object>",
            "application/javascript": "\n                var existingWin = window.bswin;\n                existingWin && existingWin.postMessage('{\"userId\": \"glen\", \"state\": {\"max_x\": 4, \"max_y\": 4, \"balls\": null, \"claw\": {\"pos\": {\"x\": 3, \"y\": 1}, \"open\": true, \"ball_color\": \"\"}, \"isInGoalState\": true, \"moving_horizontally\": false, \"moving_vertically\": false, \"operating_claw\": true}}', \"*\");    \n                "
          },
          "metadata": {}
        }
      ]
    },
    {
      "cell_type": "code",
      "source": "",
      "metadata": {},
      "execution_count": null,
      "outputs": []
    }
  ]
}