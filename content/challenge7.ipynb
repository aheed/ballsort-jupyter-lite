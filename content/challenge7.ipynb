{
  "metadata": {
    "kernelspec": {
      "display_name": "Python (Pyodide)",
      "language": "python",
      "name": "python"
    },
    "language_info": {
      "codemirror_mode": {
        "name": "python",
        "version": 3
      },
      "file_extension": ".py",
      "mimetype": "text/x-python",
      "name": "python",
      "nbconvert_exporter": "python",
      "pygments_lexer": "ipython3",
      "version": "3.8"
    }
  },
  "nbformat_minor": 4,
  "nbformat": 4,
  "cells": [
    {
      "cell_type": "markdown",
      "source": "# Sort by value\n\nSort the marbles by value and put them in the leftmost column. Highest value on the bottom (y=6), Lowest value on top (y=2).\nInitially the values are random integers. You will need to use the get_state() function to access **balls** and to read the current values.\n\nExample:\n```python\nballs = bc.get_state().balls\n```",
      "metadata": {}
    },
    {
      "cell_type": "code",
      "source": "import asyncio\n%pip install ballsort\nfrom ballsort.ballsort_display_utils import open_bs_window\nopen_bs_window()",
      "metadata": {
        "trusted": true
      },
      "execution_count": null,
      "outputs": []
    },
    {
      "cell_type": "code",
      "source": "from control_factory import get_control_sim\nfrom ch7_scenario import Ch7Scenario",
      "metadata": {
        "trusted": true
      },
      "execution_count": null,
      "outputs": []
    },
    {
      "cell_type": "code",
      "source": "async def challenge7_solution():\n    bc = get_control_sim(delay_multiplier=0.1)\n    await bc.set_scenario(Ch7Scenario(seed=123))\n    \n    print(\"ball values:\", [ball.value for ball in bc.get_state().balls])\n    print(\"ball y coordinates:\", [ball.pos.y for ball in bc.get_state().balls])\n    \n    # your solution here",
      "metadata": {
        "trusted": true
      },
      "execution_count": null,
      "outputs": []
    },
    {
      "cell_type": "code",
      "source": "await challenge7_solution()",
      "metadata": {
        "trusted": true
      },
      "execution_count": null,
      "outputs": []
    },
    {
      "cell_type": "markdown",
      "source": "# Tip 💡\n\nYou can pass a **seed** parameter in a **Ch7Scenario** call. This gives you the same random sequence of balls every time for a given seed value. Helpful when debugging your code. Omitting **seed** will give you different values every time.\n\nExamples:\n```python\nawait bc.set_scenario(Ch7Scenario(seed=123)) # a specific sequence of ball values every time this line is executed\nawait bc.set_scenario(Ch7Scenario(seed=8)) # another specific sequence of ball values\nawait bc.set_scenario(Ch7Scenario(seed=None)) # different ball values every time\nawait bc.set_scenario(Ch7Scenario()) # equivalent to seed=None\n```",
      "metadata": {}
    }
  ]
}