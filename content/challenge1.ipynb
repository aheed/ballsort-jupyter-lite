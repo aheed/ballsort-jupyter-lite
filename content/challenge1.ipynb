{
  "metadata": {
    "language_info": {
      "codemirror_mode": {
        "name": "python",
        "version": 3
      },
      "file_extension": ".py",
      "mimetype": "text/x-python",
      "name": "python",
      "nbconvert_exporter": "python",
      "pygments_lexer": "ipython3",
      "version": "3.8"
    },
    "kernelspec": {
      "name": "python",
      "display_name": "Python (Pyodide)",
      "language": "python"
    }
  },
  "nbformat_minor": 4,
  "nbformat": 4,
  "cells": [
    {
      "cell_type": "markdown",
      "source": "# Challenge 1\n## Sort by color\n",
      "metadata": {}
    },
    {
      "cell_type": "code",
      "source": "import sys, asyncio\nsys.path.append('ballsortutils')\nfrom ballsort_display_utils import open_bs_window\nopen_bs_window()",
      "metadata": {
        "trusted": true
      },
      "execution_count": null,
      "outputs": []
    },
    {
      "cell_type": "code",
      "source": "from control_factory import get_control_sim\nfrom ch1_scenario import Ch1Scenario",
      "metadata": {
        "trusted": true
      },
      "execution_count": null,
      "outputs": []
    },
    {
      "cell_type": "code",
      "source": "async def challenge1_solution():\n    bc = get_control_sim()\n    await bc.set_scenario(Ch1Scenario())\n    \n    # add your implementation here\n    \n    ",
      "metadata": {
        "trusted": true
      },
      "execution_count": null,
      "outputs": []
    },
    {
      "cell_type": "code",
      "source": "await challenge1_solution()",
      "metadata": {
        "trusted": true
      },
      "execution_count": null,
      "outputs": []
    },
    {
      "cell_type": "markdown",
      "source": "# Tip 💡\nThis line of code prints a textual description of the challenge goal:\n```\nawait bc.set_scenario(Ch1Scenario())\n```",
      "metadata": {}
    }
  ]
}