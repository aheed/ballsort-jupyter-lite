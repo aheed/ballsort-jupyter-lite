{
  "metadata": {
    "kernelspec": {
      "display_name": "Python (Pyodide)",
      "language": "python",
      "name": "python"
    },
    "language_info": {
      "codemirror_mode": {
        "name": "python",
        "version": 3
      },
      "file_extension": ".py",
      "mimetype": "text/x-python",
      "name": "python",
      "nbconvert_exporter": "python",
      "pygments_lexer": "ipython3",
      "version": "3.8"
    }
  },
  "nbformat_minor": 4,
  "nbformat": 4,
  "cells": [
    {
      "cell_type": "code",
      "source": "import asyncio\n%pip install ballsort\nfrom ballsort.ballsort_display_utils import open_bs_window\nopen_bs_window()",
      "metadata": {
        "trusted": true
      },
      "execution_count": null,
      "outputs": []
    },
    {
      "cell_type": "code",
      "source": "from control_factory import get_control_sim\nfrom ch6_scenario import Ch6Scenario",
      "metadata": {
        "trusted": true
      },
      "execution_count": null,
      "outputs": []
    },
    {
      "cell_type": "code",
      "source": "from ball_control import BallControl\nfrom state_update_model import StatePosition",
      "metadata": {
        "trusted": true
      },
      "execution_count": null,
      "outputs": []
    },
    {
      "cell_type": "code",
      "source": "async def move_ball(bc: BallControl, src: StatePosition, dest: StatePosition, claw_index: int = 0):\n    rel_x = src.x - bc.get_position(claw_index=claw_index).x\n    rel_y = src.y - bc.get_position(claw_index=claw_index).y\n    await asyncio.gather(\n        bc.move_horizontally(rel_x, claw_index=claw_index),\n        bc.move_vertically(rel_y, claw_index=claw_index),\n        bc.open_claw(claw_index=claw_index))\n    await bc.close_claw(claw_index=claw_index)\n    \n    rel_x = dest.x - bc.get_position(claw_index=claw_index).x\n    rel_y = dest.y - bc.get_position(claw_index=claw_index).y\n    await asyncio.gather(\n        bc.move_horizontally(rel_x, claw_index=claw_index),\n        bc.move_vertically(rel_y, claw_index=claw_index))\n    await bc.open_claw(claw_index=claw_index)\n\nasync def move_ball_by_column(bc: BallControl, src_x: int, dest_x: int, claw_index: int = 0):\n    src_column_top_occupied_y = min([ball.pos.y for ball in bc.get_state().balls if ball.pos.x == src_x],default=bc.get_state().max_y)\n    dest_column_top_vacant_y = min([ball.pos.y for ball in bc.get_state().balls if ball.pos.x == dest_x],default=bc.get_state().max_y + 1) - 1\n    await move_ball(bc=bc, src=StatePosition(x=src_x, y=src_column_top_occupied_y), dest=StatePosition(x=dest_x, y=dest_column_top_vacant_y), claw_index=claw_index)",
      "metadata": {
        "trusted": true
      },
      "execution_count": null,
      "outputs": []
    },
    {
      "cell_type": "code",
      "source": "async def challenge6_solution():\n    bc = get_control_sim(delay_multiplier=0.3)\n    await bc.set_scenario(Ch6Scenario())\n    \n    await asyncio.gather(\n        move_ball_by_column(bc=bc, src_x=0, dest_x=2, claw_index=0),\n        move_ball_by_column(bc=bc, src_x=4, dest_x=3, claw_index=1),\n    )\n\n    await asyncio.gather(\n        bc.move_horizontally(-1, claw_index=0),\n        move_ball_by_column(bc=bc, src_x=2, dest_x=4, claw_index=1),\n    )\n    \n    await move_ball_by_column(bc=bc, src_x=3, dest_x=2, claw_index=1)\n    \n    await asyncio.gather(\n        bc.move_horizontally(1, claw_index=1),\n        move_ball_by_column(bc=bc, src_x=2, dest_x=0, claw_index=0)\n    )    ",
      "metadata": {
        "trusted": true
      },
      "execution_count": null,
      "outputs": []
    },
    {
      "cell_type": "code",
      "source": "await challenge6_solution()",
      "metadata": {
        "trusted": true
      },
      "execution_count": null,
      "outputs": []
    }
  ]
}