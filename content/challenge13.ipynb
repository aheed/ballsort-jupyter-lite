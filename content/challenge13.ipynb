{
  "metadata": {
    "kernelspec": {
      "display_name": "Python (Pyodide)",
      "language": "python",
      "name": "python"
    },
    "language_info": {
      "codemirror_mode": {
        "name": "python",
        "version": 3
      },
      "file_extension": ".py",
      "mimetype": "text/x-python",
      "name": "python",
      "nbconvert_exporter": "python",
      "pygments_lexer": "ipython3",
      "version": "3.8"
    }
  },
  "nbformat_minor": 4,
  "nbformat": 4,
  "cells": [
    {
      "cell_type": "markdown",
      "source": "# Classic color sort game\n\nSort colors into columns. All marbles of any color shall be placed in the same column.\n\nThere are 4 marbles of each color. Initially the marbles are randomly distributed in all columns except for the two rightmost columns which are empty.\n\nYou can **not** drop a marble on top of a marble of a different color.",
      "metadata": {}
    },
    {
      "cell_type": "code",
      "source": "import asyncio\n%pip install ballsort\nfrom ballsort.ballsort_display_utils import open_bs_window\nopen_bs_window()",
      "metadata": {
        "trusted": true
      },
      "execution_count": 1,
      "outputs": [
        {
          "output_type": "display_data",
          "data": {
            "text/plain": "<IPython.core.display.Javascript object>",
            "application/javascript": "\n        const bsWindow = window.open('https://aheed.github.io/ballsort/', 'bswindow', 'height=720, width=600');\n        window.bswin = bsWindow.window;\n        "
          },
          "metadata": {}
        }
      ]
    },
    {
      "cell_type": "code",
      "source": "from control_factory import get_control_sim\nfrom ch13_scenario import Ch13Scenario",
      "metadata": {
        "trusted": true
      },
      "execution_count": 2,
      "outputs": []
    },
    {
      "cell_type": "code",
      "source": "async def challenge13_solution():\n    bc = get_control_sim(delay_multiplier=0.3)\n    await bc.set_scenario(Ch13Scenario(seed=None))\n    \n    # your solution here",
      "metadata": {
        "trusted": true
      },
      "execution_count": 3,
      "outputs": []
    },
    {
      "cell_type": "code",
      "source": "await challenge13_solution()",
      "metadata": {
        "tags": [],
        "trusted": true
      },
      "execution_count": 4,
      "outputs": [
        {
          "name": "stdout",
          "text": "Goal:\n\n        Each marble color in a single column.\n        A marble can not be dropped on top of a marble of different color.\n        maxX=6, maxY=3\n",
          "output_type": "stream"
        },
        {
          "output_type": "display_data",
          "data": {
            "text/plain": "<IPython.core.display.Javascript object>",
            "application/javascript": "\n                var existingWin = window.bswin;\n                existingWin && existingWin.postMessage('{\"userId\": \"glen\", \"state\": {\"max_x\": 6, \"max_y\": 3, \"balls\": [{\"pos\": {\"x\": 0, \"y\": 0}, \"color\": \"lightgreen\", \"value\": null, \"label\": \"\", \"value_visible\": true, \"id\": \"1\"}, {\"pos\": {\"x\": 0, \"y\": 1}, \"color\": \"lightblue\", \"value\": null, \"label\": \"\", \"value_visible\": true, \"id\": \"2\"}, {\"pos\": {\"x\": 0, \"y\": 2}, \"color\": \"lightyellow\", \"value\": null, \"label\": \"\", \"value_visible\": true, \"id\": \"3\"}, {\"pos\": {\"x\": 0, \"y\": 3}, \"color\": \"gray\", \"value\": null, \"label\": \"\", \"value_visible\": true, \"id\": \"4\"}, {\"pos\": {\"x\": 1, \"y\": 0}, \"color\": \"gray\", \"value\": null, \"label\": \"\", \"value_visible\": true, \"id\": \"5\"}, {\"pos\": {\"x\": 1, \"y\": 1}, \"color\": \"pink\", \"value\": null, \"label\": \"\", \"value_visible\": true, \"id\": \"6\"}, {\"pos\": {\"x\": 1, \"y\": 2}, \"color\": \"pink\", \"value\": null, \"label\": \"\", \"value_visible\": true, \"id\": \"7\"}, {\"pos\": {\"x\": 1, \"y\": 3}, \"color\": \"pink\", \"value\": null, \"label\": \"\", \"value_visible\": true, \"id\": \"8\"}, {\"pos\": {\"x\": 2, \"y\": 0}, \"color\": \"pink\", \"value\": null, \"label\": \"\", \"value_visible\": true, \"id\": \"9\"}, {\"pos\": {\"x\": 2, \"y\": 1}, \"color\": \"lightblue\", \"value\": null, \"label\": \"\", \"value_visible\": true, \"id\": \"10\"}, {\"pos\": {\"x\": 2, \"y\": 2}, \"color\": \"gray\", \"value\": null, \"label\": \"\", \"value_visible\": true, \"id\": \"11\"}, {\"pos\": {\"x\": 2, \"y\": 3}, \"color\": \"lightgreen\", \"value\": null, \"label\": \"\", \"value_visible\": true, \"id\": \"12\"}, {\"pos\": {\"x\": 3, \"y\": 0}, \"color\": \"lightyellow\", \"value\": null, \"label\": \"\", \"value_visible\": true, \"id\": \"13\"}, {\"pos\": {\"x\": 3, \"y\": 1}, \"color\": \"lightblue\", \"value\": null, \"label\": \"\", \"value_visible\": true, \"id\": \"14\"}, {\"pos\": {\"x\": 3, \"y\": 2}, \"color\": \"lightblue\", \"value\": null, \"label\": \"\", \"value_visible\": true, \"id\": \"15\"}, {\"pos\": {\"x\": 3, \"y\": 3}, \"color\": \"lightyellow\", \"value\": null, \"label\": \"\", \"value_visible\": true, \"id\": \"16\"}, {\"pos\": {\"x\": 4, \"y\": 0}, \"color\": \"lightyellow\", \"value\": null, \"label\": \"\", \"value_visible\": true, \"id\": \"17\"}, {\"pos\": {\"x\": 4, \"y\": 1}, \"color\": \"lightgreen\", \"value\": null, \"label\": \"\", \"value_visible\": true, \"id\": \"18\"}, {\"pos\": {\"x\": 4, \"y\": 2}, \"color\": \"lightgreen\", \"value\": null, \"label\": \"\", \"value_visible\": true, \"id\": \"19\"}, {\"pos\": {\"x\": 4, \"y\": 3}, \"color\": \"gray\", \"value\": null, \"label\": \"\", \"value_visible\": true, \"id\": \"20\"}], \"claws\": [{\"pos\": {\"x\": 0, \"y\": 0}, \"open\": true, \"min_x\": 0, \"max_x\": 100, \"moving_horizontally\": false, \"moving_vertically\": false, \"operating_claw\": false, \"ball\": null}], \"goal_accomplished\": false, \"spotlight\": null, \"highlights\": null, \"elapsed\": 0.0}, \"delay_multiplier\": 0.3}', \"*\");    \n                "
          },
          "metadata": {}
        }
      ]
    },
    {
      "cell_type": "markdown",
      "source": "# Note ⚠️\n\nThis is an advanced challenge",
      "metadata": {}
    }
  ]
}