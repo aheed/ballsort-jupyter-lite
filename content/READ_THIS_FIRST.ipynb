{
  "metadata": {
    "language_info": {
      "codemirror_mode": {
        "name": "python",
        "version": 3
      },
      "file_extension": ".py",
      "mimetype": "text/x-python",
      "name": "python",
      "nbconvert_exporter": "python",
      "pygments_lexer": "ipython3",
      "version": "3.8"
    },
    "kernelspec": {
      "name": "python",
      "display_name": "Python (Pyodide)",
      "language": "python"
    }
  },
  "nbformat_minor": 4,
  "nbformat": 4,
  "cells": [
    {
      "cell_type": "markdown",
      "source": "# 🪩 Welcome! 🪩\n## Do you want some puzzles to solve and learn some Python programming in the process? Here is an opportunity!\n\nCheck out the [Demo Challenge](./demo_challenge.ipynb) to get started.",
      "metadata": {
        "tags": []
      }
    },
    {
      "cell_type": "markdown",
      "source": "This page is based on [JupyterLite](https://jupyter.org/).\n<br>\n⚠️ It is very much under construction 🏗️",
      "metadata": {}
    }
  ]
}