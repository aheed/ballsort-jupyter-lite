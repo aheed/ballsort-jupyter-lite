{
  "metadata": {
    "language_info": {
      "codemirror_mode": {
        "name": "python",
        "version": 3
      },
      "file_extension": ".py",
      "mimetype": "text/x-python",
      "name": "python",
      "nbconvert_exporter": "python",
      "pygments_lexer": "ipython3",
      "version": "3.8"
    },
    "kernelspec": {
      "name": "python",
      "display_name": "Python (Pyodide)",
      "language": "python"
    }
  },
  "nbformat_minor": 4,
  "nbformat": 4,
  "cells": [
    {
      "cell_type": "code",
      "source": "import sys\n#sys.path.append('ballsortutils')\n#from ball_control import BallControl\nfrom control_factory import get_control_sim\nfrom scenarios import set_scenario1",
      "metadata": {
        "trusted": true
      },
      "execution_count": 3,
      "outputs": []
    },
    {
      "cell_type": "code",
      "source": "import asyncio",
      "metadata": {
        "trusted": true
      },
      "execution_count": 4,
      "outputs": []
    },
    {
      "cell_type": "code",
      "source": "async def sequence_concurrent():\n    bc = get_control_sim()\n    async with bc:\n        await set_scenario1(bc)\n        t1 = asyncio.create_task(bc.move_vertically(4))\n        t2 = asyncio.create_task(bc.move_horizontally(3))        \n        await t1\n        await t2\n\n        t3 = asyncio.create_task(bc.close_claw())\n        await t3\n        \n        t3 = asyncio.create_task(bc.move_vertically(-2))\n        t4 = asyncio.create_task(bc.move_horizontally(-1))\n        await t3\n        await t4",
      "metadata": {
        "trusted": true
      },
      "execution_count": 5,
      "outputs": []
    },
    {
      "cell_type": "code",
      "source": "await sequence_concurrent()",
      "metadata": {
        "trusted": true
      },
      "execution_count": 12,
      "outputs": [
        {
          "output_type": "display_data",
          "data": {
            "text/plain": "<IPython.core.display.Javascript object>",
            "application/javascript": "\n                var existingWin = window.bswin;\n                existingWin && existingWin.postMessage('{\"userId\": \"glen\", \"state\": {\"nofRows\": 4, \"nofCols\": 5, \"balls\": [{\"pos\": {\"x\": 3, \"y\": 4}, \"color\": \"blue\"}, {\"pos\": {\"x\": 2, \"y\": 4}, \"color\": \"blue\"}, {\"pos\": {\"x\": 1, \"y\": 4}, \"color\": \"green\"}], \"claw\": {\"pos\": {\"x\": 0, \"y\": 0}, \"open\": true}}}', \"*\");    \n                "
          },
          "metadata": {}
        },
        {
          "name": "stdout",
          "text": "new position: 0, 4\n",
          "output_type": "stream"
        },
        {
          "output_type": "display_data",
          "data": {
            "text/plain": "<IPython.core.display.Javascript object>",
            "application/javascript": "\n                var existingWin = window.bswin;\n                existingWin && existingWin.postMessage('{\"userId\": \"glen\", \"state\": {\"nofRows\": 4, \"nofCols\": 5, \"balls\": null, \"claw\": {\"pos\": {\"x\": 0, \"y\": 4}, \"open\": true}}}', \"*\");    \n                "
          },
          "metadata": {}
        },
        {
          "name": "stdout",
          "text": "new position: 3, 4\n",
          "output_type": "stream"
        },
        {
          "output_type": "display_data",
          "data": {
            "text/plain": "<IPython.core.display.Javascript object>",
            "application/javascript": "\n                var existingWin = window.bswin;\n                existingWin && existingWin.postMessage('{\"userId\": \"glen\", \"state\": {\"nofRows\": 4, \"nofCols\": 5, \"balls\": null, \"claw\": {\"pos\": {\"x\": 3, \"y\": 4}, \"open\": true}}}', \"*\");    \n                "
          },
          "metadata": {}
        },
        {
          "name": "stdout",
          "text": "new claw open state: False\n",
          "output_type": "stream"
        },
        {
          "output_type": "display_data",
          "data": {
            "text/plain": "<IPython.core.display.Javascript object>",
            "application/javascript": "\n                var existingWin = window.bswin;\n                existingWin && existingWin.postMessage('{\"userId\": \"glen\", \"state\": {\"nofRows\": 4, \"nofCols\": 5, \"balls\": null, \"claw\": {\"pos\": {\"x\": 3, \"y\": 4}, \"open\": false}}}', \"*\");    \n                "
          },
          "metadata": {}
        },
        {
          "name": "stdout",
          "text": "new position: 3, 2\n",
          "output_type": "stream"
        },
        {
          "output_type": "display_data",
          "data": {
            "text/plain": "<IPython.core.display.Javascript object>",
            "application/javascript": "\n                var existingWin = window.bswin;\n                existingWin && existingWin.postMessage('{\"userId\": \"glen\", \"state\": {\"nofRows\": 4, \"nofCols\": 5, \"balls\": null, \"claw\": {\"pos\": {\"x\": 3, \"y\": 2}, \"open\": false}}}', \"*\");    \n                "
          },
          "metadata": {}
        },
        {
          "name": "stdout",
          "text": "new position: 2, 2\n",
          "output_type": "stream"
        },
        {
          "output_type": "display_data",
          "data": {
            "text/plain": "<IPython.core.display.Javascript object>",
            "application/javascript": "\n                var existingWin = window.bswin;\n                existingWin && existingWin.postMessage('{\"userId\": \"glen\", \"state\": {\"nofRows\": 4, \"nofCols\": 5, \"balls\": null, \"claw\": {\"pos\": {\"x\": 2, \"y\": 2}, \"open\": false}}}', \"*\");    \n                "
          },
          "metadata": {}
        }
      ]
    },
    {
      "cell_type": "code",
      "source": "import sys\nsys.path.append('ballsortutils')",
      "metadata": {
        "trusted": true
      },
      "execution_count": 2,
      "outputs": []
    },
    {
      "cell_type": "code",
      "source": "from ballsort_display_utils import open_bs_window",
      "metadata": {
        "trusted": true
      },
      "execution_count": 3,
      "outputs": []
    },
    {
      "cell_type": "code",
      "source": "#open_bs_window(\"http://localhost:8080/\")\nopen_bs_window()",
      "metadata": {
        "trusted": true
      },
      "execution_count": 4,
      "outputs": [
        {
          "output_type": "display_data",
          "data": {
            "text/plain": "<IPython.core.display.Javascript object>",
            "application/javascript": "\n        const bsWindow = window.open('https://aheed.github.io/ballsort/', 'bswindow', 'height=600, width=600');\n        window.bswin = bsWindow.window;\n        "
          },
          "metadata": {}
        }
      ]
    },
    {
      "cell_type": "code",
      "source": "",
      "metadata": {},
      "execution_count": null,
      "outputs": []
    }
  ]
}