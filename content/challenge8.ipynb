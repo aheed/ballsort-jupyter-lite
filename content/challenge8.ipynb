{
  "metadata": {
    "kernelspec": {
      "display_name": "Python (Pyodide)",
      "language": "python",
      "name": "python"
    },
    "language_info": {
      "codemirror_mode": {
        "name": "python",
        "version": 3
      },
      "file_extension": ".py",
      "mimetype": "text/x-python",
      "name": "python",
      "nbconvert_exporter": "python",
      "pygments_lexer": "ipython3",
      "version": "3.8"
    }
  },
  "nbformat_minor": 4,
  "nbformat": 4,
  "cells": [
    {
      "cell_type": "markdown",
      "source": "# Dual sort\n\nTwo stacks of marbles need to be sorted by value. The blue marbles can only be reached by the left claw. Place the sorted blue stack in the leftmost column. The yellow marbles can only be reached by the right claw. Place the sorted yellow stack in the rightmost column.",
      "metadata": {}
    },
    {
      "cell_type": "code",
      "source": "import asyncio\n%pip install ballsort\nfrom ballsort.ballsort_display_utils import open_bs_window\nopen_bs_window()",
      "metadata": {
        "trusted": true
      },
      "execution_count": null,
      "outputs": []
    },
    {
      "cell_type": "code",
      "source": "from control_factory import get_control_sim\nfrom ch8_scenario import Ch8Scenario",
      "metadata": {
        "trusted": true
      },
      "execution_count": null,
      "outputs": []
    },
    {
      "cell_type": "code",
      "source": "async def challenge8_solution():\n    bc = get_control_sim(delay_multiplier=0.2)\n    await bc.set_scenario(Ch8Scenario(seed=None)) # assign seed an integer value for a repeatable random set of values\n    \n    # your solution here",
      "metadata": {
        "trusted": true
      },
      "execution_count": null,
      "outputs": []
    },
    {
      "cell_type": "code",
      "source": "await challenge8_solution()",
      "metadata": {
        "trusted": true
      },
      "execution_count": null,
      "outputs": []
    }
  ]
}