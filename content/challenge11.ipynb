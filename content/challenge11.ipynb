{
  "metadata": {
    "kernelspec": {
      "display_name": "Python (Pyodide)",
      "language": "python",
      "name": "python"
    },
    "language_info": {
      "codemirror_mode": {
        "name": "python",
        "version": 3
      },
      "file_extension": ".py",
      "mimetype": "text/x-python",
      "name": "python",
      "nbconvert_exporter": "python",
      "pygments_lexer": "ipython3",
      "version": "3.8"
    }
  },
  "nbformat_minor": 4,
  "nbformat": 4,
  "cells": [
    {
      "cell_type": "markdown",
      "source": "# Dual Measure and Bucket Sort\n\nSort the **blue** marbles by value and put them in the **leftmost column**. Highest value on the bottom, Lowest value on top.\nSort the **yellow** marbles by value and put them in the **rightmost column**. Highest value on the bottom, Lowest value on top.\n\nInitially the values are unknown random integers between **1** and **3** inclusive. Before you can read ball values via the **get_state()** function you must first measure each ball's value by dropping it on the magic spot **(4, 6)**.\n\nClaw **0** can operate within the left half of the grid including the magic reveal spot in the middle column.\nClaw **1** can operate within the right half of the grid including the magic reveal spot in the middle column.",
      "metadata": {}
    },
    {
      "cell_type": "code",
      "source": "import asyncio\n%pip install ballsort\nfrom ballsort.ballsort_display_utils import open_bs_window\nopen_bs_window()",
      "metadata": {
        "trusted": true
      },
      "execution_count": null,
      "outputs": []
    },
    {
      "cell_type": "code",
      "source": "from control_factory import get_control_sim\nfrom ch11_scenario import Ch11Scenario",
      "metadata": {
        "trusted": true
      },
      "execution_count": null,
      "outputs": []
    },
    {
      "cell_type": "code",
      "source": "async def challenge11_solution():\n    bc = get_control_sim(delay_multiplier=0.3)\n    await bc.set_scenario(Ch11Scenario(seed=None))\n    \n    # your solution here",
      "metadata": {
        "trusted": true
      },
      "execution_count": null,
      "outputs": []
    },
    {
      "cell_type": "code",
      "source": "await challenge11_solution()",
      "metadata": {
        "tags": [],
        "trusted": true
      },
      "execution_count": null,
      "outputs": []
    },
    {
      "cell_type": "markdown",
      "source": "# Tip 💡\n\n## **Lock** synchronization primitive\n\nThis challenge can be broken down into two separate tasks: sorting blue and sorting yellow. These tasks can run in parallel, one claw sorting blue, the other sorting yellow.\n\nBut there is a common resource which can only be accessed by one claw at a time: The middle column. To ensure mutual exclusive access you can use a [Lock](https://docs.python.org/3/library/asyncio-sync.html).\n\nExample:\n```python\nlock = asyncio.Lock()\n\nasync with lock:\n    # access middle column\n```",
      "metadata": {}
    }
  ]
}