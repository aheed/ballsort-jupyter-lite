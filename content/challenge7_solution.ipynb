{
  "metadata": {
    "kernelspec": {
      "display_name": "Python (Pyodide)",
      "language": "python",
      "name": "python"
    },
    "language_info": {
      "codemirror_mode": {
        "name": "python",
        "version": 3
      },
      "file_extension": ".py",
      "mimetype": "text/x-python",
      "name": "python",
      "nbconvert_exporter": "python",
      "pygments_lexer": "ipython3",
      "version": "3.8"
    }
  },
  "nbformat_minor": 4,
  "nbformat": 4,
  "cells": [
    {
      "cell_type": "code",
      "source": "import asyncio\n%pip install ballsort\nfrom ballsort.ballsort_display_utils import open_bs_window\nopen_bs_window()",
      "metadata": {
        "trusted": true
      },
      "execution_count": null,
      "outputs": []
    },
    {
      "cell_type": "code",
      "source": "from control_factory import get_control_sim\nfrom ch7_scenario import Ch7Scenario",
      "metadata": {
        "trusted": true
      },
      "execution_count": null,
      "outputs": []
    },
    {
      "cell_type": "code",
      "source": "from ball_control import BallControl\nfrom state_update_model import StateBall, StatePosition\n\nasync def move_ball(bc: BallControl, src: StatePosition, dest: StatePosition, claw_index: int = 0):\n    rel_x = src.x - bc.get_position(claw_index=claw_index).x\n    rel_y = src.y - bc.get_position(claw_index=claw_index).y\n    await asyncio.gather(\n        bc.move_horizontally(rel_x, claw_index=claw_index),\n        bc.move_vertically(rel_y, claw_index=claw_index),\n        bc.open_claw(claw_index=claw_index))\n    await bc.close_claw(claw_index=claw_index)\n    \n    rel_x = dest.x - bc.get_position(claw_index=claw_index).x\n    rel_y = dest.y - bc.get_position(claw_index=claw_index).y\n    await asyncio.gather(\n        bc.move_horizontally(rel_x, claw_index=claw_index),\n        bc.move_vertically(rel_y, claw_index=claw_index))\n    await bc.open_claw(claw_index=claw_index)\n\nasync def move_ball_by_column(bc: BallControl, src_x: int, dest_x: int, claw_index: int = 0):\n    src_column_top_occupied_y = min([ball.pos.y for ball in bc.get_state().balls if ball.pos.x == src_x],default=bc.get_state().max_y)\n    dest_column_top_vacant_y = min([ball.pos.y for ball in bc.get_state().balls if ball.pos.x == dest_x],default=bc.get_state().max_y + 1) - 1\n    await move_ball(bc=bc, src=StatePosition(x=src_x, y=src_column_top_occupied_y), dest=StatePosition(x=dest_x, y=dest_column_top_vacant_y), claw_index=claw_index)\n\nasync def sort_column(bc: BallControl, src_x1: int, src_x2: int, dest_x: int, nof_balls: int, claw_index: int):\n    \"\"\"takes balls from columns src_x1 and src_x2 and puts them, ordered by value, in column dest_x\"\"\"\n\n    for _ in range(nof_balls):\n\n        column1: list[StateBall] = [ball for ball in bc.get_state().balls if ball.pos.x == src_x1]\n        column2: list[StateBall] = [ball for ball in bc.get_state().balls if ball.pos.x == src_x2]\n        column1_sorted = [0 if ball.value is None else ball.value  for ball in sorted(column1, key=lambda ball: ball.pos.y)]\n        column2_sorted = [0 if ball.value is None else ball.value for ball in sorted(column2, key=lambda ball: ball.pos.y)]\n\n        if max(column1_sorted, default=-1000) >= max(column2_sorted, default=-1000):\n            src_column_index = src_x1\n            dest_column_index = src_x2\n            src_column = column1_sorted\n        else:\n            src_column_index = src_x2\n            dest_column_index = src_x1\n            src_column = column2_sorted\n        \n        minpos = src_column.index(max(src_column))\n\n        for _ in range(minpos):\n            await move_ball_by_column(bc=bc, src_x=src_column_index, dest_x=dest_column_index, claw_index=claw_index)\n\n        await move_ball_by_column(bc=bc, src_x=src_column_index, dest_x=dest_x, claw_index=claw_index)",
      "metadata": {
        "trusted": true
      },
      "execution_count": null,
      "outputs": []
    },
    {
      "cell_type": "code",
      "source": "async def challenge7_solution():\n    bc = get_control_sim(delay_multiplier=0.1)\n    await bc.set_scenario(Ch7Scenario())\n    \n    await sort_column(bc=bc, src_x1=1, src_x2=2, dest_x=0, nof_balls=len(bc.get_state().balls), claw_index=0)",
      "metadata": {
        "trusted": true
      },
      "execution_count": null,
      "outputs": []
    },
    {
      "cell_type": "code",
      "source": "await challenge7_solution()",
      "metadata": {
        "trusted": true
      },
      "execution_count": null,
      "outputs": []
    }
  ]
}