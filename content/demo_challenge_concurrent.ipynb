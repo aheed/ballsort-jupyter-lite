{
  "metadata": {
    "language_info": {
      "codemirror_mode": {
        "name": "python",
        "version": 3
      },
      "file_extension": ".py",
      "mimetype": "text/x-python",
      "name": "python",
      "nbconvert_exporter": "python",
      "pygments_lexer": "ipython3",
      "version": "3.8"
    },
    "kernelspec": {
      "name": "python",
      "display_name": "Python (Pyodide)",
      "language": "python"
    }
  },
  "nbformat_minor": 4,
  "nbformat": 4,
  "cells": [
    {
      "cell_type": "code",
      "source": "import sys, asyncio\nsys.path.append('ballsortutils')\nfrom ballsort_display_utils import open_bs_window\nopen_bs_window()",
      "metadata": {
        "trusted": true
      },
      "execution_count": null,
      "outputs": []
    },
    {
      "cell_type": "code",
      "source": "from control_factory import get_control_sim\nbc = get_control_sim()",
      "metadata": {
        "trusted": true
      },
      "execution_count": null,
      "outputs": []
    },
    {
      "cell_type": "code",
      "source": "from scenarios import set_scenario1\nawait set_scenario1(bc)",
      "metadata": {
        "trusted": true
      },
      "execution_count": null,
      "outputs": []
    },
    {
      "cell_type": "code",
      "source": "async def sequence_concurrent():\n    bc = get_control_sim()    \n    \n    # green marble\n    t1 = asyncio.create_task(bc.move_horizontally(1))\n    t2 = asyncio.create_task(bc.move_vertically(4))            \n    await t1\n    await t2    \n    await bc.close_claw()\n    await bc.move_horizontally(-1)    \n    await bc.open_claw()\n    \n    # blue marble\n    await bc.move_horizontally(2)\n    await bc.close_claw()\n    t3 = asyncio.create_task(bc.move_vertically(-1))\n    t4 = asyncio.create_task(bc.move_horizontally(-2))\n    await t3\n    await t4\n    await bc.open_claw()\n    \n    #blue marble\n    t1 = asyncio.create_task(bc.move_horizontally(3))\n    t2 = asyncio.create_task(bc.move_vertically(1))\n    await t1\n    await t2\n    await bc.close_claw()\n    t1 = asyncio.create_task(bc.move_horizontally(-3))\n    t2 = asyncio.create_task(bc.move_vertically(-2))\n    await t1\n    await t2\n    await bc.open_claw()\n    ",
      "metadata": {
        "trusted": true
      },
      "execution_count": null,
      "outputs": []
    },
    {
      "cell_type": "code",
      "source": "await sequence_concurrent()",
      "metadata": {
        "trusted": true
      },
      "execution_count": null,
      "outputs": []
    }
  ]
}