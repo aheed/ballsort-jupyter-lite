{
  "cells": [
    {
      "cell_type": "code",
      "execution_count": null,
      "metadata": {
        "trusted": true
      },
      "outputs": [],
      "source": [
        "import asyncio\n",
        "%pip install ballsort\n",
        "from ballsort.ballsort_display_utils import open_bs_window\n",
        "open_bs_window()"
      ]
    },
    {
      "cell_type": "code",
      "execution_count": null,
      "metadata": {
        "trusted": true
      },
      "outputs": [],
      "source": [
        "from control_factory import get_control_sim\n",
        "bc = get_control_sim()"
      ]
    },
    {
      "cell_type": "code",
      "execution_count": null,
      "metadata": {
        "trusted": true
      },
      "outputs": [],
      "source": [
        "from ch0_scenario import Ch0Scenario\n",
        "await bc.set_scenario(Ch0Scenario())"
      ]
    },
    {
      "cell_type": "code",
      "execution_count": null,
      "metadata": {
        "trusted": true
      },
      "outputs": [],
      "source": [
        "async def sequence_concurrent():\n",
        "    \n",
        "    # green marble\n",
        "    await asyncio.gather(bc.move_horizontally(1), bc.move_vertically(4))            \n",
        "    await bc.close_claw()\n",
        "    await bc.move_horizontally(-1)    \n",
        "    await bc.open_claw()\n",
        "    \n",
        "    # blue marble\n",
        "    await bc.move_horizontally(2)\n",
        "    await bc.close_claw()\n",
        "    await asyncio.gather(bc.move_vertically(-1), bc.move_horizontally(-2))\n",
        "    await bc.open_claw()\n",
        "    \n",
        "    #blue marble\n",
        "    await asyncio.gather(bc.move_horizontally(3), bc.move_vertically(1))\n",
        "    await bc.close_claw()\n",
        "    await asyncio.gather(bc.move_horizontally(-3), bc.move_vertically(-2))\n",
        "    await bc.open_claw()    "
      ]
    },
    {
      "cell_type": "code",
      "execution_count": null,
      "metadata": {
        "trusted": true
      },
      "outputs": [],
      "source": [
        "await sequence_concurrent()"
      ]
    }
  ],
  "metadata": {
    "kernelspec": {
      "display_name": "Python (Pyodide)",
      "language": "python",
      "name": "python"
    },
    "language_info": {
      "codemirror_mode": {
        "name": "python",
        "version": 3
      },
      "file_extension": ".py",
      "mimetype": "text/x-python",
      "name": "python",
      "nbconvert_exporter": "python",
      "pygments_lexer": "ipython3",
      "version": "3.8"
    }
  },
  "nbformat": 4,
  "nbformat_minor": 4
}
