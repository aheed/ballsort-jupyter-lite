{
  "metadata": {
    "kernelspec": {
      "display_name": "Python (Pyodide)",
      "language": "python",
      "name": "python"
    },
    "language_info": {
      "codemirror_mode": {
        "name": "python",
        "version": 3
      },
      "file_extension": ".py",
      "mimetype": "text/x-python",
      "name": "python",
      "nbconvert_exporter": "python",
      "pygments_lexer": "ipython3",
      "version": "3.8"
    }
  },
  "nbformat_minor": 4,
  "nbformat": 4,
  "cells": [
    {
      "cell_type": "markdown",
      "source": "# Decoding, sorting and ordering by color\n\nThe goal is to place two marbles in each of columns **1,2** and **3**. Each marble shall have a value matching the column index. For example if the color **pink** corresponds to the value **3** you must place two pink marbles in column **3** (4th column from the left).\n\nInitially you do not know the marble values, only their colors. Each color is associated with an initially unknown random integer value in the range **[1, 3]**. A marble must be dropped on position **(8, 7)** to reveal its value, and thereby the value of all marbles of the same color.\n\nClaw **0** can operate in columns **0-3**. Claw **1** can operate in columns **4-8**.",
      "metadata": {}
    },
    {
      "cell_type": "code",
      "source": "import asyncio\n%pip install ballsort\nfrom ballsort.ballsort_display_utils import open_bs_window\nopen_bs_window()",
      "metadata": {
        "trusted": true
      },
      "execution_count": null,
      "outputs": []
    },
    {
      "cell_type": "code",
      "source": "from control_factory import get_control_sim\nfrom ch12_scenario import Ch12Scenario",
      "metadata": {
        "trusted": true
      },
      "execution_count": null,
      "outputs": []
    },
    {
      "cell_type": "code",
      "source": "async def challenge12_solution():\n    bc = get_control_sim(delay_multiplier=0.3)\n    await bc.set_scenario(Ch12Scenario(seed=None))\n    \n    # your solution here",
      "metadata": {
        "trusted": true
      },
      "execution_count": null,
      "outputs": []
    },
    {
      "cell_type": "code",
      "source": "await challenge12_solution()",
      "metadata": {
        "tags": [],
        "trusted": true
      },
      "execution_count": null,
      "outputs": []
    },
    {
      "cell_type": "markdown",
      "source": "# Tip 💡\n\n## **Event** synchronization primitive\n\nThis challenge can be broken down into two separate tasks: sorting by color with the left claw and decoding color values with the right claw. These tasks can partially run in parallel.\n\nBut you can not proceed with placing a ball in the correct column until you know the value of the ball's color. For example you may want to await the decoding of **pink** value before you drop a **pink** ball. To await that condition you can use an [Event](https://docs.python.org/3/library/asyncio-sync.html).\n\nExample:\n```python\npink_ball_decoded = asyncio.Event()\n\n# later, when pink has been decoded\npink_ball_decoded.set()\n\n# before placing a pink ball\nawait pink_ball_decoded.wait()\n```",
      "metadata": {}
    }
  ]
}