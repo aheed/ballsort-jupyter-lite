{
  "metadata": {
    "language_info": {
      "codemirror_mode": {
        "name": "python",
        "version": 3
      },
      "file_extension": ".py",
      "mimetype": "text/x-python",
      "name": "python",
      "nbconvert_exporter": "python",
      "pygments_lexer": "ipython3",
      "version": "3.8"
    },
    "kernelspec": {
      "name": "python",
      "display_name": "Python (Pyodide)",
      "language": "python"
    }
  },
  "nbformat_minor": 4,
  "nbformat": 4,
  "cells": [
    {
      "cell_type": "markdown",
      "source": "# Challenge 3\n## Flag Flip\n\nYour interns have made a flag out of marbles to greet prominent guests from Indonesia <span style=\"font-size:32px;\">🇮🇩</span>. But the flag is upside down! You need to fix it!",
      "metadata": {}
    },
    {
      "cell_type": "code",
      "source": "import sys, asyncio\nsys.path.append('ballsortutils')\nfrom ballsort_display_utils import open_bs_window\nopen_bs_window()",
      "metadata": {
        "trusted": true
      },
      "execution_count": 9,
      "outputs": [
        {
          "output_type": "display_data",
          "data": {
            "text/plain": "<IPython.core.display.Javascript object>",
            "application/javascript": "\n        const bsWindow = window.open('https://aheed.github.io/ballsort/', 'bswindow', 'height=600, width=600');\n        window.bswin = bsWindow.window;\n        "
          },
          "metadata": {}
        }
      ]
    },
    {
      "cell_type": "code",
      "source": "from control_factory import get_control_sim\nbc = get_control_sim()",
      "metadata": {
        "trusted": true
      },
      "execution_count": 10,
      "outputs": []
    },
    {
      "cell_type": "code",
      "source": "from ch3_scenario import Ch3Scenario\nawait bc.set_scenario(Ch3Scenario())",
      "metadata": {
        "trusted": true
      },
      "execution_count": 11,
      "outputs": [
        {
          "name": "stdout",
          "text": "Goal:\nTurn Polish flag into Indonesian flag.\n",
          "output_type": "stream"
        },
        {
          "output_type": "display_data",
          "data": {
            "text/plain": "<IPython.core.display.Javascript object>",
            "application/javascript": "\n                var existingWin = window.bswin;\n                existingWin && existingWin.postMessage('{\"userId\": \"glen\", \"state\": {\"max_x\": 4, \"max_y\": 4, \"balls\": [{\"pos\": {\"x\": 0, \"y\": 3}, \"color\": \"red\"}, {\"pos\": {\"x\": 0, \"y\": 4}, \"color\": \"red\"}, {\"pos\": {\"x\": 0, \"y\": 1}, \"color\": \"white\"}, {\"pos\": {\"x\": 0, \"y\": 2}, \"color\": \"white\"}, {\"pos\": {\"x\": 1, \"y\": 3}, \"color\": \"red\"}, {\"pos\": {\"x\": 1, \"y\": 4}, \"color\": \"red\"}, {\"pos\": {\"x\": 1, \"y\": 1}, \"color\": \"white\"}, {\"pos\": {\"x\": 1, \"y\": 2}, \"color\": \"white\"}, {\"pos\": {\"x\": 2, \"y\": 3}, \"color\": \"red\"}, {\"pos\": {\"x\": 2, \"y\": 4}, \"color\": \"red\"}, {\"pos\": {\"x\": 2, \"y\": 1}, \"color\": \"white\"}, {\"pos\": {\"x\": 2, \"y\": 2}, \"color\": \"white\"}, {\"pos\": {\"x\": 3, \"y\": 3}, \"color\": \"red\"}, {\"pos\": {\"x\": 3, \"y\": 4}, \"color\": \"red\"}, {\"pos\": {\"x\": 3, \"y\": 1}, \"color\": \"white\"}, {\"pos\": {\"x\": 3, \"y\": 2}, \"color\": \"white\"}], \"claw\": {\"pos\": {\"x\": 0, \"y\": 0}, \"open\": true, \"ball_color\": \"\"}, \"isInGoalState\": false, \"moving_horizontally\": false, \"moving_vertically\": false, \"operating_claw\": false}}', \"*\");    \n                "
          },
          "metadata": {}
        }
      ]
    },
    {
      "cell_type": "code",
      "source": "async def challenge3_solution():    \n    # add your implementation here\n    ",
      "metadata": {
        "trusted": true
      },
      "execution_count": 12,
      "outputs": []
    },
    {
      "cell_type": "code",
      "source": "await challenge3_solution()",
      "metadata": {
        "trusted": true
      },
      "execution_count": 13,
      "outputs": []
    }
  ]
}