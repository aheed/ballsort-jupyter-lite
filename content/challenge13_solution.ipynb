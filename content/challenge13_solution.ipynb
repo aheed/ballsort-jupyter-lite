{
  "metadata": {
    "kernelspec": {
      "display_name": "Python (Pyodide)",
      "language": "python",
      "name": "python"
    },
    "language_info": {
      "codemirror_mode": {
        "name": "python",
        "version": 3
      },
      "file_extension": ".py",
      "mimetype": "text/x-python",
      "name": "python",
      "nbconvert_exporter": "python",
      "pygments_lexer": "ipython3",
      "version": "3.8"
    }
  },
  "nbformat_minor": 4,
  "nbformat": 4,
  "cells": [
    {
      "cell_type": "code",
      "source": "import asyncio\n%pip install ballsort\nfrom ballsort.ballsort_display_utils import open_bs_window\nopen_bs_window()",
      "metadata": {
        "trusted": true
      },
      "execution_count": null,
      "outputs": []
    },
    {
      "cell_type": "code",
      "source": "from control_factory import get_control_sim\nfrom ch13_scenario import Ch13Scenario",
      "metadata": {
        "trusted": true
      },
      "execution_count": null,
      "outputs": []
    },
    {
      "cell_type": "code",
      "source": "from state_update_model import StatePosition\nfrom ball_control import BallControl",
      "metadata": {
        "trusted": true
      },
      "execution_count": null,
      "outputs": []
    },
    {
      "cell_type": "code",
      "source": "async def noop():\n    pass\n\nasync def go_to_pos(bc: BallControl, dest: StatePosition, open_claw: bool, claw_index: int = 0):\n    rel_x = dest.x - bc.get_position(claw_index=claw_index).x\n    rel_y = dest.y - bc.get_position(claw_index=claw_index).y\n    await asyncio.gather(\n        bc.move_horizontally(rel_x, claw_index=claw_index),\n        bc.move_vertically(rel_y, claw_index=claw_index),\n        bc.open_claw(claw_index=claw_index) if open_claw else noop(),\n    )\n\nasync def move_ball(\n    bc: BallControl, src: StatePosition, dest: StatePosition, claw_index: int = 0\n):\n    await go_to_pos(bc=bc, dest=src, open_claw=True, claw_index=claw_index)\n    await bc.close_claw(claw_index=claw_index)\n    await go_to_pos(bc=bc, dest=dest, open_claw=False, claw_index=claw_index)\n    await bc.open_claw(claw_index=claw_index)\n\ndef get_column_top_occupied_y(bc: BallControl, x: int) -> int:\n    return min(\n        [ball.pos.y for ball in bc.get_state().balls if ball.pos.x == x],\n        default=bc.get_state().max_y,\n    )\n\ndef get_column_top_occupied_pos(bc: BallControl, x: int) -> StatePosition:\n    return StatePosition(x=x, y=get_column_top_occupied_y(bc=bc, x=x))\n\ndef get_column_top_vacant_y(bc: BallControl, x: int) -> int:\n    return (\n        min(\n            [ball.pos.y for ball in bc.get_state().balls if ball.pos.x == x],\n            default=bc.get_state().max_y + 1,\n        )\n        - 1\n    )\n\ndef get_column_top_vacant_pos(bc: BallControl, x: int) -> StatePosition:\n    return StatePosition(x=x, y=get_column_top_vacant_y(bc=bc, x=x))\n\nasync def move_ball_by_column(\n    bc: BallControl, src_x: int, dest_x: int, claw_index: int = 0\n):\n    await move_ball(\n        bc=bc,\n        src=get_column_top_occupied_pos(bc=bc, x=src_x),\n        dest=get_column_top_vacant_pos(bc=bc, x=dest_x),\n        claw_index=claw_index,\n    )\n",
      "metadata": {
        "trusted": true
      },
      "execution_count": null,
      "outputs": []
    },
    {
      "cell_type": "code",
      "source": "from dataclasses import dataclass, field\n\n@dataclass\nclass ColorSortResult:\n    successful: bool\n    post_move_hashes: list[int]  # only relevant for successful searches\n    max_moves: int  # only relevant for unsuccessful searches\n\n\n@dataclass\nclass ColorSorter:\n    \"\"\"Finds a sequence of moves to solve color sorting challenge\"\"\"\n\n    max_x: int\n    max_y: int\n    nof_rows: int = 0  # overwritten in __post_init__\n    nof_columns: int = 0  # overwritten in __post_init__\n    nof_colors: int = 0  # overwritten in __post_init__\n    empty_color: int = 0  # overwritten in __post_init__\n    goal_state_hash: int = 0  # overwritten in __post_init__\n    total_positions: int = 0  # debug\n    repeat_positions: int = 0  # debug\n    nof_empty_columns: int = 2  # overridable\n    cache_hits: int = 0  # debug\n    column_zobrist_dict: dict[int, int] = field(\n        default_factory=dict\n    )  # populated in __post_init__\n    result_cache: dict[int, ColorSortResult] = field(default_factory=dict)\n\n    def __get_column_zobrist_index(self, column: list[int]) -> int:\n        ix = 0\n        for row in range(self.nof_rows):\n            ix = ix * (self.nof_colors + 1) + column[row]\n            # ix = ix + pow(self.nof_colors+1, row) * column[row]\n        return ix\n\n    def __calc_hash(self, balls: list[int]) -> int:\n        hash = 0\n        for column in self.__get_columns(balls=balls):\n            hash = (\n                hash\n                ^ self.column_zobrist_dict[\n                    self.__get_column_zobrist_index(column=column)\n                ]\n            )\n        return hash\n\n    def __post_init__(self):\n        self.nof_rows = self.max_y + 1\n        self.nof_columns = self.max_x + 1\n        self.nof_colors = self.nof_columns - self.nof_empty_columns\n        self.empty_color = self.nof_colors\n\n        for index in range(pow(self.nof_colors + 1, self.nof_rows)):\n            self.column_zobrist_dict[index] = random.randint(0, 0xFFFFFFFFFFFFFFFF)\n\n        goal_state = [\n            c for c in range(self.nof_colors) for _ in range(self.nof_rows)\n        ] + [5 for _ in range(self.nof_empty_columns * self.nof_rows)]\n        self.goal_state_hash = self.__calc_hash(balls=goal_state)\n\n    def get_ball_index(self, x: int, y: int) -> int:\n        # assert(x >= 0)\n        # assert(x <= self.max_x)\n        # assert(y >= 0)\n        # assert(y <= self.max_y)\n        return x * self.nof_rows + y\n\n    def __get_color(self, balls: list[int], x: int, y: int) -> int:\n        return balls[self.get_ball_index(x=x, y=y)]\n\n    def __get_column(self, balls: list[int], x: int) -> list[int]:\n        return balls[x * (self.nof_rows) : (x + 1) * (self.nof_rows)]\n\n    def __get_columns(self, balls: list[int]) -> list[list[int]]:\n        return [self.__get_column(balls=balls, x=x) for x in range(self.nof_columns)]\n\n    def __get_top_index(self, balls: list[int], x: int) -> int:\n        ret = self.nof_rows\n        for y in range(self.nof_rows):\n            if self.__get_color(balls=balls, x=x, y=y) != self.nof_colors:\n                ret = y\n                break\n        return ret\n\n    def __column_is_single_color(self, balls: list[int], x: int) -> bool:\n        column = [\n            c for c in self.__get_column(balls=balls, x=x) if c != self.empty_color\n        ]\n        return len(set(column)) == 1\n\n    def __is_move_meaningful(self, balls: list[int], move: tuple[int, int]) -> bool:\n        src_x, dest_x = move\n        src_y = self.__get_top_index(balls=balls, x=src_x)\n        if src_y > self.max_y:\n            return False  # source column is empty. Not legal.\n\n        dest_col_top_y = self.__get_top_index(balls=balls, x=dest_x)\n        if dest_col_top_y > self.max_y:\n            # destination column is empty\n            if self.__column_is_single_color(balls=balls, x=src_x):\n                return False  # source column is single color. Legal but useless.\n            return True\n\n        if dest_col_top_y == 0:\n            return False  # destination column is full. Not Legal.\n\n        return self.__get_color(balls=balls, x=src_x, y=src_y) == self.__get_color(\n            balls=balls, x=dest_x, y=dest_col_top_y\n        )\n\n    def __get_meaningful_moves(self, balls: list[int]) -> list[tuple[int, int]]:\n        all_moves = [\n            (src_col, dest_col)\n            for src_col in range(self.nof_columns)\n            for dest_col in range(self.nof_columns)\n            if src_col != dest_col\n        ]\n        return [\n            move\n            for move in all_moves\n            if self.__is_move_meaningful(balls=balls, move=move)\n        ]\n\n    def __make_move(self, balls: list[int], src_x: int, dest_x: int) -> list[int]:\n        src_y = self.__get_top_index(balls=balls, x=src_x)\n        dest_y = self.__get_top_index(balls=balls, x=dest_x) - 1\n        src_index = self.get_ball_index(x=src_x, y=src_y)\n        dest_index = self.get_ball_index(x=dest_x, y=dest_y)\n        post_move_state = balls.copy()\n        post_move_state[dest_index] = balls[src_index]\n        post_move_state[src_index] = self.nof_colors\n        return post_move_state\n\n    def __find_winning_sequence_recursive(\n        self,\n        balls: list[int],\n        previous_positions: set[int],\n        position_hash: int,\n        max_moves: int,\n    ) -> ColorSortResult:\n        if position_hash in self.result_cache:\n            cached_result = self.result_cache[position_hash]\n            if cached_result.successful or cached_result.max_moves >= max_moves:\n                self.cache_hits = self.cache_hits + 1\n                return cached_result\n\n        if position_hash == self.goal_state_hash:\n            ret = ColorSortResult(\n                successful=True, post_move_hashes=[], max_moves=max_moves\n            )\n            self.result_cache[position_hash] = ret\n            return ret\n\n        best_move_result = ColorSortResult(\n            successful=False, post_move_hashes=[], max_moves=max_moves\n        )\n        max_submoves = max_moves - 1\n        fewest_moves = 10000\n        if max_submoves > 0:\n            for move in self.__get_meaningful_moves(balls=balls):\n                src_x, dest_x = move\n\n                post_move_state = self.__make_move(\n                    balls=balls, src_x=src_x, dest_x=dest_x\n                )\n                self.total_positions = self.total_positions + 1\n\n                # new_position_hash = __calc_hash_incrementally(start_hash=position_hash, move=move)\n                new_position_hash = self.__calc_hash(balls=post_move_state)\n\n                if new_position_hash not in previous_positions:\n                    all_positions = previous_positions.union({new_position_hash})\n\n                    move_result = self.__find_winning_sequence_recursive(\n                        balls=post_move_state,\n                        previous_positions=all_positions,\n                        position_hash=new_position_hash,\n                        max_moves=max_submoves,\n                    )\n\n                    nof_submoves = len(move_result.post_move_hashes)\n                    if move_result.successful and nof_submoves < fewest_moves:\n                        fewest_moves = nof_submoves\n                        best_move_result = ColorSortResult(\n                            successful=True,\n                            post_move_hashes=[new_position_hash]\n                            + move_result.post_move_hashes,\n                            max_moves=max_moves,\n                        )\n                        max_submoves = nof_submoves\n                else:\n                    self.repeat_positions = self.repeat_positions + 1\n\n        self.result_cache[position_hash] = best_move_result\n        return best_move_result\n\n    def __get_move_sequence(\n        self, balls: list[int], sort_result: ColorSortResult\n    ) -> list[tuple[int, int]]:\n        moves: list[tuple[int, int]] = []\n        confirmed_state = balls\n        for hash in sort_result.post_move_hashes:\n            for move in self.__get_meaningful_moves(balls=confirmed_state):\n                src_x, dest_x = move\n                post_move_state = self.__make_move(\n                    balls=confirmed_state, src_x=src_x, dest_x=dest_x\n                )\n                new_position_hash = self.__calc_hash(balls=post_move_state)\n                if new_position_hash == hash:\n                    moves.append(move)\n                    confirmed_state = post_move_state\n                    break\n        return moves\n\n    def find_winning_sequence(self, balls: list[int]) -> list[tuple[int, int]]:\n        hash = self.__calc_hash(balls=balls)\n        search_result = self.__find_winning_sequence_recursive(\n            balls=balls, previous_positions=set(), position_hash=hash, max_moves=200\n        )\n        if not search_result.successful:\n            raise ValueError(\"Unwinnable starting position\")\n        move_sequence = self.__get_move_sequence(balls=balls, sort_result=search_result)\n        return move_sequence\n",
      "metadata": {
        "trusted": true
      },
      "execution_count": null,
      "outputs": []
    },
    {
      "cell_type": "code",
      "source": "import random\nasync def challenge13_solution():\n    bc = get_control_sim(delay_multiplier=0.1)\n    await bc.set_scenario(Ch13Scenario(seed=None))\n    \n    max_x = bc.get_state().max_x\n    max_y = bc.get_state().max_y\n    color_sorter = ColorSorter(max_x=max_x, max_y=max_y)\n\n    colors = list(set([ball.color for ball in bc.get_state().balls]))\n    empty_color = len(colors)\n\n    def __get_ball_list() -> list[int]:\n        balls = [\n            empty_color\n            for _ in range(color_sorter.nof_columns)\n            for _ in range(color_sorter.nof_rows)\n        ]\n\n        for ball in bc.get_state().balls:\n            balls[\n                color_sorter.get_ball_index(x=ball.pos.x, y=ball.pos.y)\n            ] = colors.index(ball.color)\n        return balls\n\n    color_grid = __get_ball_list()\n    winning_sequence = color_sorter.find_winning_sequence(balls=color_grid)\n\n    print(\n        f\"Positions evaluated:{color_sorter.total_positions}\\nrepeated positions:{color_sorter.repeat_positions}\\ncache hits:{color_sorter.cache_hits}\"\n    )\n    print(f\"Winning sequence in {len(winning_sequence)}  moves:{winning_sequence}\")\n\n    for move in winning_sequence:\n        src_x, dest_x = move\n        await move_ball_by_column(bc=bc, src_x=src_x, dest_x=dest_x)\n\n    assert bc.get_state().goal_accomplished",
      "metadata": {
        "trusted": true
      },
      "execution_count": null,
      "outputs": []
    },
    {
      "cell_type": "code",
      "source": "await challenge13_solution()",
      "metadata": {
        "tags": [],
        "trusted": true
      },
      "execution_count": null,
      "outputs": []
    }
  ]
}