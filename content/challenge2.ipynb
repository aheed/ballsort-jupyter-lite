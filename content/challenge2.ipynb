{
  "metadata": {
    "language_info": {
      "codemirror_mode": {
        "name": "python",
        "version": 3
      },
      "file_extension": ".py",
      "mimetype": "text/x-python",
      "name": "python",
      "nbconvert_exporter": "python",
      "pygments_lexer": "ipython3",
      "version": "3.8"
    },
    "kernelspec": {
      "name": "python",
      "display_name": "Python (Pyodide)",
      "language": "python"
    }
  },
  "nbformat_minor": 4,
  "nbformat": 4,
  "cells": [
    {
      "cell_type": "markdown",
      "source": "# Challenge 2\n## Sort colors by weight\n\nThe marbles are color coded by weight. But you don't know which color corresponds to what weight. Put all marbles in the leftmost column, sorted by weight with the heaviest at the bottom, lightest on top.\n\nThe two rightmost columns are equipped with a balance scale. It can tell you which column contains the heaviest marble(s). Use the provided API to read the scales output.",
      "metadata": {}
    },
    {
      "cell_type": "code",
      "source": "import sys, asyncio\nsys.path.append('ballsortutils')\nfrom ballsort_display_utils import open_bs_window\nopen_bs_window()",
      "metadata": {
        "trusted": true
      },
      "execution_count": null,
      "outputs": []
    },
    {
      "cell_type": "code",
      "source": "from control_factory import get_ch2_control_sim\nbc = get_ch2_control_sim(delay_multiplier=0.6)",
      "metadata": {
        "trusted": true
      },
      "execution_count": null,
      "outputs": []
    },
    {
      "cell_type": "code",
      "source": "from ch2_scenario import Ch2Scenario\nawait bc.set_scenario(Ch2Scenario())",
      "metadata": {
        "trusted": true
      },
      "execution_count": null,
      "outputs": []
    },
    {
      "cell_type": "code",
      "source": "async def challenge2_solution():    \n    # Your solution here\n    ",
      "metadata": {
        "trusted": true
      },
      "execution_count": null,
      "outputs": []
    },
    {
      "cell_type": "code",
      "source": "await challenge2_solution()",
      "metadata": {
        "trusted": true
      },
      "execution_count": null,
      "outputs": []
    }
  ]
}