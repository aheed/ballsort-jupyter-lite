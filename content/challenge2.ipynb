{
  "cells": [
    {
      "cell_type": "markdown",
      "metadata": {},
      "source": [
        "# Challenge 2\n",
        "## Sort colors by weight\n",
        "\n",
        "The marbles are color coded by weight. But you don't know which color corresponds to what weight. Put all marbles in the leftmost column, sorted by weight with the heaviest at the bottom, lightest on top.\n",
        "\n",
        "The two rightmost columns are equipped with a balance scale <span style=\"font-size:32px;\">⚖️</span>. It can tell you which column contains the heaviest marble(s). Use the provided API to read the scales output."
      ]
    },
    {
      "cell_type": "code",
      "execution_count": null,
      "metadata": {
        "trusted": true
      },
      "outputs": [],
      "source": [
        "import asyncio\n",
        "%pip install ballsort\n",
        "from ballsort.ballsort_display_utils import open_bs_window\n",
        "open_bs_window()"
      ]
    },
    {
      "cell_type": "code",
      "execution_count": null,
      "metadata": {
        "trusted": true
      },
      "outputs": [],
      "source": [
        "from control_factory import get_ch2_control_sim\n",
        "bc = get_ch2_control_sim(delay_multiplier=0.6)"
      ]
    },
    {
      "cell_type": "code",
      "execution_count": null,
      "metadata": {
        "trusted": true
      },
      "outputs": [],
      "source": [
        "from ch2_scenario import Ch2Scenario\n",
        "await bc.set_scenario(Ch2Scenario())"
      ]
    },
    {
      "cell_type": "code",
      "execution_count": null,
      "metadata": {
        "trusted": true
      },
      "outputs": [],
      "source": [
        "async def challenge2_solution():    \n",
        "    # Your solution here\n",
        "    "
      ]
    },
    {
      "cell_type": "code",
      "execution_count": null,
      "metadata": {
        "trusted": true
      },
      "outputs": [],
      "source": [
        "await challenge2_solution()"
      ]
    }
  ],
  "metadata": {
    "kernelspec": {
      "display_name": "Python (Pyodide)",
      "language": "python",
      "name": "python"
    },
    "language_info": {
      "codemirror_mode": {
        "name": "python",
        "version": 3
      },
      "file_extension": ".py",
      "mimetype": "text/x-python",
      "name": "python",
      "nbconvert_exporter": "python",
      "pygments_lexer": "ipython3",
      "version": "3.8"
    }
  },
  "nbformat": 4,
  "nbformat_minor": 4
}
