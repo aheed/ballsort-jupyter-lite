{
  "cells": [
    {
      "cell_type": "markdown",
      "metadata": {},
      "source": [
        "# Challenge 5\n",
        "## Bicolor Tower of Hanoi\n",
        "Build two separate towers, each a different color. Still, each column must be sorted by value at all times!"
      ]
    },
    {
      "cell_type": "code",
      "execution_count": null,
      "metadata": {
        "trusted": true
      },
      "outputs": [],
      "source": [
        "import asyncio\n",
        "%pip install ballsort\n",
        "from ballsort.ballsort_display_utils import open_bs_window\n",
        "open_bs_window()"
      ]
    },
    {
      "cell_type": "code",
      "execution_count": null,
      "metadata": {
        "trusted": true
      },
      "outputs": [],
      "source": [
        "from control_factory import get_ch5_control_sim\n",
        "bc = get_ch5_control_sim(delay_multiplier=0.3)"
      ]
    },
    {
      "cell_type": "code",
      "execution_count": null,
      "metadata": {
        "trusted": true
      },
      "outputs": [],
      "source": [
        "from ch5_scenario import Ch5Scenario\n",
        "await bc.set_scenario(Ch5Scenario())"
      ]
    },
    {
      "cell_type": "code",
      "execution_count": null,
      "metadata": {
        "trusted": true
      },
      "outputs": [],
      "source": [
        "from ball_control import BallControl\n",
        "from state_update_model import StatePosition"
      ]
    },
    {
      "cell_type": "code",
      "execution_count": null,
      "metadata": {
        "trusted": true
      },
      "outputs": [],
      "source": [
        "async def move_ball(bc: BallControl, src: StatePosition, dest: StatePosition):    \n",
        "    rel_x = src.x - bc.get_position().x\n",
        "    rel_y = src.y - bc.get_position().y\n",
        "    await asyncio.gather(\n",
        "        bc.move_horizontally(rel_x),\n",
        "        bc.move_vertically(rel_y),\n",
        "        bc.open_claw())\n",
        "    await bc.close_claw()\n",
        "    \n",
        "    rel_x = dest.x - bc.get_position().x\n",
        "    rel_y = dest.y - bc.get_position().y\n",
        "    await asyncio.gather(\n",
        "        bc.move_horizontally(rel_x),\n",
        "        bc.move_vertically(rel_y))\n",
        "    await bc.open_claw()"
      ]
    },
    {
      "cell_type": "code",
      "execution_count": null,
      "metadata": {
        "trusted": true
      },
      "outputs": [],
      "source": [
        "async def move_ball_by_column(bc: BallControl, src_x: int, dest_x: int):\n",
        "    src_column_top_occupied_y = min([ball.pos.y for ball in bc.get_state().balls if ball.pos.x == src_x],default=bc.get_state().max_y)\n",
        "    dest_column_top_vacant_y = min([ball.pos.y for ball in bc.get_state().balls if ball.pos.x == dest_x],default=bc.get_state().max_y + 1) - 1\n",
        "    await move_ball(bc=bc, src=StatePosition(x=src_x, y=src_column_top_occupied_y), dest=StatePosition(x=dest_x, y=dest_column_top_vacant_y))"
      ]
    },
    {
      "cell_type": "code",
      "execution_count": null,
      "metadata": {
        "trusted": true
      },
      "outputs": [],
      "source": [
        "async def challenge5_solution():    \n",
        "    await move_ball_by_column(bc=bc, src_x=0, dest_x=3)\n",
        "    await move_ball_by_column(bc=bc, src_x=0, dest_x=1)\n",
        "    await move_ball_by_column(bc=bc, src_x=3, dest_x=1)\n",
        "    await move_ball_by_column(bc=bc, src_x=0, dest_x=3)\n",
        "    await move_ball_by_column(bc=bc, src_x=0, dest_x=3)\n",
        "\n",
        "    await move_ball_by_column(bc=bc, src_x=0, dest_x=2)\n",
        "    await move_ball_by_column(bc=bc, src_x=3, dest_x=2)\n",
        "    await move_ball_by_column(bc=bc, src_x=3, dest_x=2)\n",
        "    await move_ball_by_column(bc=bc, src_x=0, dest_x=3)\n",
        "    await move_ball_by_column(bc=bc, src_x=2, dest_x=0)\n",
        "\n",
        "    await move_ball_by_column(bc=bc, src_x=2, dest_x=3)\n",
        "    await move_ball_by_column(bc=bc, src_x=0, dest_x=2)\n",
        "    await move_ball_by_column(bc=bc, src_x=1, dest_x=2)\n",
        "    await move_ball_by_column(bc=bc, src_x=1, dest_x=3)"
      ]
    },
    {
      "cell_type": "code",
      "execution_count": null,
      "metadata": {
        "trusted": true
      },
      "outputs": [],
      "source": [
        "await challenge5_solution()"
      ]
    },
    {
      "cell_type": "code",
      "execution_count": null,
      "metadata": {},
      "outputs": [],
      "source": []
    }
  ],
  "metadata": {
    "kernelspec": {
      "display_name": "Python (Pyodide)",
      "language": "python",
      "name": "python"
    },
    "language_info": {
      "codemirror_mode": {
        "name": "python",
        "version": 3
      },
      "file_extension": ".py",
      "mimetype": "text/x-python",
      "name": "python",
      "nbconvert_exporter": "python",
      "pygments_lexer": "ipython3",
      "version": "3.8"
    }
  },
  "nbformat": 4,
  "nbformat_minor": 4
}
