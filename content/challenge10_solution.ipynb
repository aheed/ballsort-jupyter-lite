{
  "metadata": {
    "kernelspec": {
      "display_name": "Python (Pyodide)",
      "language": "python",
      "name": "python"
    },
    "language_info": {
      "codemirror_mode": {
        "name": "python",
        "version": 3
      },
      "file_extension": ".py",
      "mimetype": "text/x-python",
      "name": "python",
      "nbconvert_exporter": "python",
      "pygments_lexer": "ipython3",
      "version": "3.8"
    }
  },
  "nbformat_minor": 4,
  "nbformat": 4,
  "cells": [
    {
      "cell_type": "code",
      "source": "import asyncio\n%pip install ballsort\nfrom ballsort.ballsort_display_utils import open_bs_window\nopen_bs_window()",
      "metadata": {
        "trusted": true
      },
      "execution_count": null,
      "outputs": []
    },
    {
      "cell_type": "code",
      "source": "from ball_control import BallControl\nfrom state_update_model import StateBall, StatePosition\n\nasync def move_ball(bc: BallControl, src: StatePosition, dest: StatePosition, claw_index: int = 0):\n    rel_x = src.x - bc.get_position(claw_index=claw_index).x\n    rel_y = src.y - bc.get_position(claw_index=claw_index).y\n    await asyncio.gather(\n        bc.move_horizontally(rel_x, claw_index=claw_index),\n        bc.move_vertically(rel_y, claw_index=claw_index),\n        bc.open_claw(claw_index=claw_index))\n    await bc.close_claw(claw_index=claw_index)\n    \n    rel_x = dest.x - bc.get_position(claw_index=claw_index).x\n    rel_y = dest.y - bc.get_position(claw_index=claw_index).y\n    await asyncio.gather(\n        bc.move_horizontally(rel_x, claw_index=claw_index),\n        bc.move_vertically(rel_y, claw_index=claw_index))\n    await bc.open_claw(claw_index=claw_index)\n\nasync def move_ball_by_column(bc: BallControl, src_x: int, dest_x: int, claw_index: int = 0):\n    src_column_top_occupied_y = min([ball.pos.y for ball in bc.get_state().balls if ball.pos.x == src_x],default=bc.get_state().max_y)\n    dest_column_top_vacant_y = min([ball.pos.y for ball in bc.get_state().balls if ball.pos.x == dest_x],default=bc.get_state().max_y + 1) - 1\n    await move_ball(bc=bc, src=StatePosition(x=src_x, y=src_column_top_occupied_y), dest=StatePosition(x=dest_x, y=dest_column_top_vacant_y), claw_index=claw_index)",
      "metadata": {
        "trusted": true
      },
      "execution_count": null,
      "outputs": []
    },
    {
      "cell_type": "code",
      "source": "from control_factory import get_control_sim\nfrom ch10_scenario import Ch10Scenario",
      "metadata": {
        "trusted": true
      },
      "execution_count": null,
      "outputs": []
    },
    {
      "cell_type": "code",
      "source": "async def challenge10_solution():\n    bc = get_control_sim(delay_multiplier=0.2)\n    await bc.set_scenario(Ch10Scenario(seed=None))\n    \n    reveal_spot_x = bc.get_state().max_x\n    reveal_spot_y = bc.get_state().max_y\n\n    # reveal each ball's value by moving it to the revealer spot. Then move it to bucket column.\n    for _ in range(len(bc.get_state().balls)):\n        await move_ball_by_column(bc=bc, src_x=0, dest_x=reveal_spot_x) # reveal\n        revealed_value = next((ball.value for ball in bc.get_state().balls if ball.pos == StatePosition(x=reveal_spot_x, y=reveal_spot_y)), None)\n        assert(revealed_value)\n        await move_ball_by_column(bc=bc, src_x=reveal_spot_x, dest_x=revealed_value) # move to column corresponding to value\n\n    # Finally move all buckets to column 0 in the correct order\n    for x in range(3, 0, -1):\n        nof_balls_in_column = len([ball for ball in bc.get_state().balls if ball.pos.x == x])\n        for _ in range(nof_balls_in_column):\n            await move_ball_by_column(bc=bc, src_x=x, dest_x=0)\n\n    assert bc.get_state().goal_accomplished",
      "metadata": {
        "trusted": true
      },
      "execution_count": null,
      "outputs": []
    },
    {
      "cell_type": "code",
      "source": "await challenge10_solution()",
      "metadata": {
        "tags": [],
        "trusted": true
      },
      "execution_count": null,
      "outputs": []
    }
  ]
}