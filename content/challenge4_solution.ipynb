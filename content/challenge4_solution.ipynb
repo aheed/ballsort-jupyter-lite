{
  "metadata": {
    "kernelspec": {
      "display_name": "Python (Pyodide)",
      "language": "python",
      "name": "python"
    },
    "language_info": {
      "codemirror_mode": {
        "name": "python",
        "version": 3
      },
      "file_extension": ".py",
      "mimetype": "text/x-python",
      "name": "python",
      "nbconvert_exporter": "python",
      "pygments_lexer": "ipython3",
      "version": "3.8"
    }
  },
  "nbformat_minor": 4,
  "nbformat": 4,
  "cells": [
    {
      "cell_type": "markdown",
      "source": "# Tower of Hanoi\nMove the tower to the rightmost column. Just keep in mind each column must be sorted by value at all times!",
      "metadata": {}
    },
    {
      "cell_type": "code",
      "source": "import asyncio\n%pip install ballsort\nfrom ballsort.ballsort_display_utils import open_bs_window\nopen_bs_window()",
      "metadata": {
        "trusted": true
      },
      "execution_count": null,
      "outputs": []
    },
    {
      "cell_type": "code",
      "source": "from control_factory import get_ch4_control_sim\nbc = get_ch4_control_sim(delay_multiplier=0.1)",
      "metadata": {
        "trusted": true
      },
      "execution_count": null,
      "outputs": []
    },
    {
      "cell_type": "code",
      "source": "from ch4_scenario import Ch4Scenario\nawait bc.set_scenario(Ch4Scenario())",
      "metadata": {
        "trusted": true
      },
      "execution_count": null,
      "outputs": []
    },
    {
      "cell_type": "code",
      "source": "from ball_control import BallControl\nfrom state_update_model import StatePosition",
      "metadata": {
        "trusted": true
      },
      "execution_count": null,
      "outputs": []
    },
    {
      "cell_type": "code",
      "source": "async def move_ball(bc: BallControl, src: StatePosition, dest: StatePosition):    \n    rel_x = src.x - bc.get_position().x\n    rel_y = src.y - bc.get_position().y\n    await asyncio.gather(\n        bc.move_horizontally(rel_x),\n        bc.move_vertically(rel_y),\n        bc.open_claw())\n    await bc.close_claw()\n    \n    rel_x = dest.x - bc.get_position().x\n    rel_y = dest.y - bc.get_position().y\n    await asyncio.gather(\n        bc.move_horizontally(rel_x),\n        bc.move_vertically(rel_y))\n    await bc.open_claw()",
      "metadata": {
        "trusted": true
      },
      "execution_count": null,
      "outputs": []
    },
    {
      "cell_type": "code",
      "source": "async def move_ball_by_column(bc: BallControl, src_x: int, dest_x: int):\n    src_column_top_occupied_y = min([ball.pos.y for ball in bc.get_state().balls if ball.pos.x == src_x],default=bc.get_state().max_y)\n    dest_column_top_vacant_y = min([ball.pos.y for ball in bc.get_state().balls if ball.pos.x == dest_x],default=bc.get_state().max_y + 1) - 1\n    await move_ball(bc=bc, src=StatePosition(x=src_x, y=src_column_top_occupied_y), dest=StatePosition(x=dest_x, y=dest_column_top_vacant_y))",
      "metadata": {
        "trusted": true
      },
      "execution_count": null,
      "outputs": []
    },
    {
      "cell_type": "code",
      "source": "async def move_tower(height: int, src_x:int, dest_x:int):\n    if height == 1:\n        await move_ball_by_column(bc=bc, src_x=src_x, dest_x=dest_x)\n        return\n\n    intermediate_x = 3 - src_x - dest_x\n    await move_tower(height=height - 1, src_x=src_x, dest_x=intermediate_x)\n    await move_ball_by_column(bc=bc, src_x=src_x, dest_x=dest_x)\n    await move_tower(height=height - 1, src_x=intermediate_x, dest_x=dest_x)",
      "metadata": {
        "trusted": true
      },
      "execution_count": null,
      "outputs": []
    },
    {
      "cell_type": "code",
      "source": "async def challenge4_solution():    \n    await move_tower(height=bc.get_state().max_y + 1, src_x=0, dest_x=2)\n    ",
      "metadata": {
        "trusted": true
      },
      "execution_count": null,
      "outputs": []
    },
    {
      "cell_type": "code",
      "source": "await challenge4_solution()",
      "metadata": {
        "trusted": true
      },
      "execution_count": null,
      "outputs": []
    }
  ]
}