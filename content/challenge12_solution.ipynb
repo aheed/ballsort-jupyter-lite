{
  "metadata": {
    "kernelspec": {
      "display_name": "Python (Pyodide)",
      "language": "python",
      "name": "python"
    },
    "language_info": {
      "codemirror_mode": {
        "name": "python",
        "version": 3
      },
      "file_extension": ".py",
      "mimetype": "text/x-python",
      "name": "python",
      "nbconvert_exporter": "python",
      "pygments_lexer": "ipython3",
      "version": "3.8"
    }
  },
  "nbformat_minor": 4,
  "nbformat": 4,
  "cells": [
    {
      "cell_type": "code",
      "source": "import asyncio\n%pip install ballsort\nfrom ballsort.ballsort_display_utils import open_bs_window\nopen_bs_window()",
      "metadata": {
        "trusted": true
      },
      "execution_count": null,
      "outputs": []
    },
    {
      "cell_type": "code",
      "source": "from control_factory import get_control_sim\nfrom ch12_scenario import Ch12Scenario",
      "metadata": {
        "trusted": true
      },
      "execution_count": null,
      "outputs": []
    },
    {
      "cell_type": "code",
      "source": "from state_update_model import StatePosition\nfrom ball_control import BallControl",
      "metadata": {
        "trusted": true
      },
      "execution_count": null,
      "outputs": []
    },
    {
      "cell_type": "code",
      "source": "async def move_ball(bc: BallControl, src: StatePosition, dest: StatePosition, claw_index: int = 0):\n    rel_x = src.x - bc.get_position(claw_index=claw_index).x\n    rel_y = src.y - bc.get_position(claw_index=claw_index).y\n    await asyncio.gather(\n        bc.move_horizontally(rel_x, claw_index=claw_index),\n        bc.move_vertically(rel_y, claw_index=claw_index),\n        bc.open_claw(claw_index=claw_index))\n    await bc.close_claw(claw_index=claw_index)\n    \n    rel_x = dest.x - bc.get_position(claw_index=claw_index).x\n    rel_y = dest.y - bc.get_position(claw_index=claw_index).y\n    await asyncio.gather(\n        bc.move_horizontally(rel_x, claw_index=claw_index),\n        bc.move_vertically(rel_y, claw_index=claw_index))\n    await bc.open_claw(claw_index=claw_index)\n\nasync def move_ball_by_column(bc: BallControl, src_x: int, dest_x: int, claw_index: int = 0):\n    src_column_top_occupied_y = min([ball.pos.y for ball in bc.get_state().balls if ball.pos.x == src_x],default=bc.get_state().max_y)\n    dest_column_top_vacant_y = min([ball.pos.y for ball in bc.get_state().balls if ball.pos.x == dest_x],default=bc.get_state().max_y + 1) - 1\n    await move_ball(bc=bc, src=StatePosition(x=src_x, y=src_column_top_occupied_y), dest=StatePosition(x=dest_x, y=dest_column_top_vacant_y), claw_index=claw_index)",
      "metadata": {
        "trusted": true
      },
      "execution_count": null,
      "outputs": []
    },
    {
      "cell_type": "code",
      "source": "async def reveal_color_values(\n    bc: BallControl,\n    color_to_x: dict[str, int],\n    color_to_event: dict[str, asyncio.Event],\n):\n    \"\"\"reveal all color values with claw 1\"\"\"\n\n    nof_balls = 6  # to reveal\n    right_src_x = bc.get_state().max_x - 1\n    reveal_x = bc.get_state().max_x\n    scrap_x = bc.get_state().max_x - 2\n\n    for _ in range(nof_balls):\n        # move to reveal spot (can be done conditionally if the color is already known)\n        await move_ball_by_column(\n            bc=bc, src_x=right_src_x, dest_x=reveal_x, claw_index=1\n        )\n\n        # add revealed color to dict\n        revealed_ball = next(\n            ball for ball in bc.get_state().balls if ball.pos.x == reveal_x\n        )\n        assert revealed_ball\n        assert revealed_ball.value\n        color_to_x[revealed_ball.color] = revealed_ball.value\n        ev = color_to_event.get(revealed_ball.color)\n        if ev:\n            ev.set()\n\n        # move to scrap heap column\n        await move_ball_by_column(bc=bc, src_x=reveal_x, dest_x=scrap_x, claw_index=1)\n\n\nasync def sort_into_buckets(\n    bc: BallControl,\n    color_to_x: dict[str, int],\n    color_to_event: dict[str, asyncio.Event],\n):\n    \"\"\"sort into buckets with claw 0\"\"\"\n\n    nof_balls = 6  # to sort into buckets\n    right_src_x = 0\n    max_y = bc.get_state().max_y\n    min_y = max_y + 1 - nof_balls\n    for y in range(min_y, max_y + 1):\n        color = next(\n            ball.color\n            for ball in bc.get_state().balls\n            if ball.pos == StatePosition(x=right_src_x, y=y)\n        )\n        ev = color_to_event.get(color)\n        if ev:\n            await ev.wait()\n        dest_x = color_to_x[color]\n        await move_ball_by_column(bc=bc, src_x=right_src_x, dest_x=dest_x, claw_index=0)\n\n",
      "metadata": {
        "trusted": true
      },
      "execution_count": null,
      "outputs": []
    },
    {
      "cell_type": "code",
      "source": "async def challenge12_solution():\n    bc = get_control_sim(delay_multiplier=0.3)\n    await bc.set_scenario(Ch12Scenario(seed=None))\n    \n    color_to_x: dict[str, int] = {}\n    color_to_event: dict[str, asyncio.Event] = {}\n\n    # create an event for each color\n    for color in [ball.color for ball in bc.get_state().balls if ball.pos.x == 0]:\n        if color_to_event.get(color) == None:\n            color_to_event[color] = asyncio.Event()\n\n    # sort and decode concurrently\n    await asyncio.gather(\n        reveal_color_values(\n            bc=bc, color_to_x=color_to_x, color_to_event=color_to_event\n        ),\n        sort_into_buckets(bc=bc, color_to_x=color_to_x, color_to_event=color_to_event),\n    )\n\n    assert bc.get_state().goal_accomplished",
      "metadata": {
        "trusted": true
      },
      "execution_count": null,
      "outputs": []
    },
    {
      "cell_type": "code",
      "source": "await challenge12_solution()",
      "metadata": {
        "tags": [],
        "trusted": true
      },
      "execution_count": null,
      "outputs": []
    }
  ]
}