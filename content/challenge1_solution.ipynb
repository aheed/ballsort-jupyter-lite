{
  "cells": [
    {
      "cell_type": "code",
      "execution_count": null,
      "metadata": {
        "trusted": true
      },
      "outputs": [],
      "source": [
        "import asyncio\n",
        "%pip install ballsort\n",
        "from ballsort.ballsort_display_utils import open_bs_window\n",
        "open_bs_window()"
      ]
    },
    {
      "cell_type": "code",
      "execution_count": null,
      "metadata": {
        "trusted": true
      },
      "outputs": [],
      "source": [
        "from control_factory import get_control_sim\n",
        "from ch1_scenario import Ch1Scenario"
      ]
    },
    {
      "cell_type": "code",
      "execution_count": null,
      "metadata": {
        "trusted": true
      },
      "outputs": [],
      "source": [
        "async def challenge1_solution():\n",
        "    bc = get_control_sim()\n",
        "    await bc.set_scenario(Ch1Scenario())\n",
        "    \n",
        "    # pink marble\n",
        "    await bc.move_vertically(2)\n",
        "    await bc.close_claw()\n",
        "    await asyncio.gather(bc.move_horizontally(2), bc.move_vertically(2))\n",
        "    await bc.open_claw()\n",
        "\n",
        "    # yellow marble\n",
        "    await asyncio.gather(bc.move_horizontally(-2), bc.move_vertically(-1))\n",
        "    await bc.close_claw()\n",
        "    await asyncio.gather(bc.move_vertically(0), bc.move_horizontally(1))\n",
        "    await bc.open_claw()\n",
        "\n",
        "    # pink marble\n",
        "    await asyncio.gather(bc.move_horizontally(1), bc.move_vertically(1))\n",
        "    await bc.close_claw()\n",
        "    await asyncio.gather(bc.move_horizontally(-2), bc.move_vertically(-1))\n",
        "    await bc.open_claw()\n",
        "    \n",
        "    "
      ]
    },
    {
      "cell_type": "code",
      "execution_count": null,
      "metadata": {
        "trusted": true
      },
      "outputs": [],
      "source": [
        "await challenge1_solution()"
      ]
    }
  ],
  "metadata": {
    "kernelspec": {
      "display_name": "Python (Pyodide)",
      "language": "python",
      "name": "python"
    },
    "language_info": {
      "codemirror_mode": {
        "name": "python",
        "version": 3
      },
      "file_extension": ".py",
      "mimetype": "text/x-python",
      "name": "python",
      "nbconvert_exporter": "python",
      "pygments_lexer": "ipython3",
      "version": "3.8"
    }
  },
  "nbformat": 4,
  "nbformat_minor": 4
}
