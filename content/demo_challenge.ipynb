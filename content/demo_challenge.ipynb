{
  "cells": [
    {
      "cell_type": "markdown",
      "metadata": {},
      "source": [
        "# Demo challenge\n",
        "## First make sure we have a Ball Sorter display window open. You may need to enable popup windows in your browser."
      ]
    },
    {
      "cell_type": "code",
      "execution_count": null,
      "metadata": {
        "trusted": true
      },
      "outputs": [],
      "source": [
        "import asyncio\n",
        "%pip install ballsort\n",
        "from ballsort.ballsort_display_utils import open_bs_window\n",
        "open_bs_window()"
      ]
    },
    {
      "cell_type": "markdown",
      "metadata": {},
      "source": [
        "## Get a reference to the controller object. This is your main interface to move marbles."
      ]
    },
    {
      "cell_type": "code",
      "execution_count": null,
      "metadata": {
        "trusted": true
      },
      "outputs": [],
      "source": [
        "from control_factory import get_control_sim\n",
        "bc = get_control_sim()"
      ]
    },
    {
      "cell_type": "markdown",
      "metadata": {},
      "source": [
        "## Load a scenario"
      ]
    },
    {
      "cell_type": "code",
      "execution_count": null,
      "metadata": {
        "trusted": true
      },
      "outputs": [],
      "source": [
        "from ch0_scenario import Ch0Scenario\n",
        "await bc.set_scenario(Ch0Scenario())"
      ]
    },
    {
      "cell_type": "markdown",
      "metadata": {},
      "source": [
        "## The challenge in this scenario is to rearrange the three marbles into a single column. See solution in the cell below."
      ]
    },
    {
      "cell_type": "code",
      "execution_count": null,
      "metadata": {
        "trusted": true
      },
      "outputs": [],
      "source": [
        "await bc.move_horizontally(1)\n",
        "await bc.move_vertically(4)\n",
        "await bc.close_claw()\n",
        "\n",
        "await bc.move_horizontally(-1)\n",
        "await bc.open_claw()\n",
        "\n",
        "await bc.move_horizontally(2)\n",
        "await bc.close_claw()\n",
        "\n",
        "await bc.move_vertically(-1)\n",
        "await bc.move_horizontally(-2)\n",
        "await bc.open_claw()\n",
        "\n",
        "await bc.move_horizontally(3)\n",
        "await bc.move_vertically(1)\n",
        "await bc.close_claw()\n",
        "\n",
        "await bc.move_vertically(-2)\n",
        "await bc.move_horizontally(-3)\n",
        "await bc.open_claw()"
      ]
    },
    {
      "cell_type": "markdown",
      "metadata": {},
      "source": [
        "# Done! 😁\n",
        "## More challenges (without complete solutions) will be available in the file browser."
      ]
    },
    {
      "cell_type": "markdown",
      "metadata": {},
      "source": [
        "<br>\n",
        "<br>\n",
        "\n",
        "# Tip 💡\n",
        "Not yet familiar with the **await** keyword?\n",
        "Read about async/await basics and the asyncio package [here](https://docs.python.org/3/library/asyncio-task.html).\n",
        "<br>\n",
        "Async functions enables concurrency, as in the faster [alternative solution](./demo_challenge_concurrent.ipynb) to this demo challenge."
      ]
    }
  ],
  "metadata": {
    "kernelspec": {
      "display_name": "Python (Pyodide)",
      "language": "python",
      "name": "python"
    },
    "language_info": {
      "codemirror_mode": {
        "name": "python",
        "version": 3
      },
      "file_extension": ".py",
      "mimetype": "text/x-python",
      "name": "python",
      "nbconvert_exporter": "python",
      "pygments_lexer": "ipython3",
      "version": "3.8"
    }
  },
  "nbformat": 4,
  "nbformat_minor": 4
}
