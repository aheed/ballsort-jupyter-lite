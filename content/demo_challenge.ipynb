{
  "metadata": {
    "language_info": {
      "codemirror_mode": {
        "name": "python",
        "version": 3
      },
      "file_extension": ".py",
      "mimetype": "text/x-python",
      "name": "python",
      "nbconvert_exporter": "python",
      "pygments_lexer": "ipython3",
      "version": "3.8"
    },
    "kernelspec": {
      "name": "python",
      "display_name": "Python (Pyodide)",
      "language": "python"
    }
  },
  "nbformat_minor": 4,
  "nbformat": 4,
  "cells": [
    {
      "cell_type": "markdown",
      "source": "# Demo challenge\n## First make sure we have a Ball Sorter display window open. You may need to enable popup windows in your browser.",
      "metadata": {}
    },
    {
      "cell_type": "code",
      "source": "import sys, asyncio\nsys.path.append('ballsortutils')\nfrom ballsort_display_utils import open_bs_window\nopen_bs_window()",
      "metadata": {
        "trusted": true
      },
      "execution_count": null,
      "outputs": []
    },
    {
      "cell_type": "markdown",
      "source": "## Get a reference to the controller object. This is your main interface to move marbles.",
      "metadata": {}
    },
    {
      "cell_type": "code",
      "source": "from control_factory import get_control_sim\nbc = get_control_sim()",
      "metadata": {
        "trusted": true
      },
      "execution_count": null,
      "outputs": []
    },
    {
      "cell_type": "markdown",
      "source": "## Load a scenario",
      "metadata": {}
    },
    {
      "cell_type": "code",
      "source": "from scenarios import set_scenario1\nawait set_scenario1(bc)",
      "metadata": {
        "trusted": true
      },
      "execution_count": null,
      "outputs": []
    },
    {
      "cell_type": "markdown",
      "source": "## The challenge in this scenario is to rearrange the three marbles into a single column. See solution in the cell below.",
      "metadata": {}
    },
    {
      "cell_type": "code",
      "source": "await bc.move_horizontally(1)\nawait bc.move_vertically(4)\nawait bc.close_claw()\n\nawait bc.move_horizontally(-1)\nawait bc.open_claw()\n\nawait bc.move_horizontally(2)\nawait bc.close_claw()\n\nawait bc.move_vertically(-1)\nawait bc.move_horizontally(-2)\nawait bc.open_claw()\n\nawait bc.move_horizontally(3)\nawait bc.move_vertically(1)\nawait bc.close_claw()\n\nawait bc.move_vertically(-2)\nawait bc.move_horizontally(-3)\nawait bc.open_claw()",
      "metadata": {
        "trusted": true
      },
      "execution_count": null,
      "outputs": []
    },
    {
      "cell_type": "markdown",
      "source": "# Done! 😁\n## More challenges (without complete solutions) will be available in the file browser.",
      "metadata": {}
    },
    {
      "cell_type": "markdown",
      "source": "<br>\n<br>\n\n# Tip 💡\nNot yet familiar with the **await** keyword?\nRead about async/await basics and the asyncio package [here](https://docs.python.org/3/library/asyncio-task.html).\n<br>\nAsync functions enables concurrency, as in the faster [alternative solution](./demo_challenge_concurrent.ipynb) to this demo challenge.",
      "metadata": {}
    }
  ]
}