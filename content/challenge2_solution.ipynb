{
  "cells": [
    {
      "cell_type": "markdown",
      "metadata": {},
      "source": [
        "# Challenge 2\n",
        "## Sort colors by weight\n",
        "\n",
        "The marbles are color coded by weight. But you don't know which color corresponds to what weight. Put all marbles in the leftmost column, sorted by weight with the heaviest at the bottom, lightest on top.\n",
        "\n",
        "The two rightmost columns are equipped with a balance scale <span style=\"font-size:32px;\">⚖️</span>. It can tell you which column contains the heaviest marble(s). Use the provided API to read the scales output."
      ]
    },
    {
      "cell_type": "code",
      "execution_count": null,
      "metadata": {
        "trusted": true
      },
      "outputs": [],
      "source": [
        "import asyncio\n",
        "%pip install ballsort\n",
        "from ballsort.ballsort_display_utils import open_bs_window\n",
        "open_bs_window()"
      ]
    },
    {
      "cell_type": "code",
      "execution_count": null,
      "metadata": {
        "trusted": true
      },
      "outputs": [],
      "source": [
        "from control_factory import get_ch2_control_sim\n",
        "bc = get_ch2_control_sim(delay_multiplier=0.6)"
      ]
    },
    {
      "cell_type": "code",
      "execution_count": null,
      "metadata": {
        "trusted": true
      },
      "outputs": [],
      "source": [
        "from ch2_scenario import Ch2Scenario\n",
        "await bc.set_scenario(Ch2Scenario())"
      ]
    },
    {
      "cell_type": "code",
      "execution_count": null,
      "metadata": {
        "trusted": true
      },
      "outputs": [],
      "source": [
        "from ball_control import BallControl\n",
        "from state_update_model import StatePosition"
      ]
    },
    {
      "cell_type": "code",
      "execution_count": null,
      "metadata": {
        "trusted": true
      },
      "outputs": [],
      "source": [
        "async def move_ball(bc: BallControl, src: StatePosition, dest: StatePosition):    \n",
        "    rel_x = src.x - bc.get_position().x\n",
        "    rel_y = src.y - bc.get_position().y\n",
        "    await asyncio.gather(\n",
        "        bc.move_horizontally(rel_x),\n",
        "        bc.move_vertically(rel_y),\n",
        "        bc.open_claw())\n",
        "    await bc.close_claw()\n",
        "    \n",
        "    rel_x = dest.x - bc.get_position().x\n",
        "    rel_y = dest.y - bc.get_position().y\n",
        "    await asyncio.gather(\n",
        "        bc.move_horizontally(rel_x),\n",
        "        bc.move_vertically(rel_y))\n",
        "    await bc.open_claw()"
      ]
    },
    {
      "cell_type": "code",
      "execution_count": null,
      "metadata": {
        "trusted": true
      },
      "outputs": [],
      "source": [
        "def scale_output_positions(scale_output: int) -> tuple[int, int]:\n",
        "    if scale_output < 0:\n",
        "        return 2,3\n",
        "    return 3,2"
      ]
    },
    {
      "cell_type": "code",
      "execution_count": null,
      "metadata": {
        "trusted": true
      },
      "outputs": [],
      "source": [
        "async def challenge2_solution():    \n",
        "    # populate scale\n",
        "    await move_ball(bc=bc, src=StatePosition(x=1, y=2), dest=StatePosition(x=2, y=4))\n",
        "    await move_ball(bc=bc, src=StatePosition(x=1, y=3), dest=StatePosition(x=3, y=4))\n",
        "    x1_heavy, x1_light = scale_output_positions(await bc.read_scales())\n",
        "\n",
        "    # move heaviest to leftmost column bottom\n",
        "    await move_ball(bc=bc, src=StatePosition(x=x1_heavy, y=4), dest=StatePosition(x=0, y=4))\n",
        "\n",
        "    # move the last one to vacant scale column\n",
        "    await move_ball(bc=bc, src=StatePosition(x=1, y=4), dest=StatePosition(x=x1_heavy, y=4))\n",
        "\n",
        "    x2_heavy, x2_light = scale_output_positions(await bc.read_scales())\n",
        "    \n",
        "    if x2_heavy == x1_light:\n",
        "        await move_ball(bc=bc, src=StatePosition(x=x2_heavy, y=4), dest=StatePosition(x=0, y=3))\n",
        "        await move_ball(bc=bc, src=StatePosition(x=x2_light, y=4), dest=StatePosition(x=0, y=2))\n",
        "        return\n",
        "\n",
        "    assert(x1_heavy == x2_heavy)\n",
        "    assert(x1_light == x2_light)\n",
        "\n",
        "    # temporarily move the light one to column 1\n",
        "    await move_ball(bc=bc, src=StatePosition(x=x2_light, y=4), dest=StatePosition(x=1, y=4))\n",
        "\n",
        "    # col0 -> vacant scale position\n",
        "    await move_ball(bc=bc, src=StatePosition(x=0, y=4), dest=StatePosition(x=x2_light, y=4))\n",
        "\n",
        "    x3_heavy, x3_light = scale_output_positions(await bc.read_scales())\n",
        "    await move_ball(bc=bc, src=StatePosition(x=x3_heavy, y=4), dest=StatePosition(x=0, y=4))\n",
        "    await move_ball(bc=bc, src=StatePosition(x=x3_light, y=4), dest=StatePosition(x=0, y=3))\n",
        "    assert(not bc.is_in_goal_state())\n",
        "    await move_ball(bc=bc, src=StatePosition(x=1, y=4), dest=StatePosition(x=0, y=2))\n",
        "    assert(bc.is_in_goal_state())\n",
        "    "
      ]
    },
    {
      "cell_type": "code",
      "execution_count": null,
      "metadata": {
        "trusted": true
      },
      "outputs": [],
      "source": [
        "await challenge2_solution()"
      ]
    },
    {
      "cell_type": "code",
      "execution_count": null,
      "metadata": {},
      "outputs": [],
      "source": []
    }
  ],
  "metadata": {
    "kernelspec": {
      "display_name": "Python (Pyodide)",
      "language": "python",
      "name": "python"
    },
    "language_info": {
      "codemirror_mode": {
        "name": "python",
        "version": 3
      },
      "file_extension": ".py",
      "mimetype": "text/x-python",
      "name": "python",
      "nbconvert_exporter": "python",
      "pygments_lexer": "ipython3",
      "version": "3.8"
    }
  },
  "nbformat": 4,
  "nbformat_minor": 4
}
