{
  "metadata": {
    "kernelspec": {
      "display_name": "Python (Pyodide)",
      "language": "python",
      "name": "python"
    },
    "language_info": {
      "codemirror_mode": {
        "name": "python",
        "version": 3
      },
      "file_extension": ".py",
      "mimetype": "text/x-python",
      "name": "python",
      "nbconvert_exporter": "python",
      "pygments_lexer": "ipython3",
      "version": "3.8"
    }
  },
  "nbformat_minor": 4,
  "nbformat": 4,
  "cells": [
    {
      "cell_type": "markdown",
      "source": "# Two handed swap\n\nSwap positions of the two marbles.\nYou have two claws in this scenario. Select which claw to operate with the __claw_index__ parameter.\nNote that the two claws must not collide and only the middle column is accessible to both claws.\n\nExample:\n```python\n#right claw\nawait bc.move_horizontally(distance=-1, claw_index=1),\n\n#left claw, claw_index is 0 by default\nawait bc.move_horizontally(distance=1),\n```",
      "metadata": {}
    },
    {
      "cell_type": "code",
      "source": "import asyncio\n%pip install ballsort\nfrom ballsort.ballsort_display_utils import open_bs_window\nopen_bs_window()",
      "metadata": {
        "trusted": true
      },
      "execution_count": null,
      "outputs": []
    },
    {
      "cell_type": "code",
      "source": "from control_factory import get_ch6_control_sim\nfrom ch6_scenario import Ch6Scenario",
      "metadata": {
        "trusted": true
      },
      "execution_count": null,
      "outputs": []
    },
    {
      "cell_type": "code",
      "source": "async def challenge6_solution():\n    bc = get_ch6_control_sim(delay_multiplier=0.3)\n    await bc.set_scenario(Ch6Scenario())\n    \n    # your solution here\n    ",
      "metadata": {
        "trusted": true
      },
      "execution_count": null,
      "outputs": []
    },
    {
      "cell_type": "code",
      "source": "await challenge6_solution()",
      "metadata": {
        "trusted": true
      },
      "execution_count": null,
      "outputs": []
    }
  ]
}